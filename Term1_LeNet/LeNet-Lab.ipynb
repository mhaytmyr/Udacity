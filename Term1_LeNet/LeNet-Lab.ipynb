{
 "metadata": {
  "anaconda-cloud": {},
  "kernelspec": {
   "display_name": "Python 3",
   "language": "python",
   "name": "python3"
  },
  "language_info": {
   "codemirror_mode": {
    "name": "ipython",
    "version": 3
   },
   "file_extension": ".py",
   "mimetype": "text/x-python",
   "name": "python",
   "nbconvert_exporter": "python",
   "pygments_lexer": "ipython3",
   "version": "3.5.2"
  },
  "name": "",
  "signature": "sha256:a4b7c3c29f231d2708840db91155ddf748bcc51419fdfb168ea1122728edf5c6",
  "widgets": {
   "state": {},
   "version": "1.1.2"
  }
 },
 "nbformat": 3,
 "nbformat_minor": 0,
 "worksheets": [
  {
   "cells": [
    {
     "cell_type": "markdown",
     "metadata": {},
     "source": [
      "# LeNet Lab\n",
      "![LeNet Architecture](lenet.png)\n",
      "Source: Yan LeCun"
     ]
    },
    {
     "cell_type": "markdown",
     "metadata": {},
     "source": [
      "## Load Data\n",
      "\n",
      "Load the MNIST data, which comes pre-loaded with TensorFlow.\n",
      "\n",
      "You do not need to modify this section."
     ]
    },
    {
     "cell_type": "code",
     "collapsed": false,
     "input": [
      "from tensorflow.examples.tutorials.mnist import input_data\n",
      "\n",
      "mnist = input_data.read_data_sets(\"MNIST_data/\", reshape=False)\n",
      "X_train, y_train           = mnist.train.images, mnist.train.labels\n",
      "X_validation, y_validation = mnist.validation.images, mnist.validation.labels\n",
      "X_test, y_test             = mnist.test.images, mnist.test.labels\n",
      "\n",
      "assert(len(X_train) == len(y_train))\n",
      "assert(len(X_validation) == len(y_validation))\n",
      "assert(len(X_test) == len(y_test))\n",
      "\n",
      "print()\n",
      "print(\"Image Shape: {}\".format(X_train[0].shape))\n",
      "print()\n",
      "print(\"Training Set:   {} samples\".format(len(X_train)))\n",
      "print(\"Validation Set: {} samples\".format(len(X_validation)))\n",
      "print(\"Test Set:       {} samples\".format(len(X_test)))"
     ],
     "language": "python",
     "metadata": {},
     "outputs": [
      {
       "output_type": "stream",
       "stream": "stdout",
       "text": [
        "Extracting MNIST_data/train-images-idx3-ubyte.gz\n",
        "Extracting"
       ]
      },
      {
       "output_type": "stream",
       "stream": "stdout",
       "text": [
        " MNIST_data/train-labels-idx1-ubyte.gz\n",
        "Extracting MNIST_data/t10k-images-idx3-ubyte.gz\n",
        "Extracting MNIST_data/t10k-labels-idx1-ubyte.gz\n",
        "\n"
       ]
      },
      {
       "output_type": "stream",
       "stream": "stdout",
       "text": [
        "Image Shape: (28, 28, 1)\n",
        "\n",
        "Training Set:   55000 samples\n",
        "Validation Set: 5000 samples\n",
        "Test Set:       10000 samples\n"
       ]
      }
     ],
     "prompt_number": 1
    },
    {
     "cell_type": "markdown",
     "metadata": {},
     "source": [
      "The MNIST data that TensorFlow pre-loads comes as 28x28x1 images.\n",
      "\n",
      "However, the LeNet architecture only accepts 32x32xC images, where C is the number of color channels.\n",
      "\n",
      "In order to reformat the MNIST data into a shape that LeNet will accept, we pad the data with two rows of zeros on the top and bottom, and two columns of zeros on the left and right (28+2+2 = 32).\n",
      "\n",
      "You do not need to modify this section."
     ]
    },
    {
     "cell_type": "code",
     "collapsed": false,
     "input": [
      "import numpy as np\n",
      "\n",
      "# Pad images with 0s\n",
      "X_train      = np.pad(X_train, ((0,0),(2,2),(2,2),(0,0)), 'constant')\n",
      "X_validation = np.pad(X_validation, ((0,0),(2,2),(2,2),(0,0)), 'constant')\n",
      "X_test       = np.pad(X_test, ((0,0),(2,2),(2,2),(0,0)), 'constant')\n",
      "    \n",
      "print(\"Updated Image Shape: {}\".format(X_train[0].shape))"
     ],
     "language": "python",
     "metadata": {},
     "outputs": [
      {
       "output_type": "stream",
       "stream": "stdout",
       "text": [
        "Updated Image Shape: (32, 32, 1)\n"
       ]
      }
     ],
     "prompt_number": 2
    },
    {
     "cell_type": "markdown",
     "metadata": {},
     "source": [
      "## Visualize Data\n",
      "\n",
      "View a sample from the dataset.\n",
      "\n",
      "You do not need to modify this section."
     ]
    },
    {
     "cell_type": "code",
     "collapsed": false,
     "input": [
      "import random\n",
      "import numpy as np\n",
      "import matplotlib.pyplot as plt\n",
      "%matplotlib inline\n",
      "\n",
      "index = random.randint(0, len(X_train))\n",
      "image = X_train[index].squeeze()\n",
      "\n",
      "plt.figure(figsize=(1,1))\n",
      "plt.imshow(image, cmap=\"gray\")\n",
      "print(y_train[index])"
     ],
     "language": "python",
     "metadata": {},
     "outputs": [
      {
       "output_type": "stream",
       "stream": "stdout",
       "text": [
        "0\n"
       ]
      },
      {
       "metadata": {},
       "output_type": "display_data",
       "png": "[encoded data removed]",
       "text": [
        "<matplotlib.figure.Figure at 0x7f0d355d7320>"
       ]
      }
     ],
     "prompt_number": 3
    },
    {
     "cell_type": "markdown",
     "metadata": {},
     "source": [
      "## Preprocess Data\n",
      "\n",
      "Shuffle the training data.\n",
      "\n",
      "You do not need to modify this section."
     ]
    },
    {
     "cell_type": "code",
     "collapsed": false,
     "input": [
      "from sklearn.utils import shuffle\n",
      "\n",
      "X_train, y_train = shuffle(X_train, y_train)"
     ],
     "language": "python",
     "metadata": {},
     "outputs": [],
     "prompt_number": 4
    },
    {
     "cell_type": "markdown",
     "metadata": {},
     "source": [
      "## Setup TensorFlow\n",
      "The `EPOCH` and `BATCH_SIZE` values affect the training speed and model accuracy.\n",
      "\n",
      "You do not need to modify this section."
     ]
    },
    {
     "cell_type": "code",
     "collapsed": true,
     "input": [
      "import tensorflow as tf\n",
      "\n",
      "EPOCHS = 10\n",
      "BATCH_SIZE = 256"
     ],
     "language": "python",
     "metadata": {},
     "outputs": [],
     "prompt_number": 5
    },
    {
     "cell_type": "markdown",
     "metadata": {},
     "source": [
      "## TODO: Implement LeNet-5\n",
      "Implement the [LeNet-5](http://yann.lecun.com/exdb/lenet/) neural network architecture.\n",
      "\n",
      "This is the only cell you need to edit.\n",
      "### Input\n",
      "The LeNet architecture accepts a 32x32xC image as input, where C is the number of color channels. Since MNIST images are grayscale, C is 1 in this case.\n",
      "\n",
      "### Architecture\n",
      "**Layer 1: Convolutional.** The output shape should be 28x28x6.\n",
      "\n",
      "**Activation.** Your choice of activation function.\n",
      "\n",
      "**Pooling.** The output shape should be 14x14x6.\n",
      "\n",
      "**Layer 2: Convolutional.** The output shape should be 10x10x16.\n",
      "\n",
      "**Activation.** Your choice of activation function.\n",
      "\n",
      "**Pooling.** The output shape should be 5x5x16.\n",
      "\n",
      "**Flatten.** Flatten the output shape of the final pooling layer such that it's 1D instead of 3D. The easiest way to do is by using `tf.contrib.layers.flatten`, which is already imported for you.\n",
      "\n",
      "**Layer 3: Fully Connected.** This should have 120 outputs.\n",
      "\n",
      "**Activation.** Your choice of activation function.\n",
      "\n",
      "**Layer 4: Fully Connected.** This should have 84 outputs.\n",
      "\n",
      "**Activation.** Your choice of activation function.\n",
      "\n",
      "**Layer 5: Fully Connected (Logits).** This should have 10 outputs.\n",
      "\n",
      "### Output\n",
      "Return the result of the 2nd fully connected layer."
     ]
    },
    {
     "cell_type": "code",
     "collapsed": true,
     "input": [
      "from tensorflow.contrib.layers import flatten\n",
      "\n",
      "class LeNetModel:\n",
      "    def __init__(self,height,width,channel,mu_init,sigma_init):\n",
      "        self.mu = mu_init\n",
      "        self.sigma = sigma_init\n",
      "        self.H = height\n",
      "        self.W = width\n",
      "        self.C = channel\n",
      "        \n",
      "    def build(self,filter1,filter2,layer1,layer2,kernel1,kernel2):\n",
      "        \n",
      "        #define variables and expressions\n",
      "        self.inputs = tf.placeholder(tf.float32,[None, self.H, self.W, self.C])\n",
      "        \n",
      "        #create convolution layer 1\n",
      "        self.W1 = tf.Variable(tf.truncated_normal(mean=self.mu,stddev=self.sigma,\n",
      "                                            shape=[kernel1,kernel1,self.C,filter1]\n",
      "                                            ),\n",
      "                        name = \"conv1_w\"\n",
      "                        )\n",
      "        self.b1 = tf.Variable(tf.zeros(shape=[filter1]),\n",
      "                        name = \"conv1_b\"\n",
      "                        )\n",
      "        \n",
      "        conv1 = tf.nn.conv2d(self.inputs, self.W1, strides=[1,1,1,1], padding=\"VALID\")\n",
      "        conv1 = tf.nn.relu(tf.nn.bias_add(conv1,self.b1), name = \"conv1\")\n",
      "        print(\"Conv1 shape \",conv1.shape)\n",
      "        \n",
      "        #create max pooling layer1\n",
      "        pool1 = tf.nn.max_pool(conv1,ksize=[1,2,2,1],strides=[1,2,2,1],padding=\"VALID\", name=\"pool1\")\n",
      "        print(\"Pool1 shape \",pool1.shape)\n",
      "        \n",
      "        #create convolution 2\n",
      "        self.W2 = tf.Variable(tf.truncated_normal(mean=self.mu,stddev=self.sigma,\n",
      "                                            shape = [kernel2,kernel2,filter1,filter2]\n",
      "                                            ),\n",
      "                        name = \"conv2_w\"\n",
      "                        )\n",
      "        self.b2 = tf.Variable(tf.zeros(shape=[filter2]),\n",
      "                        name = \"conv2_b\"\n",
      "                        )\n",
      "        \n",
      "        conv2 = tf.nn.conv2d(pool1,self.W2, strides = [1,1,1,1], padding = \"VALID\")\n",
      "        conv2 = tf.nn.relu(tf.nn.bias_add(conv2,self.b2), name=\"conv2\")\n",
      "        print(\"Conv2 shape \",conv2.shape)\n",
      "        \n",
      "        #create max pooling 2\n",
      "        pool2 = tf.nn.max_pool(conv2,ksize=[1,2,2,1],strides=[1,2,2,1], padding=\"VALID\")\n",
      "        print(\"Flat shape \",pool2.shape)\n",
      "        \n",
      "        pool2 = flatten(pool2)\n",
      "        print(\"Flat shape \",pool2.shape)\n",
      "        \n",
      "        self.W3 = tf.Variable(tf.truncated_normal(mean=self.mu, stddev=self.sigma, \n",
      "                                                  shape=[tf.cast(pool2.shape[1],tf.int32),layer1]),\n",
      "                              name = \"dense1_w\"\n",
      "                              )\n",
      "        self.b3 = tf.Variable(tf.truncated_normal(mean=self.mu, stddev=self.sigma,\n",
      "                                                  shape=[layer1]),\n",
      "                              name = \"dense1_b\"\n",
      "                              )\n",
      "        Z1 = tf.nn.bias_add(tf.matmul(pool2,self.W3),self.b3)\n",
      "        fc1 = tf.nn.sigmoid(Z1)\n",
      "        \n",
      "        print(\"Flat 2 shape \",fc1.shape)\n",
      "        \n",
      "        self.W4 = tf.Variable(tf.truncated_normal(mean=self.mu, stddev=self.sigma,\n",
      "                                                  shape = [layer1,10]),\n",
      "                              name = \"dense2_w\"\n",
      "                              )\n",
      "        self.b4 = tf.Variable(tf.truncated_normal(mean=self.mu, stddev=self.sigma,\n",
      "                                                  shape = [10]\n",
      "                                                  ),\n",
      "                              name = \"dense2_b\"\n",
      "                              )\n",
      "        \n",
      "        Z2 = tf.nn.bias_add(tf.matmul(fc1,self.W4),self.b4)\n",
      "        print(\"Flat 3 shape \",Z2.shape)\n",
      "        self.Y = tf.nn.sigmoid(Z2)\n",
      "        \n",
      "        return self.Y\n",
      "\n",
      "        \n",
      "\n",
      "def LeNet(x):    \n",
      "    # Arguments used for tf.truncated_normal, randomly defines variables for the weights and biases for each layer\n",
      "    mu = 0\n",
      "    sigma = 0.1\n",
      "    \n",
      "    #batch_size = x.shape[0]\n",
      "    \n",
      "    #Layer 1: Convolutional. Input = 32x32x1. Output = 28x28x6.\n",
      "    with tf.variable_scope(\"conv1\") as scope:\n",
      "        w = tf.get_variable(\"conv1_weight\",\n",
      "                            shape = [5,5,1,6],\n",
      "                            initializer = tf.truncated_normal_initializer(mean=mu,stddev=sigma)\n",
      "                            )\n",
      "        b = tf.get_variable(\"conv1_bias\",\n",
      "                            initializer = tf.zeros(shape = [6])\n",
      "                            )\n",
      "    \n",
      "        conv1 = tf.nn.conv2d(x,w,strides=[1,1,1,1],padding=\"VALID\")\n",
      "        conv1 = tf.nn.relu(tf.nn.bias_add(conv1,b), name=scope.name)\n",
      "        \n",
      "    print(\"Conv1 shape \",conv1.shape)\n",
      "\n",
      "    # TODO: Pooling. Input = 28x28x6. Output = 14x14x6.\n",
      "    with tf.variable_scope(\"pool1\") as scope:\n",
      "        pool1 = tf.nn.max_pool(conv1,\n",
      "                               ksize = [1,2,2,1],\n",
      "                               strides = [1,2,2,1],\n",
      "                               padding=\"VALID\", name=scope.name\n",
      "                               )\n",
      "        \n",
      "    print(\"Pool1 shape \",pool1.shape)\n",
      "    \n",
      "    # TODO: Layer 2: Convolutional. Output = 10x10x16.\n",
      "    with tf.variable_scope(\"conv2\") as scope:\n",
      "        w = tf.get_variable(\"conv2_weight\",\n",
      "                            shape = [5,5,6,16],\n",
      "                            initializer = tf.truncated_normal_initializer(mean=mu, stddev=sigma)\n",
      "                            )\n",
      "        b = tf.get_variable(\"conv2_bias\",\n",
      "                            initializer = tf.zeros(shape = [16])\n",
      "                            )\n",
      "        conv2 = tf.nn.conv2d(pool1,w,strides=[1,1,1,1],padding=\"VALID\")\n",
      "        conv2 = tf.nn.relu(tf.nn.bias_add(conv2,b),name=scope.name)\n",
      "\n",
      "    print(\"Conv2 shape \",conv2.shape)\n",
      "    # TODO: Pooling. Input = 10x10x16. Output = 5x5x16.\n",
      "    with tf.variable_scope(\"pool2\") as scope:\n",
      "        pool2 = tf.nn.max_pool(conv2,\n",
      "                               ksize=[1,2,2,1],\n",
      "                               strides = [1,2,2,1],\n",
      "                               padding = \"VALID\", name = scope.name\n",
      "                               )\n",
      "        \n",
      "    print(\"Pool2 shape \",pool2.shape)\n",
      "    \n",
      "    # TODO: Flatten. Input = 5x5x16. Output = 400.\n",
      "    pool2 = flatten(pool2)\n",
      "    \n",
      "    # TODO: Layer 3: Fully Connected. Input = 400. Output = 120.\n",
      "    with tf.variable_scope(\"fc1\") as scope:\n",
      "        w = tf.get_variable(\"fc1_weight\",\n",
      "                            shape = [400,120],\n",
      "                            initializer = tf.truncated_normal_initializer(mean=mu,stddev=sigma)\n",
      "                            )\n",
      "        b = tf.get_variable(\"fc1_bias\",\n",
      "                            initializer = tf.zeros(shape=[120])\n",
      "                            )\n",
      "        Z1 = tf.add(tf.matmul(pool2,w),b)\n",
      "        \n",
      "        batch_mean, batch_var = tf.nn.moments(Z1,[0])\n",
      "        Z1 = tf.nn.batch_normalization(Z1,mean=batch_mean, variance=batch_var, offset=None, scale=1,variance_epsilon=1e-10)\n",
      "        \n",
      "        \n",
      "    # TODO: Activation.\n",
      "    fc1 = tf.nn.sigmoid(Z1)\n",
      "    print(\"FC1 shape \",fc1.shape)\n",
      "    \n",
      "    # TODO: Layer 4: Fully Connected. Input = 120. Output = 84.\n",
      "    with tf.variable_scope(\"fc2\") as scope:\n",
      "        w = tf.get_variable(\"fc2_weight\",\n",
      "                            shape = [120,84],\n",
      "                            initializer = tf.truncated_normal_initializer(mean=mu,stddev=sigma)\n",
      "                            )\n",
      "        b = tf.get_variable(\"fc2_bias\",\n",
      "                            initializer = tf.zeros(shape=[84])\n",
      "                            )\n",
      "        Z2 = tf.add(tf.matmul(fc1,w),b)\n",
      "        batch_mean, batch_var = tf.nn.moments(Z2,[0])\n",
      "        Z2 = tf.nn.batch_normalization(Z2,mean=batch_mean, variance=batch_var, offset=None, scale=1,variance_epsilon=1e-10)\n",
      "        \n",
      "    \n",
      "    # TODO: Activation.\n",
      "    fc2 = tf.nn.sigmoid(Z2)\n",
      "    \n",
      "    print(\"FC2 shape \",fc2.shape)\n",
      "\n",
      "    # TODO: Layer 5: Fully Connected. Input = 84. Output = 10.\n",
      "    with tf.variable_scope(\"fc3\") as scope:\n",
      "        w = tf.get_variable(\"fc3_weight\",\n",
      "                            shape = [84,10],\n",
      "                            initializer = tf.truncated_normal_initializer(mean=mu,stddev=sigma)\n",
      "                            )\n",
      "        b = tf.get_variable(\"fc3_bias\",\n",
      "                            initializer = tf.zeros(shape=[10])\n",
      "                            )\n",
      "        fc3 = tf.add(tf.matmul(fc2,w),b)\n",
      "    \n",
      "    print(\"FC3 shape \",fc3.shape)\n",
      "    logits = fc3\n",
      "    \n",
      "    return logits"
     ],
     "language": "python",
     "metadata": {},
     "outputs": [],
     "prompt_number": 6
    },
    {
     "cell_type": "markdown",
     "metadata": {},
     "source": [
      "## Features and Labels\n",
      "Train LeNet to classify [MNIST](http://yann.lecun.com/exdb/mnist/) data.\n",
      "\n",
      "`x` is a placeholder for a batch of input images.\n",
      "`y` is a placeholder for a batch of output labels.\n",
      "\n",
      "You do not need to modify this section."
     ]
    },
    {
     "cell_type": "code",
     "collapsed": false,
     "input": [
      "x = tf.placeholder(tf.float32, (None, 32, 32, 1))\n",
      "y = tf.placeholder(tf.int32, (None))\n",
      "one_hot_y = tf.one_hot(y, 10)"
     ],
     "language": "python",
     "metadata": {},
     "outputs": [],
     "prompt_number": 7
    },
    {
     "cell_type": "markdown",
     "metadata": {},
     "source": [
      "## Training Pipeline\n",
      "Create a training pipeline that uses the model to classify MNIST data.\n",
      "\n",
      "You do not need to modify this section."
     ]
    },
    {
     "cell_type": "code",
     "collapsed": false,
     "input": [
      "rate = 0.001\n",
      "mu = 0\n",
      "sigma = 0.1\n",
      "\n",
      "model = LeNetModel(32,32,1,mu_init=mu,sigma_init=sigma)\n",
      "logits = model.build(filter1=6,filter2=16,layer1=120,layer2=84,kernel1=5,kernel2=5)\n",
      "\n",
      "logits2 = LeNet(x)\n",
      "cross_entropy = tf.nn.softmax_cross_entropy_with_logits(labels=one_hot_y, logits=logits)\n",
      "loss_operation = tf.reduce_mean(cross_entropy)\n",
      "optimizer = tf.train.AdamOptimizer(learning_rate = rate)\n",
      "training_operation = optimizer.minimize(loss_operation)"
     ],
     "language": "python",
     "metadata": {},
     "outputs": [
      {
       "output_type": "stream",
       "stream": "stdout",
       "text": [
        "Conv1 shape  (?, 28, 28, 6)\n",
        "Pool1 shape  (?, 14, 14, 6)\n",
        "Conv2 shape  (?, 10, 10, 16)\n",
        "Flat shape  (?, 5, 5, 16)\n",
        "Flat shape  (?, 400)\n",
        "Flat 2 shape  (?, 120)\n",
        "Flat 3 shape "
       ]
      },
      {
       "output_type": "stream",
       "stream": "stdout",
       "text": [
        " (?, 10)\n",
        "Conv1 shape  (?, 28, 28, 6)\n",
        "Pool1 shape  (?, 14, 14, 6)\n",
        "Conv2 shape  (?, 10, 10, 16)\n",
        "Pool2 shape  (?, 5, 5, 16)\n",
        "FC1 shape "
       ]
      },
      {
       "output_type": "stream",
       "stream": "stdout",
       "text": [
        " (?, 120)\n",
        "FC2 shape "
       ]
      },
      {
       "output_type": "stream",
       "stream": "stdout",
       "text": [
        " (?, 84)\n",
        "FC3 shape  (?, 10)\n"
       ]
      }
     ],
     "prompt_number": 8
    },
    {
     "cell_type": "markdown",
     "metadata": {},
     "source": [
      "## Model Evaluation\n",
      "Evaluate how well the loss and accuracy of the model for a given dataset.\n",
      "\n",
      "You do not need to modify this section."
     ]
    },
    {
     "cell_type": "code",
     "collapsed": true,
     "input": [
      "correct_prediction = tf.equal(tf.argmax(logits, 1), tf.argmax(one_hot_y, 1))\n",
      "accuracy_operation = tf.reduce_mean(tf.cast(correct_prediction, tf.float32))\n",
      "saver = tf.train.Saver()\n",
      "\n",
      "def evaluate(X_data, y_data,model):\n",
      "    num_examples = len(X_data)\n",
      "    total_accuracy = 0\n",
      "    sess = tf.get_default_session()\n",
      "    for offset in range(0, num_examples, BATCH_SIZE):\n",
      "        batch_x, batch_y = X_data[offset:offset+BATCH_SIZE], y_data[offset:offset+BATCH_SIZE]\n",
      "        #accuracy = sess.run(accuracy_operation, feed_dict={x: batch_x, y: batch_y})\n",
      "        accuracy = sess.run(accuracy_operation, feed_dict={model.inputs: batch_x, y: batch_y})\n",
      "        total_accuracy += (accuracy * len(batch_x))\n",
      "    return total_accuracy / num_examples"
     ],
     "language": "python",
     "metadata": {},
     "outputs": [],
     "prompt_number": 11
    },
    {
     "cell_type": "markdown",
     "metadata": {},
     "source": [
      "## Train the Model\n",
      "Run the training data through the training pipeline to train the model.\n",
      "\n",
      "Before each epoch, shuffle the training set.\n",
      "\n",
      "After each epoch, measure the loss and accuracy of the validation set.\n",
      "\n",
      "Save the model after training.\n",
      "\n",
      "You do not need to modify this section."
     ]
    },
    {
     "cell_type": "code",
     "collapsed": false,
     "input": [
      "with tf.Session() as sess:\n",
      "    sess.run(tf.global_variables_initializer())\n",
      "    num_examples = len(X_train)\n",
      "    \n",
      "    print(\"Training...\")\n",
      "    print()\n",
      "    for i in range(EPOCHS):\n",
      "        X_train, y_train = shuffle(X_train, y_train)\n",
      "        for offset in range(0, num_examples, BATCH_SIZE):\n",
      "            end = offset + BATCH_SIZE\n",
      "            batch_x, batch_y = X_train[offset:end], y_train[offset:end]\n",
      "#             sess.run(training_operation, feed_dict={x: batch_x, y: batch_y})\n",
      "            sess.run(training_operation, feed_dict={model.inputs: batch_x, y: batch_y})\n",
      "            \n",
      "        validation_accuracy = evaluate(X_validation, y_validation, model)\n",
      "        print(\"EPOCH {} ...\".format(i+1))\n",
      "        print(\"Validation Accuracy = {:.3f}\".format(validation_accuracy))\n",
      "        print()\n",
      "        \n",
      "    saver.save(sess, './lenet')\n",
      "    print(\"Model saved\")"
     ],
     "language": "python",
     "metadata": {},
     "outputs": [
      {
       "output_type": "stream",
       "stream": "stdout",
       "text": [
        "Training...\n",
        "\n",
        "EPOCH 1 ..."
       ]
      },
      {
       "output_type": "stream",
       "stream": "stdout",
       "text": [
        "\n",
        "Validation Accuracy = 0.944\n",
        "\n",
        "EPOCH 2 ..."
       ]
      },
      {
       "output_type": "stream",
       "stream": "stdout",
       "text": [
        "\n",
        "Validation Accuracy = 0.964\n",
        "\n",
        "EPOCH 3 ..."
       ]
      },
      {
       "output_type": "stream",
       "stream": "stdout",
       "text": [
        "\n",
        "Validation Accuracy = 0.969\n",
        "\n",
        "EPOCH 4 ..."
       ]
      },
      {
       "output_type": "stream",
       "stream": "stdout",
       "text": [
        "\n",
        "Validation Accuracy = 0.975\n",
        "\n",
        "EPOCH 5 ..."
       ]
      },
      {
       "output_type": "stream",
       "stream": "stdout",
       "text": [
        "\n",
        "Validation Accuracy = 0.979\n",
        "\n",
        "EPOCH 6 ..."
       ]
      },
      {
       "output_type": "stream",
       "stream": "stdout",
       "text": [
        "\n",
        "Validation Accuracy = 0.979\n",
        "\n",
        "EPOCH 7 ..."
       ]
      },
      {
       "output_type": "stream",
       "stream": "stdout",
       "text": [
        "\n",
        "Validation Accuracy = 0.981\n",
        "\n",
        "EPOCH 8 ..."
       ]
      },
      {
       "output_type": "stream",
       "stream": "stdout",
       "text": [
        "\n",
        "Validation Accuracy = 0.983\n",
        "\n",
        "EPOCH 9 ..."
       ]
      },
      {
       "output_type": "stream",
       "stream": "stdout",
       "text": [
        "\n",
        "Validation Accuracy = 0.984\n",
        "\n",
        "EPOCH 10 ..."
       ]
      },
      {
       "output_type": "stream",
       "stream": "stdout",
       "text": [
        "\n",
        "Validation Accuracy = 0.985\n",
        "\n",
        "Model saved"
       ]
      },
      {
       "output_type": "stream",
       "stream": "stdout",
       "text": [
        "\n"
       ]
      }
     ],
     "prompt_number": 14
    },
    {
     "cell_type": "markdown",
     "metadata": {},
     "source": [
      "## Evaluate the Model\n",
      "Once you are completely satisfied with your model, evaluate the performance of the model on the test set.\n",
      "\n",
      "Be sure to only do this once!\n",
      "\n",
      "If you were to measure the performance of your trained model on the test set, then improve your model, and then measure the performance of your model on the test set again, that would invalidate your test results. You wouldn't get a true measure of how well your model would perform against real data.\n",
      "\n",
      "You do not need to modify this section."
     ]
    },
    {
     "cell_type": "code",
     "collapsed": false,
     "input": [
      "with tf.Session() as sess:\n",
      "    saver.restore(sess, tf.train.latest_checkpoint('.'))\n",
      "\n",
      "    test_accuracy = evaluate(X_test, y_test, model)\n",
      "    print(\"Test Accuracy = {:.3f}\".format(test_accuracy))"
     ],
     "language": "python",
     "metadata": {},
     "outputs": [
      {
       "output_type": "stream",
       "stream": "stdout",
       "text": [
        "INFO:tensorflow:Restoring parameters from ./lenet\n"
       ]
      },
      {
       "output_type": "stream",
       "stream": "stderr",
       "text": [
        "INFO:tensorflow:Restoring parameters from ./lenet\n"
       ]
      },
      {
       "output_type": "stream",
       "stream": "stdout",
       "text": [
        "Test Accuracy = 0.985\n"
       ]
      }
     ],
     "prompt_number": 15
    },
    {
     "cell_type": "code",
     "collapsed": false,
     "input": [],
     "language": "python",
     "metadata": {},
     "outputs": []
    }
   ],
   "metadata": {}
  }
 ]
}