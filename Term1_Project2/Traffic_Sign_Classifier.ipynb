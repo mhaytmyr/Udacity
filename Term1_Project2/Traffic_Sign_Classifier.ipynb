{
 "metadata": {
  "anaconda-cloud": {},
  "kernelspec": {
   "display_name": "Python 3",
   "language": "python",
   "name": "python3"
  },
  "language_info": {
   "codemirror_mode": {
    "name": "ipython",
    "version": 3
   },
   "file_extension": ".py",
   "mimetype": "text/x-python",
   "name": "python",
   "nbconvert_exporter": "python",
   "pygments_lexer": "ipython3",
   "version": "3.5.2"
  },
  "name": "",
  "signature": "sha256:6a96f6078cf175f720d14fef774f24b05414bf35e142fbd0b5f639a3411ccaa7"
 },
 "nbformat": 3,
 "nbformat_minor": 0,
 "worksheets": [
  {
   "cells": [
    {
     "cell_type": "markdown",
     "metadata": {},
     "source": [
      "# Self-Driving Car Engineer Nanodegree\n",
      "## Project: Build a Traffic Sign Recognition Classifier\n"
     ]
    },
    {
     "cell_type": "markdown",
     "metadata": {},
     "source": [
      "---\n",
      "## Step 0: Load The Data"
     ]
    },
    {
     "cell_type": "code",
     "collapsed": false,
     "input": [
      "# Load pickled data\n",
      "import pickle\n",
      "\n",
      "\n",
      "training_file = \"./train.p\"\n",
      "validation_file= \"./valid.p\"\n",
      "testing_file = \"./test.p\"\n",
      "\n",
      "with open(training_file, mode='rb') as f:\n",
      "    train = pickle.load(f)\n",
      "with open(validation_file, mode='rb') as f:\n",
      "    valid = pickle.load(f)\n",
      "with open(testing_file, mode='rb') as f:\n",
      "    test = pickle.load(f)\n",
      "    \n",
      "X_train, y_train = train['features'], train['labels']\n",
      "X_valid, y_valid = valid['features'], valid['labels']\n",
      "X_test, y_test = test['features'], test['labels']\n"
     ],
     "language": "python",
     "metadata": {},
     "outputs": [],
     "prompt_number": 1
    },
    {
     "cell_type": "code",
     "collapsed": false,
     "input": [
      "from sklearn.utils import shuffle\n",
      "\n",
      "X_train, y_train = shuffle(X_train, y_train)"
     ],
     "language": "python",
     "metadata": {},
     "outputs": [],
     "prompt_number": 36
    },
    {
     "cell_type": "markdown",
     "metadata": {},
     "source": [
      "---\n",
      "\n",
      "## Step 1: Dataset Summary & Exploration\n",
      "\n",
      "The pickled data is a dictionary with 4 key/value pairs:\n",
      "\n",
      "- `'features'` is a 4D array containing raw pixel data of the traffic sign images, (num examples, width, height, channels).\n",
      "- `'labels'` is a 1D array containing the label/class id of the traffic sign. The file `signnames.csv` contains id -> name mappings for each id.\n",
      "- `'sizes'` is a list containing tuples, (width, height) representing the original width and height the image.\n",
      "- `'coords'` is a list containing tuples, (x1, y1, x2, y2) representing coordinates of a bounding box around the sign in the image. **THESE COORDINATES ASSUME THE ORIGINAL IMAGE. THE PICKLED DATA CONTAINS RESIZED VERSIONS (32 by 32) OF THESE IMAGES**\n",
      "\n",
      "Complete the basic data summary below. Use python, numpy and/or pandas methods to calculate the data summary rather than hard coding the results. For example, the [pandas shape method](http://pandas.pydata.org/pandas-docs/stable/generated/pandas.DataFrame.shape.html) might be useful for calculating some of the summary results. "
     ]
    },
    {
     "cell_type": "heading",
     "level": 3,
     "metadata": {},
     "source": [
      "Basic Summary of the Data Set Using Python, Numpy and/or Pandas"
     ]
    },
    {
     "cell_type": "code",
     "collapsed": true,
     "input": [
      "### Replace each question mark with the appropriate value. \n",
      "### Use python, pandas or numpy methods rather than hard coding the results\n",
      "import numpy as np\n",
      "import pandas as pd\n",
      "\n",
      "#Load label traffic sign mapping\n",
      "sign_names = pd.read_csv(\"./signnames.csv\",index_col=\"ClassId\")\n",
      "\n",
      "#Number of training examples\n",
      "n_train = X_train.shape[0]\n",
      "\n",
      "#Number of validation examples\n",
      "n_validation = X_valid.shape[0]\n",
      "\n",
      "#Number of testing examples.\n",
      "n_test = X_test.shape[0]\n",
      "\n",
      "#What's the shape of an traffic sign image?\n",
      "image_shape = X_train[0].shape\n",
      "\n",
      "#How many unique classes/labels there are in the dataset.\n",
      "n_classes = len(np.unique(y_train))\n",
      "\n",
      "print(\"Number of training examples =\", n_train)\n",
      "print(\"Number of testing examples =\", n_test)\n",
      "print(\"Image data shape =\", image_shape)\n",
      "print(\"Number of classes =\", n_classes)"
     ],
     "language": "python",
     "metadata": {},
     "outputs": [
      {
       "output_type": "stream",
       "stream": "stdout",
       "text": [
        "Number of training examples = 34799\n",
        "Number of testing examples = 12630\n",
        "Image data shape = (32, 32, 3)\n",
        "Number of classes = 43\n"
       ]
      }
     ],
     "prompt_number": 37
    },
    {
     "cell_type": "heading",
     "level": 3,
     "metadata": {},
     "source": [
      "Include an exploratory visualization of the dataset"
     ]
    },
    {
     "cell_type": "markdown",
     "metadata": {},
     "source": [
      "Visualize the German Traffic Signs Dataset using the pickled file(s). This is open ended, suggestions include: plotting traffic sign images, plotting the count of each sign, etc. \n",
      "\n",
      "The [Matplotlib](http://matplotlib.org/) [examples](http://matplotlib.org/examples/index.html) and [gallery](http://matplotlib.org/gallery.html) pages are a great resource for doing visualizations in Python.\n",
      "\n",
      "**NOTE:** It's recommended you start with something simple first. If you wish to do more, come back to it after you've completed the rest of the sections. It can be interesting to look at the distribution of classes in the training, validation and test set. Is the distribution the same? Are there more examples of some classes than others?"
     ]
    },
    {
     "cell_type": "code",
     "collapsed": true,
     "input": [
      "### Data exploration visualization code goes here.\n",
      "### Feel free to use as many code cells as needed.\n",
      "import matplotlib.pyplot as plt\n",
      "# Visualizations will be shown in the notebook.\n",
      "%matplotlib inline\n",
      "\n",
      "random_img = np.random.choice(n_train,16)\n",
      "#print(random_img)\n",
      "\n",
      "fig,axis = plt.subplots(ncols=4,nrows=4, figsize=(12,8))\n",
      "ax = axis.ravel()\n",
      "\n",
      "for i in range(len(ax)):\n",
      "    index = random_img[i]\n",
      "    label = y_train[index]\n",
      "    traffic_name = sign_names.ix[label,\"SignName\"]\n",
      "    \n",
      "    ax[i].imshow(X_train[index])\n",
      "    ax[i].set_title(traffic_name)\n",
      "\n",
      "plt.tight_layout()\n",
      "\n"
     ],
     "language": "python",
     "metadata": {},
     "outputs": [
      {
       "metadata": {},
       "output_type": "display_data",
       "png": "[encoded data removed]",
       "text": [
        "<matplotlib.figure.Figure at 0x7f36137275c0>"
       ]
      }
     ],
     "prompt_number": 38
    },
    {
     "cell_type": "markdown",
     "metadata": {},
     "source": [
      "----\n",
      "\n",
      "## Step 2: Design and Test a Model Architecture\n",
      "\n",
      "Design and implement a deep learning model that learns to recognize traffic signs. Train and test your model on the [German Traffic Sign Dataset](http://benchmark.ini.rub.de/?section=gtsrb&subsection=dataset).\n",
      "\n",
      "The LeNet-5 implementation shown in the [classroom](https://classroom.udacity.com/nanodegrees/nd013/parts/fbf77062-5703-404e-b60c-95b78b2f3f9e/modules/6df7ae49-c61c-4bb2-a23e-6527e69209ec/lessons/601ae704-1035-4287-8b11-e2c2716217ad/concepts/d4aca031-508f-4e0b-b493-e7b706120f81) at the end of the CNN lesson is a solid starting point. You'll have to change the number of classes and possibly the preprocessing, but aside from that it's plug and play! \n",
      "\n",
      "With the LeNet-5 solution from the lecture, you should expect a validation set accuracy of about 0.89. To meet specifications, the validation set accuracy will need to be at least 0.93. It is possible to get an even higher accuracy, but 0.93 is the minimum for a successful project submission. \n",
      "\n",
      "There are various aspects to consider when thinking about this problem:\n",
      "\n",
      "- Neural network architecture (is the network over or underfitting?)\n",
      "- Play around preprocessing techniques (normalization, rgb to grayscale, etc)\n",
      "- Number of examples per label (some have more than others).\n",
      "- Generate fake data.\n",
      "\n",
      "Here is an example of a [published baseline model on this problem](http://yann.lecun.com/exdb/publis/pdf/sermanet-ijcnn-11.pdf). It's not required to be familiar with the approach used in the paper but, it's good practice to try to read papers like these."
     ]
    },
    {
     "cell_type": "heading",
     "level": 3,
     "metadata": {},
     "source": [
      "Pre-process the Data Set (normalization, grayscale, etc.)"
     ]
    },
    {
     "cell_type": "markdown",
     "metadata": {},
     "source": [
      "Minimally, the image data should be normalized so that the data has mean zero and equal variance. For image data, `(pixel - 128)/ 128` is a quick way to approximately normalize the data and can be used in this project. \n",
      "\n",
      "Other pre-processing steps are optional. You can try different techniques to see if it improves performance. \n",
      "\n",
      "Use the code cell (or multiple code cells, if necessary) to implement the first step of your project."
     ]
    },
    {
     "cell_type": "code",
     "collapsed": true,
     "input": [
      "import tensorflow as tf\n",
      "from tensorflow.contrib.layers import flatten\n",
      "\n",
      "EPOCHS = 10\n",
      "BATCH_SIZE = 256\n"
     ],
     "language": "python",
     "metadata": {},
     "outputs": [],
     "prompt_number": 49
    },
    {
     "cell_type": "heading",
     "level": 3,
     "metadata": {},
     "source": [
      "Model Architecture"
     ]
    },
    {
     "cell_type": "code",
     "collapsed": true,
     "input": [
      "### Define your architecture here.\n",
      "### Feel free to use as many code cells as needed.\n",
      "\n",
      "class LeNetModel:\n",
      "    def __init__(self,height,width,channel,mu_init,sigma_init):\n",
      "        self.mu = mu_init\n",
      "        self.sigma = sigma_init\n",
      "        self.H = height\n",
      "        self.W = width\n",
      "        self.C = channel\n",
      "        \n",
      "    def build_op(self,filter1,filter2,layer1,layer2,kernel1,kernel2):\n",
      "        \n",
      "        #define variables and expressions\n",
      "        self.inputs = tf.placeholder(tf.float32,[None, self.H, self.W, self.C])\n",
      "        \n",
      "        ###########################\n",
      "        #create convolution layer 1\n",
      "        ###########################\n",
      "        self.W1 = tf.Variable(tf.truncated_normal(mean=self.mu,stddev=self.sigma,\n",
      "                                            shape=[kernel1,kernel1,self.C,filter1]\n",
      "                                            ),\n",
      "                        name = \"conv1_w\"\n",
      "                        )\n",
      "        self.b1 = tf.Variable(tf.zeros(shape=[filter1]),\n",
      "                        name = \"conv1_b\"\n",
      "                        )\n",
      "        \n",
      "        conv1 = tf.nn.conv2d(self.inputs, self.W1, strides=[1,1,1,1], padding=\"VALID\")\n",
      "        conv1 = tf.nn.relu(tf.nn.bias_add(conv1,self.b1), name = \"conv1\")\n",
      "        print(\"Conv1 shape \",conv1.shape)\n",
      "        \n",
      "        ##########################\n",
      "        #create max pooling layer1\n",
      "        ##########################\n",
      "        pool1 = tf.nn.max_pool(conv1,ksize=[1,2,2,1],strides=[1,2,2,1],padding=\"VALID\", name=\"pool1\")\n",
      "        print(\"Pool1 shape \",pool1.shape)\n",
      "        \n",
      "        ###########################\n",
      "        #create convolution layer 2\n",
      "        ###########################\n",
      "        self.W2 = tf.Variable(tf.truncated_normal(mean=self.mu,stddev=self.sigma,\n",
      "                                            shape = [kernel2,kernel2,filter1,filter2]\n",
      "                                            ),\n",
      "                        name = \"conv2_w\"\n",
      "                        )\n",
      "        self.b2 = tf.Variable(tf.zeros(shape=[filter2]),\n",
      "                        name = \"conv2_b\"\n",
      "                        )\n",
      "        \n",
      "        conv2 = tf.nn.conv2d(pool1,self.W2, strides = [1,1,1,1], padding = \"VALID\")\n",
      "        conv2 = tf.nn.relu(tf.nn.bias_add(conv2,self.b2), name=\"conv2\")\n",
      "        print(\"Conv2 shape \",conv2.shape)\n",
      "        \n",
      "        ##########################\n",
      "        #create max pooling layer2\n",
      "        ##########################\n",
      "        pool2 = tf.nn.max_pool(conv2,ksize=[1,2,2,1],strides=[1,2,2,1], padding=\"VALID\")\n",
      "        print(\"Flat shape \",pool2.shape)\n",
      "        \n",
      "        \n",
      "        pool2 = flatten(pool2)\n",
      "        print(\"Flat shape \",pool2.shape)\n",
      "        \n",
      "        ###########################\n",
      "        #create dense layer 1\n",
      "        ###########################\n",
      "        self.W3 = tf.Variable(tf.truncated_normal(mean=self.mu, stddev=self.sigma, \n",
      "                                                  shape=[tf.cast(pool2.shape[1],tf.int32),layer1]),\n",
      "                              name = \"dense1_w\"\n",
      "                              )\n",
      "        self.b3 = tf.Variable(tf.truncated_normal(mean=self.mu, stddev=self.sigma,\n",
      "                                                  shape=[layer1]),\n",
      "                              name = \"dense1_b\"\n",
      "                              )\n",
      "        Z1 = tf.nn.bias_add(tf.matmul(pool2,self.W3),self.b3)\n",
      "        fc1 = tf.nn.sigmoid(Z1)\n",
      "        print(\"Flat 2 shape \",fc1.shape)\n",
      "        \n",
      "        ###########################\n",
      "        #create dense layer 2\n",
      "        ###########################\n",
      "        self.W4 = tf.Variable(tf.truncated_normal(mean=self.mu, stddev=self.sigma,\n",
      "                                                  shape=[layer1,layer2]),\n",
      "                            name = \"dense2_w\"\n",
      "                            )\n",
      "        self.b4 = tf.Variable(tf.truncated_normal(mean=self.mu, stddev=self.sigma,\n",
      "                                                  shape = [layer2]),\n",
      "                              name = \"dense2_b\"\n",
      "                              )\n",
      "        Z2 = tf.nn.bias_add(tf.matmul(fc1,self.W4), self.b4)\n",
      "        fc2 = tf.nn.sigmoid(Z2)\n",
      "        print(\"Dense 2 shape \",fc2.shape)\n",
      "        \n",
      "        ###########################\n",
      "        #create dense layer 3 (output)\n",
      "        ###########################\n",
      "        self.W5 = tf.Variable(tf.truncated_normal(mean=self.mu, stddev=self.sigma,\n",
      "                                                  shape = [layer2,n_classes]),\n",
      "                              name = \"dense3_w\"\n",
      "                              )\n",
      "        self.b5 = tf.Variable(tf.truncated_normal(mean=self.mu, stddev=self.sigma,\n",
      "                                                  shape = [n_classes]\n",
      "                                                  ),\n",
      "                              name = \"dense3_b\"\n",
      "                              )\n",
      "        \n",
      "        #Use following in sigmois softmax\n",
      "        self.logits = tf.nn.bias_add(tf.matmul(fc2,self.W5),self.b5)\n",
      "        print(\"Output shape \",self.logits.shape)\n",
      "\n",
      "    \n",
      "    def train_op(self,learn_rate):\n",
      "        #create placeholders\n",
      "        self.targets = tf.placeholder(tf.uint8,[None])\n",
      "        self.one_hot = tf.one_hot(self.targets,depth=n_classes) #create target placeholder\n",
      "\n",
      "        #define loss function\n",
      "        tf_entropy = tf.nn.softmax_cross_entropy_with_logits(labels=self.one_hot, logits=self.logits)\n",
      "        \n",
      "        #define gradn total loss\n",
      "        self.loss = tf.reduce_mean(tf_entropy)\n",
      "\n",
      "        #define optimizer\n",
      "        self.optimizer = tf.train.AdamOptimizer(learning_rate=learn_rate).minimize(self.loss)\n",
      "        \n",
      "        #define accuracy metric\n",
      "        correct_prediction = tf.equal(tf.argmax(self.logits,1),tf.argmax(self.one_hot,1))\n",
      "        self.accuracy = tf.reduce_mean(tf.cast(correct_prediction,tf.float32))\n",
      "        \n",
      "    def predict_op(self):\n",
      "        return tf.argmax(self.logits,axis=1)\n",
      "    "
     ],
     "language": "python",
     "metadata": {},
     "outputs": [],
     "prompt_number": 40
    },
    {
     "cell_type": "heading",
     "level": 3,
     "metadata": {},
     "source": [
      "Training, Validating and Testing"
     ]
    },
    {
     "cell_type": "markdown",
     "metadata": {},
     "source": [
      "A validation set can be used to assess how well the model is performing. A low accuracy on the training and validation\n",
      "fsets imply underfitting. A high accuracy on the training set but low accuracy on the validation set implies overfitting."
     ]
    },
    {
     "cell_type": "heading",
     "level": 3,
     "metadata": {},
     "source": [
      "First, create evaluation function to run all batches"
     ]
    },
    {
     "cell_type": "code",
     "collapsed": false,
     "input": [
      "def evaluate(X_data, y_data, model):\n",
      "    num_examples = len(X_data)\n",
      "    total_accuracy, total_loss = 0,0\n",
      "    sess = tf.get_default_session()\n",
      "    for offset in range(0, num_examples, BATCH_SIZE):\n",
      "        batch_x, batch_y = X_data[offset:offset+BATCH_SIZE], y_data[offset:offset+BATCH_SIZE]\n",
      "        accuracy,loss = sess.run([model.accuracy,model.loss], feed_dict={model.inputs: batch_x, model.targets: batch_y})\n",
      "        total_accuracy += (accuracy * len(batch_x))\n",
      "        total_loss += (loss * len(batch_x))\n",
      "        \n",
      "    return total_accuracy / num_examples, total_loss/num_examples  "
     ],
     "language": "python",
     "metadata": {},
     "outputs": [],
     "prompt_number": 51
    },
    {
     "cell_type": "code",
     "collapsed": true,
     "input": [
      "### Define hyperparameters\n",
      "rate = 0.001\n",
      "mu = 0\n",
      "sigma = 0.1\n",
      "\n",
      "### Inititate LeNet Model\n",
      "model = LeNetModel(32,32,3,mu_init=mu,sigma_init=sigma)\n",
      "### Build architecture\n",
      "model.build_op(filter1=6,filter2=16,layer1=120,layer2=84,kernel1=5,kernel2=5)\n",
      "### Build training operation, all information should be accesable at this point\n",
      "model.train_op(rate)\n"
     ],
     "language": "python",
     "metadata": {},
     "outputs": [
      {
       "output_type": "stream",
       "stream": "stdout",
       "text": [
        "Conv1 shape  (?, 28, 28, 6)\n",
        "Pool1 shape  (?, 14, 14, 6)\n",
        "Conv2 shape  (?, 10, 10, 16)\n",
        "Flat shape  (?, 5, 5, 16)\n",
        "Flat shape  (?, 400)\n",
        "Flat 2 shape  (?, 120)\n",
        "Dense 2 shape "
       ]
      },
      {
       "output_type": "stream",
       "stream": "stdout",
       "text": [
        " (?, 84)\n",
        "Output shape  (?, 43)\n"
       ]
      }
     ],
     "prompt_number": 52
    },
    {
     "cell_type": "heading",
     "level": 3,
     "metadata": {},
     "source": [
      "Start training"
     ]
    },
    {
     "cell_type": "code",
     "collapsed": false,
     "input": [
      "X_train_norm = (X_train)/255.-0.5\n",
      "X_test_norm = (X_test)/255.-0.5\n",
      "X_valid_norm = (X_valid)/255.-0.5\n",
      "\n",
      "\n",
      "saver = tf.train.Saver()\n",
      "\n",
      "with tf.Session() as sess:\n",
      "    sess.run(tf.global_variables_initializer())\n",
      "    num_examples = len(X_train)\n",
      "    \n",
      "    print(\"Training...\")\n",
      "    print()\n",
      "    for i in range(EPOCHS):\n",
      "        X_train, y_train = shuffle(X_train_norm, y_train)\n",
      "        for offset in range(0, num_examples, BATCH_SIZE):\n",
      "            end = offset + BATCH_SIZE\n",
      "            batch_x, batch_y = X_train[offset:end], y_train[offset:end]\n",
      "            sess.run(model.optimizer, feed_dict={model.inputs: batch_x, model.targets: batch_y})\n",
      "            \n",
      "        validation_accuracy, validation_loss = evaluate(X_valid_norm, y_valid, model)\n",
      "        print(\"EPOCH {} ...\".format(i+1))\n",
      "        print(\"Validation Accuracy = {:.3f}\".format(validation_accuracy))\n",
      "        print()\n",
      "        \n",
      "    saver.save(sess, 'checkpoints/lenet')\n",
      "    print(\"Model saved\")\n",
      "    \n",
      "    "
     ],
     "language": "python",
     "metadata": {},
     "outputs": [
      {
       "output_type": "stream",
       "stream": "stdout",
       "text": [
        "Training...\n",
        "\n",
        "EPOCH 1 ..."
       ]
      },
      {
       "output_type": "stream",
       "stream": "stdout",
       "text": [
        "\n",
        "Validation Accuracy = 0.085\n",
        "\n",
        "EPOCH 2 ..."
       ]
      },
      {
       "output_type": "stream",
       "stream": "stdout",
       "text": [
        "\n",
        "Validation Accuracy = 0.066\n",
        "\n",
        "EPOCH 3 ..."
       ]
      },
      {
       "output_type": "stream",
       "stream": "stdout",
       "text": [
        "\n",
        "Validation Accuracy = 0.072\n",
        "\n",
        "EPOCH 4 ..."
       ]
      },
      {
       "output_type": "stream",
       "stream": "stdout",
       "text": [
        "\n",
        "Validation Accuracy = 0.054\n",
        "\n",
        "EPOCH 5 ..."
       ]
      },
      {
       "output_type": "stream",
       "stream": "stdout",
       "text": [
        "\n",
        "Validation Accuracy = 0.054\n",
        "\n",
        "EPOCH 6 ..."
       ]
      },
      {
       "output_type": "stream",
       "stream": "stdout",
       "text": [
        "\n",
        "Validation Accuracy = 0.058\n",
        "\n",
        "EPOCH 7 ..."
       ]
      },
      {
       "output_type": "stream",
       "stream": "stdout",
       "text": [
        "\n",
        "Validation Accuracy = 0.054\n",
        "\n",
        "EPOCH 8 ..."
       ]
      },
      {
       "output_type": "stream",
       "stream": "stdout",
       "text": [
        "\n",
        "Validation Accuracy = 0.048\n",
        "\n",
        "EPOCH 9 ..."
       ]
      },
      {
       "output_type": "stream",
       "stream": "stdout",
       "text": [
        "\n",
        "Validation Accuracy = 0.059\n",
        "\n",
        "EPOCH 10 ..."
       ]
      },
      {
       "output_type": "stream",
       "stream": "stdout",
       "text": [
        "\n",
        "Validation Accuracy = 0.054\n",
        "\n",
        "Model saved"
       ]
      },
      {
       "output_type": "stream",
       "stream": "stdout",
       "text": [
        "\n"
       ]
      }
     ],
     "prompt_number": 53
    },
    {
     "cell_type": "markdown",
     "metadata": {},
     "source": [
      "---\n",
      "\n",
      "## Step 3: Test a Model on New Images\n",
      "\n",
      "To give yourself more insight into how your model is working, download at least five pictures of German traffic signs from the web and use your model to predict the traffic sign type.\n",
      "\n",
      "You may find `signnames.csv` useful as it contains mappings from the class id (integer) to the actual sign name."
     ]
    },
    {
     "cell_type": "heading",
     "level": 3,
     "metadata": {},
     "source": [
      "Load and Output the Images"
     ]
    },
    {
     "cell_type": "code",
     "collapsed": true,
     "input": [
      "### Load the images and plot them here.\n",
      "### Feel free to use as many code cells as needed."
     ],
     "language": "python",
     "metadata": {},
     "outputs": [],
     "prompt_number": null
    },
    {
     "cell_type": "heading",
     "level": 3,
     "metadata": {},
     "source": [
      "Predict the Sign Type for Each Image"
     ]
    },
    {
     "cell_type": "code",
     "collapsed": true,
     "input": [
      "### Run the predictions here and use the model to output the prediction for each image.\n",
      "### Make sure to pre-process the images with the same pre-processing pipeline used earlier.\n",
      "### Feel free to use as many code cells as needed."
     ],
     "language": "python",
     "metadata": {},
     "outputs": [],
     "prompt_number": 3
    },
    {
     "cell_type": "heading",
     "level": 3,
     "metadata": {},
     "source": [
      "Analyze Performance"
     ]
    },
    {
     "cell_type": "code",
     "collapsed": true,
     "input": [
      "### Calculate the accuracy for these 5 new images. \n",
      "### For example, if the model predicted 1 out of 5 signs correctly, it's 20% accurate on these new images."
     ],
     "language": "python",
     "metadata": {},
     "outputs": [],
     "prompt_number": 4
    },
    {
     "cell_type": "heading",
     "level": 3,
     "metadata": {},
     "source": [
      "Output Top 5 Softmax Probabilities For Each Image Found on the Web"
     ]
    },
    {
     "cell_type": "markdown",
     "metadata": {},
     "source": [
      "For each of the new images, print out the model's softmax probabilities to show the **certainty** of the model's predictions (limit the output to the top 5 probabilities for each image). [`tf.nn.top_k`](https://www.tensorflow.org/versions/r0.12/api_docs/python/nn.html#top_k) could prove helpful here. \n",
      "\n",
      "The example below demonstrates how tf.nn.top_k can be used to find the top k predictions for each image.\n",
      "\n",
      "`tf.nn.top_k` will return the values and indices (class ids) of the top k predictions. So if k=3, for each sign, it'll return the 3 largest probabilities (out of a possible 43) and the correspoding class ids.\n",
      "\n",
      "Take this numpy array as an example. The values in the array represent predictions. The array contains softmax probabilities for five candidate images with six possible classes. `tf.nn.top_k` is used to choose the three classes with the highest probability:\n",
      "\n",
      "```\n",
      "# (5, 6) array\n",
      "a = np.array([[ 0.24879643,  0.07032244,  0.12641572,  0.34763842,  0.07893497,\n",
      "         0.12789202],\n",
      "       [ 0.28086119,  0.27569815,  0.08594638,  0.0178669 ,  0.18063401,\n",
      "         0.15899337],\n",
      "       [ 0.26076848,  0.23664738,  0.08020603,  0.07001922,  0.1134371 ,\n",
      "         0.23892179],\n",
      "       [ 0.11943333,  0.29198961,  0.02605103,  0.26234032,  0.1351348 ,\n",
      "         0.16505091],\n",
      "       [ 0.09561176,  0.34396535,  0.0643941 ,  0.16240774,  0.24206137,\n",
      "         0.09155967]])\n",
      "```\n",
      "\n",
      "Running it through `sess.run(tf.nn.top_k(tf.constant(a), k=3))` produces:\n",
      "\n",
      "```\n",
      "TopKV2(values=array([[ 0.34763842,  0.24879643,  0.12789202],\n",
      "       [ 0.28086119,  0.27569815,  0.18063401],\n",
      "       [ 0.26076848,  0.23892179,  0.23664738],\n",
      "       [ 0.29198961,  0.26234032,  0.16505091],\n",
      "       [ 0.34396535,  0.24206137,  0.16240774]]), indices=array([[3, 0, 5],\n",
      "       [0, 1, 4],\n",
      "       [0, 5, 1],\n",
      "       [1, 3, 5],\n",
      "       [1, 4, 3]], dtype=int32))\n",
      "```\n",
      "\n",
      "Looking just at the first row we get `[ 0.34763842,  0.24879643,  0.12789202]`, you can confirm these are the 3 largest probabilities in `a`. You'll also notice `[3, 0, 5]` are the corresponding indices."
     ]
    },
    {
     "cell_type": "code",
     "collapsed": true,
     "input": [
      "### Print out the top five softmax probabilities for the predictions on the German traffic sign images found on the web. \n",
      "### Feel free to use as many code cells as needed."
     ],
     "language": "python",
     "metadata": {},
     "outputs": [],
     "prompt_number": 3
    },
    {
     "cell_type": "markdown",
     "metadata": {},
     "source": [
      "### Project Writeup\n",
      "\n",
      "Once you have completed the code implementation, document your results in a project writeup using this [template](https://github.com/udacity/CarND-Traffic-Sign-Classifier-Project/blob/master/writeup_template.md) as a guide. The writeup can be in a markdown or pdf file. "
     ]
    },
    {
     "cell_type": "markdown",
     "metadata": {},
     "source": [
      "> **Note**: Once you have completed all of the code implementations and successfully answered each question above, you may finalize your work by exporting the iPython Notebook as an HTML document. You can do this by using the menu above and navigating to  \\n\",\n",
      "    \"**File -> Download as -> HTML (.html)**. Include the finished document along with this notebook as your submission."
     ]
    },
    {
     "cell_type": "markdown",
     "metadata": {},
     "source": [
      "---\n",
      "\n",
      "## Step 4 (Optional): Visualize the Neural Network's State with Test Images\n",
      "\n",
      " This Section is not required to complete but acts as an additional excersise for understaning the output of a neural network's weights. While neural networks can be a great learning device they are often referred to as a black box. We can understand what the weights of a neural network look like better by plotting their feature maps. After successfully training your neural network you can see what it's feature maps look like by plotting the output of the network's weight layers in response to a test stimuli image. From these plotted feature maps, it's possible to see what characteristics of an image the network finds interesting. For a sign, maybe the inner network feature maps react with high activation to the sign's boundary outline or to the contrast in the sign's painted symbol.\n",
      "\n",
      " Provided for you below is the function code that allows you to get the visualization output of any tensorflow weight layer you want. The inputs to the function should be a stimuli image, one used during training or a new one you provided, and then the tensorflow variable name that represents the layer's state during the training process, for instance if you wanted to see what the [LeNet lab's](https://classroom.udacity.com/nanodegrees/nd013/parts/fbf77062-5703-404e-b60c-95b78b2f3f9e/modules/6df7ae49-c61c-4bb2-a23e-6527e69209ec/lessons/601ae704-1035-4287-8b11-e2c2716217ad/concepts/d4aca031-508f-4e0b-b493-e7b706120f81) feature maps looked like for it's second convolutional layer you could enter conv2 as the tf_activation variable.\n",
      "\n",
      "For an example of what feature map outputs look like, check out NVIDIA's results in their paper [End-to-End Deep Learning for Self-Driving Cars](https://devblogs.nvidia.com/parallelforall/deep-learning-self-driving-cars/) in the section Visualization of internal CNN State. NVIDIA was able to show that their network's inner weights had high activations to road boundary lines by comparing feature maps from an image with a clear path to one without. Try experimenting with a similar test to show that your trained network's weights are looking for interesting features, whether it's looking at differences in feature maps from images with or without a sign, or even what feature maps look like in a trained network vs a completely untrained one on the same sign image.\n",
      "\n",
      "<figure>\n",
      " <img src=\"visualize_cnn.png\" width=\"380\" alt=\"Combined Image\" />\n",
      " <figcaption>\n",
      " <p></p> \n",
      " <p style=\"text-align: center;\"> Your output should look something like this (above)</p> \n",
      " </figcaption>\n",
      "</figure>\n",
      " <p></p> \n"
     ]
    },
    {
     "cell_type": "code",
     "collapsed": true,
     "input": [
      "### Visualize your network's feature maps here.\n",
      "### Feel free to use as many code cells as needed.\n",
      "\n",
      "# image_input: the test image being fed into the network to produce the feature maps\n",
      "# tf_activation: should be a tf variable name used during your training procedure that represents the calculated state of a specific weight layer\n",
      "# activation_min/max: can be used to view the activation contrast in more detail, by default matplot sets min and max to the actual min and max values of the output\n",
      "# plt_num: used to plot out multiple different weight feature map sets on the same block, just extend the plt number for each new feature map entry\n",
      "\n",
      "def outputFeatureMap(image_input, tf_activation, activation_min=-1, activation_max=-1 ,plt_num=1):\n",
      "    # Here make sure to preprocess your image_input in a way your network expects\n",
      "    # with size, normalization, ect if needed\n",
      "    # image_input =\n",
      "    # Note: x should be the same name as your network's tensorflow data placeholder variable\n",
      "    # If you get an error tf_activation is not defined it may be having trouble accessing the variable from inside a function\n",
      "    activation = tf_activation.eval(session=sess,feed_dict={x : image_input})\n",
      "    featuremaps = activation.shape[3]\n",
      "    plt.figure(plt_num, figsize=(15,15))\n",
      "    for featuremap in range(featuremaps):\n",
      "        plt.subplot(6,8, featuremap+1) # sets the number of feature maps to show on each row and column\n",
      "        plt.title('FeatureMap ' + str(featuremap)) # displays the feature map number\n",
      "        if activation_min != -1 & activation_max != -1:\n",
      "            plt.imshow(activation[0,:,:, featuremap], interpolation=\"nearest\", vmin =activation_min, vmax=activation_max, cmap=\"gray\")\n",
      "        elif activation_max != -1:\n",
      "            plt.imshow(activation[0,:,:, featuremap], interpolation=\"nearest\", vmax=activation_max, cmap=\"gray\")\n",
      "        elif activation_min !=-1:\n",
      "            plt.imshow(activation[0,:,:, featuremap], interpolation=\"nearest\", vmin=activation_min, cmap=\"gray\")\n",
      "        else:\n",
      "            plt.imshow(activation[0,:,:, featuremap], interpolation=\"nearest\", cmap=\"gray\")"
     ],
     "language": "python",
     "metadata": {},
     "outputs": [],
     "prompt_number": null
    }
   ],
   "metadata": {}
  }
 ]
}