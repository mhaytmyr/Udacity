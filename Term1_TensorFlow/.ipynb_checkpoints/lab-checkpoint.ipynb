{
 "metadata": {
  "anaconda-cloud": {},
  "kernelspec": {
   "display_name": "Python 3",
   "language": "python",
   "name": "python3"
  },
  "language_info": {
   "codemirror_mode": {
    "name": "ipython",
    "version": 3
   },
   "file_extension": ".py",
   "mimetype": "text/x-python",
   "name": "python",
   "nbconvert_exporter": "python",
   "pygments_lexer": "ipython3",
   "version": "3.5.2"
  },
  "name": "",
  "signature": "sha256:3ab1ead6edfe56c75b956d96d185f44ad3dd98e16cebc0e82185b1fddcdddb33"
 },
 "nbformat": 3,
 "nbformat_minor": 0,
 "worksheets": [
  {
   "cells": [
    {
     "cell_type": "markdown",
     "metadata": {},
     "source": [
      "<h1 align=\"center\">TensorFlow Neural Network Lab</h1>"
     ]
    },
    {
     "cell_type": "markdown",
     "metadata": {},
     "source": [
      "<img src=\"image/notmnist.png\">\n",
      "In this lab, you'll use all the tools you learned from *Introduction to TensorFlow* to label images of English letters! The data you are using, <a href=\"http://yaroslavvb.blogspot.com/2011/09/notmnist-dataset.html\">notMNIST</a>, consists of images of a letter from A to J in differents font.\n",
      "\n",
      "The above images are a few examples of the data you'll be training on. After training the network, you will compare your prediction model against test data. Your goal, by the end of this lab, is to make predictions against that test set with at least an 80% accuracy. Let's jump in!"
     ]
    },
    {
     "cell_type": "markdown",
     "metadata": {},
     "source": [
      "To start this lab, you first need to import all the necessary modules. Run the code below. If it runs successfully, it will print \"`All modules imported`\"."
     ]
    },
    {
     "cell_type": "code",
     "collapsed": false,
     "input": [
      "import hashlib\n",
      "import os\n",
      "import pickle\n",
      "from urllib.request import urlretrieve\n",
      "\n",
      "import numpy as np\n",
      "from PIL import Image\n",
      "from sklearn.model_selection import train_test_split\n",
      "from sklearn.preprocessing import LabelBinarizer\n",
      "from sklearn.utils import resample\n",
      "from tqdm import tqdm\n",
      "from zipfile import ZipFile\n",
      "\n",
      "print('All modules imported.')"
     ],
     "language": "python",
     "metadata": {},
     "outputs": [
      {
       "output_type": "stream",
       "stream": "stdout",
       "text": [
        "All modules imported.\n"
       ]
      }
     ],
     "prompt_number": 1
    },
    {
     "cell_type": "markdown",
     "metadata": {},
     "source": [
      "The notMNIST dataset is too large for many computers to handle.  It contains 500,000 images for just training.  You'll be using a subset of this data, 15,000 images for each label (A-J)."
     ]
    },
    {
     "cell_type": "code",
     "collapsed": false,
     "input": [
      "def download(url, file):\n",
      "    \"\"\"\n",
      "    Download file from <url>\n",
      "    :param url: URL to file\n",
      "    :param file: Local file path\n",
      "    \"\"\"\n",
      "    if not os.path.isfile(file):\n",
      "        print('Downloading ' + file + '...')\n",
      "        urlretrieve(url, file)\n",
      "        print('Download Finished')\n",
      "\n",
      "# Download the training and test dataset.\n",
      "download('https://s3.amazonaws.com/udacity-sdc/notMNIST_train.zip', 'notMNIST_train.zip')\n",
      "download('https://s3.amazonaws.com/udacity-sdc/notMNIST_test.zip', 'notMNIST_test.zip')\n",
      "\n",
      "# Make sure the files aren't corrupted\n",
      "assert hashlib.md5(open('notMNIST_train.zip', 'rb').read()).hexdigest() == 'c8673b3f28f489e9cdf3a3d74e2ac8fa',\\\n",
      "        'notMNIST_train.zip file is corrupted.  Remove the file and try again.'\n",
      "assert hashlib.md5(open('notMNIST_test.zip', 'rb').read()).hexdigest() == '5d3c7e653e63471c88df796156a9dfa9',\\\n",
      "        'notMNIST_test.zip file is corrupted.  Remove the file and try again.'\n",
      "\n",
      "# Wait until you see that all files have been downloaded.\n",
      "print('All files downloaded.')"
     ],
     "language": "python",
     "metadata": {},
     "outputs": [
      {
       "output_type": "stream",
       "stream": "stdout",
       "text": [
        "Downloading notMNIST_train.zip...\n",
        "Download Finished"
       ]
      },
      {
       "output_type": "stream",
       "stream": "stdout",
       "text": [
        "\n",
        "Downloading notMNIST_test.zip...\n",
        "Download Finished"
       ]
      },
      {
       "output_type": "stream",
       "stream": "stdout",
       "text": [
        "\n",
        "All files downloaded."
       ]
      },
      {
       "output_type": "stream",
       "stream": "stdout",
       "text": [
        "\n"
       ]
      }
     ],
     "prompt_number": 2
    },
    {
     "cell_type": "code",
     "collapsed": false,
     "input": [
      "def uncompress_features_labels(file):\n",
      "    \"\"\"\n",
      "    Uncompress features and labels from a zip file\n",
      "    :param file: The zip file to extract the data from\n",
      "    \"\"\"\n",
      "    features = []\n",
      "    labels = []\n",
      "\n",
      "    with ZipFile(file) as zipf:\n",
      "        # Progress Bar\n",
      "        filenames_pbar = tqdm(zipf.namelist(), unit='files')\n",
      "        \n",
      "        # Get features and labels from all files\n",
      "        for filename in filenames_pbar:\n",
      "            # Check if the file is a directory\n",
      "            if not filename.endswith('/'):\n",
      "                with zipf.open(filename) as image_file:\n",
      "                    image = Image.open(image_file)\n",
      "                    image.load()\n",
      "                    # Load image data as 1 dimensional array\n",
      "                    # We're using float32 to save on memory space\n",
      "                    feature = np.array(image, dtype=np.float32).flatten()\n",
      "\n",
      "                # Get the the letter from the filename.  This is the letter of the image.\n",
      "                label = os.path.split(filename)[1][0]\n",
      "\n",
      "                features.append(feature)\n",
      "                labels.append(label)\n",
      "    return np.array(features), np.array(labels)\n",
      "\n",
      "# Get the features and labels from the zip files\n",
      "train_features, train_labels = uncompress_features_labels('notMNIST_train.zip')\n",
      "test_features, test_labels = uncompress_features_labels('notMNIST_test.zip')\n",
      "\n",
      "# Limit the amount of data to work with a docker container\n",
      "docker_size_limit = 150000\n",
      "train_features, train_labels = resample(train_features, train_labels, n_samples=docker_size_limit)\n",
      "\n",
      "# Set flags for feature engineering.  This will prevent you from skipping an important step.\n",
      "is_features_normal = False\n",
      "is_labels_encod = False\n",
      "\n",
      "# Wait until you see that all features and labels have been uncompressed.\n",
      "print('All features and labels uncompressed.')"
     ],
     "language": "python",
     "metadata": {},
     "outputs": [
      {
       "output_type": "stream",
       "stream": "stderr",
       "text": [
        "\r",
        "  0%|          | 0/210001 [00:00<?, ?files/s]"
       ]
      },
      {
       "output_type": "stream",
       "stream": "stderr",
       "text": [
        "\r",
        "  0%|          | 454/210001 [00:00<00:46, 4539.60files/s]"
       ]
      },
      {
       "output_type": "stream",
       "stream": "stderr",
       "text": [
        "\r",
        "  1%|          | 1078/210001 [00:00<00:42, 4943.59files/s]"
       ]
      },
      {
       "output_type": "stream",
       "stream": "stderr",
       "text": [
        "\r",
        "  1%|          | 1710/210001 [00:00<00:39, 5287.48files/s]"
       ]
      },
      {
       "output_type": "stream",
       "stream": "stderr",
       "text": [
        "\r",
        "  1%|          | 2333/210001 [00:00<00:37, 5538.45files/s]"
       ]
      },
      {
       "output_type": "stream",
       "stream": "stderr",
       "text": [
        "\r",
        "  1%|\u258f         | 2952/210001 [00:00<00:36, 5716.82files/s]"
       ]
      },
      {
       "output_type": "stream",
       "stream": "stderr",
       "text": [
        "\r",
        "  2%|\u258f         | 3578/210001 [00:00<00:35, 5869.21files/s]"
       ]
      },
      {
       "output_type": "stream",
       "stream": "stderr",
       "text": [
        "\r",
        "  2%|\u258f         | 4180/210001 [00:00<00:34, 5911.65files/s]"
       ]
      },
      {
       "output_type": "stream",
       "stream": "stderr",
       "text": [
        "\r",
        "  2%|\u258f         | 4782/210001 [00:00<00:34, 5943.00files/s]"
       ]
      },
      {
       "output_type": "stream",
       "stream": "stderr",
       "text": [
        "\r",
        "  3%|\u258e         | 5372/210001 [00:00<00:34, 5929.06files/s]"
       ]
      },
      {
       "output_type": "stream",
       "stream": "stderr",
       "text": [
        "\r",
        "  3%|\u258e         | 5950/210001 [00:01<00:35, 5687.98files/s]"
       ]
      },
      {
       "output_type": "stream",
       "stream": "stderr",
       "text": [
        "\r",
        "  3%|\u258e         | 6550/210001 [00:01<00:35, 5777.95files/s]"
       ]
      },
      {
       "output_type": "stream",
       "stream": "stderr",
       "text": [
        "\r",
        "  3%|\u258e         | 7155/210001 [00:01<00:34, 5856.90files/s]"
       ]
      },
      {
       "output_type": "stream",
       "stream": "stderr",
       "text": [
        "\r",
        "  4%|\u258e         | 7791/210001 [00:01<00:33, 5997.14files/s]"
       ]
      },
      {
       "output_type": "stream",
       "stream": "stderr",
       "text": [
        "\r",
        "  4%|\u258d         | 8425/210001 [00:01<00:33, 6095.18files/s]"
       ]
      },
      {
       "output_type": "stream",
       "stream": "stderr",
       "text": [
        "\r",
        "  4%|\u258d         | 9034/210001 [00:01<00:34, 5797.34files/s]"
       ]
      },
      {
       "output_type": "stream",
       "stream": "stderr",
       "text": [
        "\r",
        "  5%|\u258d         | 9617/210001 [00:01<00:38, 5159.44files/s]"
       ]
      },
      {
       "output_type": "stream",
       "stream": "stderr",
       "text": [
        "\r",
        "  5%|\u258d         | 10148/210001 [00:01<00:39, 5009.84files/s]"
       ]
      },
      {
       "output_type": "stream",
       "stream": "stderr",
       "text": [
        "\r",
        "  5%|\u258c         | 10736/210001 [00:01<00:38, 5241.45files/s]"
       ]
      },
      {
       "output_type": "stream",
       "stream": "stderr",
       "text": [
        "\r",
        "  5%|\u258c         | 11289/210001 [00:01<00:37, 5323.62files/s]"
       ]
      },
      {
       "output_type": "stream",
       "stream": "stderr",
       "text": [
        "\r",
        "  6%|\u258c         | 11907/210001 [00:02<00:35, 5553.88files/s]"
       ]
      },
      {
       "output_type": "stream",
       "stream": "stderr",
       "text": [
        "\r",
        "  6%|\u258c         | 12515/210001 [00:02<00:34, 5701.40files/s]"
       ]
      },
      {
       "output_type": "stream",
       "stream": "stderr",
       "text": [
        "\r",
        "  6%|\u258b         | 13140/210001 [00:02<00:33, 5854.04files/s]"
       ]
      },
      {
       "output_type": "stream",
       "stream": "stderr",
       "text": [
        "\r",
        "  7%|\u258b         | 13754/210001 [00:02<00:33, 5935.08files/s]"
       ]
      },
      {
       "output_type": "stream",
       "stream": "stderr",
       "text": [
        "\r",
        "  7%|\u258b         | 14372/210001 [00:02<00:32, 6005.31files/s]"
       ]
      },
      {
       "output_type": "stream",
       "stream": "stderr",
       "text": [
        "\r",
        "  7%|\u258b         | 14976/210001 [00:02<00:32, 5944.90files/s]"
       ]
      },
      {
       "output_type": "stream",
       "stream": "stderr",
       "text": [
        "\r",
        "  7%|\u258b         | 15573/210001 [00:02<00:38, 5040.70files/s]"
       ]
      },
      {
       "output_type": "stream",
       "stream": "stderr",
       "text": [
        "\r",
        "  8%|\u258a         | 16103/210001 [00:02<00:38, 5027.92files/s]"
       ]
      },
      {
       "output_type": "stream",
       "stream": "stderr",
       "text": [
        "\r",
        "  8%|\u258a         | 16715/210001 [00:02<00:36, 5310.49files/s]"
       ]
      },
      {
       "output_type": "stream",
       "stream": "stderr",
       "text": [
        "\r",
        "  8%|\u258a         | 17355/210001 [00:03<00:34, 5594.83files/s]"
       ]
      },
      {
       "output_type": "stream",
       "stream": "stderr",
       "text": [
        "\r",
        "  9%|\u258a         | 17989/210001 [00:03<00:33, 5798.79files/s]"
       ]
      },
      {
       "output_type": "stream",
       "stream": "stderr",
       "text": [
        "\r",
        "  9%|\u2589         | 18632/210001 [00:03<00:32, 5974.20files/s]"
       ]
      },
      {
       "output_type": "stream",
       "stream": "stderr",
       "text": [
        "\r",
        "  9%|\u2589         | 19266/210001 [00:03<00:31, 6076.30files/s]"
       ]
      },
      {
       "output_type": "stream",
       "stream": "stderr",
       "text": [
        "\r",
        "  9%|\u2589         | 19897/210001 [00:03<00:30, 6142.88files/s]"
       ]
      },
      {
       "output_type": "stream",
       "stream": "stderr",
       "text": [
        "\r",
        " 10%|\u2589         | 20526/210001 [00:03<00:30, 6184.52files/s]"
       ]
      },
      {
       "output_type": "stream",
       "stream": "stderr",
       "text": [
        "\r",
        " 10%|\u2588         | 21149/210001 [00:03<00:30, 6177.20files/s]"
       ]
      },
      {
       "output_type": "stream",
       "stream": "stderr",
       "text": [
        "\r",
        " 10%|\u2588         | 21770/210001 [00:03<00:30, 6166.33files/s]"
       ]
      },
      {
       "output_type": "stream",
       "stream": "stderr",
       "text": [
        "\r",
        " 11%|\u2588         | 22389/210001 [00:03<00:30, 6133.40files/s]"
       ]
      },
      {
       "output_type": "stream",
       "stream": "stderr",
       "text": [
        "\r",
        " 11%|\u2588         | 23004/210001 [00:03<00:30, 6122.87files/s]"
       ]
      },
      {
       "output_type": "stream",
       "stream": "stderr",
       "text": [
        "\r",
        " 11%|\u2588         | 23618/210001 [00:04<00:30, 6060.55files/s]"
       ]
      },
      {
       "output_type": "stream",
       "stream": "stderr",
       "text": [
        "\r",
        " 12%|\u2588\u258f        | 24225/210001 [00:04<00:30, 6031.90files/s]"
       ]
      },
      {
       "output_type": "stream",
       "stream": "stderr",
       "text": [
        "\r",
        " 12%|\u2588\u258f        | 24829/210001 [00:04<00:30, 6032.35files/s]"
       ]
      },
      {
       "output_type": "stream",
       "stream": "stderr",
       "text": [
        "\r",
        " 12%|\u2588\u258f        | 25433/210001 [00:04<00:30, 5990.54files/s]"
       ]
      },
      {
       "output_type": "stream",
       "stream": "stderr",
       "text": [
        "\r",
        " 12%|\u2588\u258f        | 26034/210001 [00:04<00:30, 5995.42files/s]"
       ]
      },
      {
       "output_type": "stream",
       "stream": "stderr",
       "text": [
        "\r",
        " 13%|\u2588\u258e        | 26642/210001 [00:04<00:30, 6020.03files/s]"
       ]
      },
      {
       "output_type": "stream",
       "stream": "stderr",
       "text": [
        "\r",
        " 13%|\u2588\u258e        | 27245/210001 [00:04<00:30, 5981.39files/s]"
       ]
      },
      {
       "output_type": "stream",
       "stream": "stderr",
       "text": [
        "\r",
        " 13%|\u2588\u258e        | 27849/210001 [00:04<00:30, 5997.90files/s]"
       ]
      },
      {
       "output_type": "stream",
       "stream": "stderr",
       "text": [
        "\r",
        " 14%|\u2588\u258e        | 28449/210001 [00:04<00:30, 5988.53files/s]"
       ]
      },
      {
       "output_type": "stream",
       "stream": "stderr",
       "text": [
        "\r",
        " 14%|\u2588\u258d        | 29053/210001 [00:04<00:30, 6002.76files/s]"
       ]
      },
      {
       "output_type": "stream",
       "stream": "stderr",
       "text": [
        "\r",
        " 14%|\u2588\u258d        | 29654/210001 [00:05<00:30, 6001.36files/s]"
       ]
      },
      {
       "output_type": "stream",
       "stream": "stderr",
       "text": [
        "\r",
        " 14%|\u2588\u258d        | 30263/210001 [00:05<00:29, 6026.07files/s]"
       ]
      },
      {
       "output_type": "stream",
       "stream": "stderr",
       "text": [
        "\r",
        " 15%|\u2588\u258d        | 30873/210001 [00:05<00:29, 6046.44files/s]"
       ]
      },
      {
       "output_type": "stream",
       "stream": "stderr",
       "text": [
        "\r",
        " 15%|\u2588\u258d        | 31478/210001 [00:05<00:29, 6044.05files/s]"
       ]
      },
      {
       "output_type": "stream",
       "stream": "stderr",
       "text": [
        "\r",
        " 15%|\u2588\u258c        | 32083/210001 [00:05<00:29, 6039.84files/s]"
       ]
      },
      {
       "output_type": "stream",
       "stream": "stderr",
       "text": [
        "\r",
        " 16%|\u2588\u258c        | 32696/210001 [00:05<00:29, 6064.38files/s]"
       ]
      },
      {
       "output_type": "stream",
       "stream": "stderr",
       "text": [
        "\r",
        " 16%|\u2588\u258c        | 33306/210001 [00:05<00:29, 6073.65files/s]"
       ]
      },
      {
       "output_type": "stream",
       "stream": "stderr",
       "text": [
        "\r",
        " 16%|\u2588\u258c        | 33935/210001 [00:05<00:28, 6135.73files/s]"
       ]
      },
      {
       "output_type": "stream",
       "stream": "stderr",
       "text": [
        "\r",
        " 16%|\u2588\u258b        | 34559/210001 [00:05<00:28, 6164.13files/s]"
       ]
      },
      {
       "output_type": "stream",
       "stream": "stderr",
       "text": [
        "\r",
        " 17%|\u2588\u258b        | 35179/210001 [00:05<00:28, 6173.89files/s]"
       ]
      },
      {
       "output_type": "stream",
       "stream": "stderr",
       "text": [
        "\r",
        " 17%|\u2588\u258b        | 35810/210001 [00:06<00:28, 6211.61files/s]"
       ]
      },
      {
       "output_type": "stream",
       "stream": "stderr",
       "text": [
        "\r",
        " 17%|\u2588\u258b        | 36432/210001 [00:06<00:27, 6207.63files/s]"
       ]
      },
      {
       "output_type": "stream",
       "stream": "stderr",
       "text": [
        "\r",
        " 18%|\u2588\u258a        | 37064/210001 [00:06<00:27, 6239.13files/s]"
       ]
      },
      {
       "output_type": "stream",
       "stream": "stderr",
       "text": [
        "\r",
        " 18%|\u2588\u258a        | 37697/210001 [00:06<00:27, 6264.58files/s]"
       ]
      },
      {
       "output_type": "stream",
       "stream": "stderr",
       "text": [
        "\r",
        " 18%|\u2588\u258a        | 38324/210001 [00:06<00:27, 6242.59files/s]"
       ]
      },
      {
       "output_type": "stream",
       "stream": "stderr",
       "text": [
        "\r",
        " 19%|\u2588\u258a        | 38950/210001 [00:06<00:27, 6245.94files/s]"
       ]
      },
      {
       "output_type": "stream",
       "stream": "stderr",
       "text": [
        "\r",
        " 19%|\u2588\u2589        | 39575/210001 [00:06<00:27, 6219.91files/s]"
       ]
      },
      {
       "output_type": "stream",
       "stream": "stderr",
       "text": [
        "\r",
        " 19%|\u2588\u2589        | 40208/210001 [00:06<00:27, 6250.79files/s]"
       ]
      },
      {
       "output_type": "stream",
       "stream": "stderr",
       "text": [
        "\r",
        " 19%|\u2588\u2589        | 40834/210001 [00:06<00:27, 6247.94files/s]"
       ]
      },
      {
       "output_type": "stream",
       "stream": "stderr",
       "text": [
        "\r",
        " 20%|\u2588\u2589        | 41459/210001 [00:06<00:26, 6243.13files/s]"
       ]
      },
      {
       "output_type": "stream",
       "stream": "stderr",
       "text": [
        "\r",
        " 20%|\u2588\u2588        | 42093/210001 [00:07<00:26, 6271.15files/s]"
       ]
      },
      {
       "output_type": "stream",
       "stream": "stderr",
       "text": [
        "\r",
        " 20%|\u2588\u2588        | 42741/210001 [00:07<00:26, 6329.84files/s]"
       ]
      },
      {
       "output_type": "stream",
       "stream": "stderr",
       "text": [
        "\r",
        " 21%|\u2588\u2588        | 43384/210001 [00:07<00:26, 6359.40files/s]"
       ]
      },
      {
       "output_type": "stream",
       "stream": "stderr",
       "text": [
        "\r",
        " 21%|\u2588\u2588        | 44021/210001 [00:07<00:26, 6361.56files/s]"
       ]
      },
      {
       "output_type": "stream",
       "stream": "stderr",
       "text": [
        "\r",
        " 21%|\u2588\u2588\u258f       | 44658/210001 [00:07<00:25, 6362.70files/s]"
       ]
      },
      {
       "output_type": "stream",
       "stream": "stderr",
       "text": [
        "\r",
        " 22%|\u2588\u2588\u258f       | 45300/210001 [00:07<00:25, 6377.32files/s]"
       ]
      },
      {
       "output_type": "stream",
       "stream": "stderr",
       "text": [
        "\r",
        " 22%|\u2588\u2588\u258f       | 45938/210001 [00:07<00:25, 6323.25files/s]"
       ]
      },
      {
       "output_type": "stream",
       "stream": "stderr",
       "text": [
        "\r",
        " 22%|\u2588\u2588\u258f       | 46581/210001 [00:07<00:25, 6352.57files/s]"
       ]
      },
      {
       "output_type": "stream",
       "stream": "stderr",
       "text": [
        "\r",
        " 22%|\u2588\u2588\u258f       | 47217/210001 [00:07<00:25, 6351.63files/s]"
       ]
      },
      {
       "output_type": "stream",
       "stream": "stderr",
       "text": [
        "\r",
        " 23%|\u2588\u2588\u258e       | 47853/210001 [00:07<00:25, 6331.86files/s]"
       ]
      },
      {
       "output_type": "stream",
       "stream": "stderr",
       "text": [
        "\r",
        " 23%|\u2588\u2588\u258e       | 48493/210001 [00:08<00:25, 6349.32files/s]"
       ]
      },
      {
       "output_type": "stream",
       "stream": "stderr",
       "text": [
        "\r",
        " 23%|\u2588\u2588\u258e       | 49138/210001 [00:08<00:25, 6376.58files/s]"
       ]
      },
      {
       "output_type": "stream",
       "stream": "stderr",
       "text": [
        "\r",
        " 24%|\u2588\u2588\u258e       | 49778/210001 [00:08<00:25, 6381.99files/s]"
       ]
      },
      {
       "output_type": "stream",
       "stream": "stderr",
       "text": [
        "\r",
        " 24%|\u2588\u2588\u258d       | 50419/210001 [00:08<00:24, 6388.84files/s]"
       ]
      },
      {
       "output_type": "stream",
       "stream": "stderr",
       "text": [
        "\r",
        " 24%|\u2588\u2588\u258d       | 51058/210001 [00:08<00:24, 6359.71files/s]"
       ]
      },
      {
       "output_type": "stream",
       "stream": "stderr",
       "text": [
        "\r",
        " 25%|\u2588\u2588\u258d       | 51698/210001 [00:08<00:24, 6369.74files/s]"
       ]
      },
      {
       "output_type": "stream",
       "stream": "stderr",
       "text": [
        "\r",
        " 25%|\u2588\u2588\u258d       | 52336/210001 [00:08<00:24, 6318.82files/s]"
       ]
      },
      {
       "output_type": "stream",
       "stream": "stderr",
       "text": [
        "\r",
        " 25%|\u2588\u2588\u258c       | 52978/210001 [00:08<00:24, 6348.35files/s]"
       ]
      },
      {
       "output_type": "stream",
       "stream": "stderr",
       "text": [
        "\r",
        " 26%|\u2588\u2588\u258c       | 53613/210001 [00:08<00:24, 6343.52files/s]"
       ]
      },
      {
       "output_type": "stream",
       "stream": "stderr",
       "text": [
        "\r",
        " 26%|\u2588\u2588\u258c       | 54248/210001 [00:08<00:24, 6338.77files/s]"
       ]
      },
      {
       "output_type": "stream",
       "stream": "stderr",
       "text": [
        "\r",
        " 26%|\u2588\u2588\u258c       | 54884/210001 [00:09<00:24, 6343.76files/s]"
       ]
      },
      {
       "output_type": "stream",
       "stream": "stderr",
       "text": [
        "\r",
        " 26%|\u2588\u2588\u258b       | 55526/210001 [00:09<00:24, 6365.11files/s]"
       ]
      },
      {
       "output_type": "stream",
       "stream": "stderr",
       "text": [
        "\r",
        " 27%|\u2588\u2588\u258b       | 56169/210001 [00:09<00:24, 6383.05files/s]"
       ]
      },
      {
       "output_type": "stream",
       "stream": "stderr",
       "text": [
        "\r",
        " 27%|\u2588\u2588\u258b       | 56808/210001 [00:09<00:24, 6371.74files/s]"
       ]
      },
      {
       "output_type": "stream",
       "stream": "stderr",
       "text": [
        "\r",
        " 27%|\u2588\u2588\u258b       | 57446/210001 [00:09<00:24, 6345.93files/s]"
       ]
      },
      {
       "output_type": "stream",
       "stream": "stderr",
       "text": [
        "\r",
        " 28%|\u2588\u2588\u258a       | 58083/210001 [00:09<00:23, 6352.63files/s]"
       ]
      },
      {
       "output_type": "stream",
       "stream": "stderr",
       "text": [
        "\r",
        " 28%|\u2588\u2588\u258a       | 58719/210001 [00:09<00:23, 6306.40files/s]"
       ]
      },
      {
       "output_type": "stream",
       "stream": "stderr",
       "text": [
        "\r",
        " 28%|\u2588\u2588\u258a       | 59359/210001 [00:09<00:23, 6332.75files/s]"
       ]
      },
      {
       "output_type": "stream",
       "stream": "stderr",
       "text": [
        "\r",
        " 29%|\u2588\u2588\u258a       | 59993/210001 [00:09<00:23, 6306.99files/s]"
       ]
      },
      {
       "output_type": "stream",
       "stream": "stderr",
       "text": [
        "\r",
        " 29%|\u2588\u2588\u2589       | 60624/210001 [00:09<00:23, 6269.26files/s]"
       ]
      },
      {
       "output_type": "stream",
       "stream": "stderr",
       "text": [
        "\r",
        " 29%|\u2588\u2588\u2589       | 61252/210001 [00:10<00:24, 6190.28files/s]"
       ]
      },
      {
       "output_type": "stream",
       "stream": "stderr",
       "text": [
        "\r",
        " 29%|\u2588\u2588\u2589       | 61872/210001 [00:10<00:24, 6138.56files/s]"
       ]
      },
      {
       "output_type": "stream",
       "stream": "stderr",
       "text": [
        "\r",
        " 30%|\u2588\u2588\u2589       | 62487/210001 [00:10<00:24, 6058.58files/s]"
       ]
      },
      {
       "output_type": "stream",
       "stream": "stderr",
       "text": [
        "\r",
        " 30%|\u2588\u2588\u2588       | 63109/210001 [00:10<00:24, 6104.50files/s]"
       ]
      },
      {
       "output_type": "stream",
       "stream": "stderr",
       "text": [
        "\r",
        " 30%|\u2588\u2588\u2588       | 63720/210001 [00:10<00:24, 5932.77files/s]"
       ]
      },
      {
       "output_type": "stream",
       "stream": "stderr",
       "text": [
        "\r",
        " 31%|\u2588\u2588\u2588       | 64315/210001 [00:10<00:26, 5474.37files/s]"
       ]
      },
      {
       "output_type": "stream",
       "stream": "stderr",
       "text": [
        "\r",
        " 31%|\u2588\u2588\u2588       | 64871/210001 [00:10<00:27, 5209.93files/s]"
       ]
      },
      {
       "output_type": "stream",
       "stream": "stderr",
       "text": [
        "\r",
        " 31%|\u2588\u2588\u2588       | 65401/210001 [00:10<00:28, 5116.08files/s]"
       ]
      },
      {
       "output_type": "stream",
       "stream": "stderr",
       "text": [
        "\r",
        " 31%|\u2588\u2588\u2588\u258f      | 65919/210001 [00:10<00:28, 5091.52files/s]"
       ]
      },
      {
       "output_type": "stream",
       "stream": "stderr",
       "text": [
        "\r",
        " 32%|\u2588\u2588\u2588\u258f      | 66433/210001 [00:11<00:28, 4990.36files/s]"
       ]
      },
      {
       "output_type": "stream",
       "stream": "stderr",
       "text": [
        "\r",
        " 32%|\u2588\u2588\u2588\u258f      | 66936/210001 [00:11<00:29, 4911.65files/s]"
       ]
      },
      {
       "output_type": "stream",
       "stream": "stderr",
       "text": [
        "\r",
        " 32%|\u2588\u2588\u2588\u258f      | 67520/210001 [00:11<00:27, 5157.39files/s]"
       ]
      },
      {
       "output_type": "stream",
       "stream": "stderr",
       "text": [
        "\r",
        " 32%|\u2588\u2588\u2588\u258f      | 68042/210001 [00:11<00:27, 5175.30files/s]"
       ]
      },
      {
       "output_type": "stream",
       "stream": "stderr",
       "text": [
        "\r",
        " 33%|\u2588\u2588\u2588\u258e      | 68564/210001 [00:11<00:27, 5143.94files/s]"
       ]
      },
      {
       "output_type": "stream",
       "stream": "stderr",
       "text": [
        "\r",
        " 33%|\u2588\u2588\u2588\u258e      | 69119/210001 [00:11<00:26, 5257.70files/s]"
       ]
      },
      {
       "output_type": "stream",
       "stream": "stderr",
       "text": [
        "\r",
        " 33%|\u2588\u2588\u2588\u258e      | 69712/210001 [00:11<00:25, 5442.25files/s]"
       ]
      },
      {
       "output_type": "stream",
       "stream": "stderr",
       "text": [
        "\r",
        " 33%|\u2588\u2588\u2588\u258e      | 70294/210001 [00:11<00:25, 5549.91files/s]"
       ]
      },
      {
       "output_type": "stream",
       "stream": "stderr",
       "text": [
        "\r",
        " 34%|\u2588\u2588\u2588\u258e      | 70852/210001 [00:11<00:25, 5407.50files/s]"
       ]
      },
      {
       "output_type": "stream",
       "stream": "stderr",
       "text": [
        "\r",
        " 34%|\u2588\u2588\u2588\u258d      | 71396/210001 [00:12<00:25, 5368.19files/s]"
       ]
      },
      {
       "output_type": "stream",
       "stream": "stderr",
       "text": [
        "\r",
        " 34%|\u2588\u2588\u2588\u258d      | 71935/210001 [00:12<00:25, 5350.64files/s]"
       ]
      },
      {
       "output_type": "stream",
       "stream": "stderr",
       "text": [
        "\r",
        " 35%|\u2588\u2588\u2588\u258d      | 72474/210001 [00:12<00:25, 5356.54files/s]"
       ]
      },
      {
       "output_type": "stream",
       "stream": "stderr",
       "text": [
        "\r",
        " 35%|\u2588\u2588\u2588\u258d      | 73011/210001 [00:12<00:25, 5306.86files/s]"
       ]
      },
      {
       "output_type": "stream",
       "stream": "stderr",
       "text": [
        "\r",
        " 35%|\u2588\u2588\u2588\u258c      | 73543/210001 [00:12<00:25, 5263.04files/s]"
       ]
      },
      {
       "output_type": "stream",
       "stream": "stderr",
       "text": [
        "\r",
        " 35%|\u2588\u2588\u2588\u258c      | 74148/210001 [00:12<00:24, 5474.86files/s]"
       ]
      },
      {
       "output_type": "stream",
       "stream": "stderr",
       "text": [
        "\r",
        " 36%|\u2588\u2588\u2588\u258c      | 74756/210001 [00:12<00:23, 5642.59files/s]"
       ]
      },
      {
       "output_type": "stream",
       "stream": "stderr",
       "text": [
        "\r",
        " 36%|\u2588\u2588\u2588\u258c      | 75329/210001 [00:12<00:23, 5666.47files/s]"
       ]
      },
      {
       "output_type": "stream",
       "stream": "stderr",
       "text": [
        "\r",
        " 36%|\u2588\u2588\u2588\u258c      | 75926/210001 [00:12<00:23, 5752.64files/s]"
       ]
      },
      {
       "output_type": "stream",
       "stream": "stderr",
       "text": [
        "\r",
        " 36%|\u2588\u2588\u2588\u258b      | 76520/210001 [00:12<00:22, 5807.37files/s]"
       ]
      },
      {
       "output_type": "stream",
       "stream": "stderr",
       "text": [
        "\r",
        " 37%|\u2588\u2588\u2588\u258b      | 77118/210001 [00:13<00:22, 5857.52files/s]"
       ]
      },
      {
       "output_type": "stream",
       "stream": "stderr",
       "text": [
        "\r",
        " 37%|\u2588\u2588\u2588\u258b      | 77710/210001 [00:13<00:22, 5873.65files/s]"
       ]
      },
      {
       "output_type": "stream",
       "stream": "stderr",
       "text": [
        "\r",
        " 37%|\u2588\u2588\u2588\u258b      | 78299/210001 [00:13<00:22, 5871.98files/s]"
       ]
      },
      {
       "output_type": "stream",
       "stream": "stderr",
       "text": [
        "\r",
        " 38%|\u2588\u2588\u2588\u258a      | 78890/210001 [00:13<00:22, 5883.31files/s]"
       ]
      },
      {
       "output_type": "stream",
       "stream": "stderr",
       "text": [
        "\r",
        " 38%|\u2588\u2588\u2588\u258a      | 79499/210001 [00:13<00:21, 5941.82files/s]"
       ]
      },
      {
       "output_type": "stream",
       "stream": "stderr",
       "text": [
        "\r",
        " 38%|\u2588\u2588\u2588\u258a      | 80119/210001 [00:13<00:21, 6014.94files/s]"
       ]
      },
      {
       "output_type": "stream",
       "stream": "stderr",
       "text": [
        "\r",
        " 38%|\u2588\u2588\u2588\u258a      | 80755/210001 [00:13<00:21, 6112.77files/s]"
       ]
      },
      {
       "output_type": "stream",
       "stream": "stderr",
       "text": [
        "\r",
        " 39%|\u2588\u2588\u2588\u2589      | 81376/210001 [00:13<00:20, 6141.15files/s]"
       ]
      },
      {
       "output_type": "stream",
       "stream": "stderr",
       "text": [
        "\r",
        " 39%|\u2588\u2588\u2588\u2589      | 81991/210001 [00:13<00:20, 6136.89files/s]"
       ]
      },
      {
       "output_type": "stream",
       "stream": "stderr",
       "text": [
        "\r",
        " 39%|\u2588\u2588\u2588\u2589      | 82606/210001 [00:13<00:20, 6138.58files/s]"
       ]
      },
      {
       "output_type": "stream",
       "stream": "stderr",
       "text": [
        "\r",
        " 40%|\u2588\u2588\u2588\u2589      | 83221/210001 [00:14<00:21, 5873.90files/s]"
       ]
      },
      {
       "output_type": "stream",
       "stream": "stderr",
       "text": [
        "\r",
        " 40%|\u2588\u2588\u2588\u2589      | 83811/210001 [00:14<00:22, 5551.94files/s]"
       ]
      },
      {
       "output_type": "stream",
       "stream": "stderr",
       "text": [
        "\r",
        " 40%|\u2588\u2588\u2588\u2588      | 84372/210001 [00:14<00:24, 5232.46files/s]"
       ]
      },
      {
       "output_type": "stream",
       "stream": "stderr",
       "text": [
        "\r",
        " 40%|\u2588\u2588\u2588\u2588      | 84959/210001 [00:14<00:23, 5408.53files/s]"
       ]
      },
      {
       "output_type": "stream",
       "stream": "stderr",
       "text": [
        "\r",
        " 41%|\u2588\u2588\u2588\u2588      | 85557/210001 [00:14<00:22, 5567.40files/s]"
       ]
      },
      {
       "output_type": "stream",
       "stream": "stderr",
       "text": [
        "\r",
        " 41%|\u2588\u2588\u2588\u2588      | 86161/210001 [00:14<00:21, 5699.18files/s]"
       ]
      },
      {
       "output_type": "stream",
       "stream": "stderr",
       "text": [
        "\r",
        " 41%|\u2588\u2588\u2588\u2588\u258f     | 86736/210001 [00:14<00:21, 5704.51files/s]"
       ]
      },
      {
       "output_type": "stream",
       "stream": "stderr",
       "text": [
        "\r",
        " 42%|\u2588\u2588\u2588\u2588\u258f     | 87310/210001 [00:14<00:21, 5675.97files/s]"
       ]
      },
      {
       "output_type": "stream",
       "stream": "stderr",
       "text": [
        "\r",
        " 42%|\u2588\u2588\u2588\u2588\u258f     | 87881/210001 [00:14<00:22, 5406.15files/s]"
       ]
      },
      {
       "output_type": "stream",
       "stream": "stderr",
       "text": [
        "\r",
        " 42%|\u2588\u2588\u2588\u2588\u258f     | 88427/210001 [00:15<00:23, 5262.18files/s]"
       ]
      },
      {
       "output_type": "stream",
       "stream": "stderr",
       "text": [
        "\r",
        " 42%|\u2588\u2588\u2588\u2588\u258f     | 89046/210001 [00:15<00:21, 5508.60files/s]"
       ]
      },
      {
       "output_type": "stream",
       "stream": "stderr",
       "text": [
        "\r",
        " 43%|\u2588\u2588\u2588\u2588\u258e     | 89650/210001 [00:15<00:21, 5657.86files/s]"
       ]
      },
      {
       "output_type": "stream",
       "stream": "stderr",
       "text": [
        "\r",
        " 43%|\u2588\u2588\u2588\u2588\u258e     | 90221/210001 [00:15<00:21, 5661.70files/s]"
       ]
      },
      {
       "output_type": "stream",
       "stream": "stderr",
       "text": [
        "\r",
        " 43%|\u2588\u2588\u2588\u2588\u258e     | 90791/210001 [00:15<00:21, 5526.97files/s]"
       ]
      },
      {
       "output_type": "stream",
       "stream": "stderr",
       "text": [
        "\r",
        " 44%|\u2588\u2588\u2588\u2588\u258e     | 91387/210001 [00:15<00:20, 5649.23files/s]"
       ]
      },
      {
       "output_type": "stream",
       "stream": "stderr",
       "text": [
        "\r",
        " 44%|\u2588\u2588\u2588\u2588\u258d     | 91992/210001 [00:15<00:20, 5763.51files/s]"
       ]
      },
      {
       "output_type": "stream",
       "stream": "stderr",
       "text": [
        "\r",
        " 44%|\u2588\u2588\u2588\u2588\u258d     | 92571/210001 [00:15<00:20, 5760.86files/s]"
       ]
      },
      {
       "output_type": "stream",
       "stream": "stderr",
       "text": [
        "\r",
        " 44%|\u2588\u2588\u2588\u2588\u258d     | 93166/210001 [00:15<00:20, 5814.62files/s]"
       ]
      },
      {
       "output_type": "stream",
       "stream": "stderr",
       "text": [
        "\r",
        " 45%|\u2588\u2588\u2588\u2588\u258d     | 93749/210001 [00:15<00:20, 5631.58files/s]"
       ]
      },
      {
       "output_type": "stream",
       "stream": "stderr",
       "text": [
        "\r",
        " 45%|\u2588\u2588\u2588\u2588\u258d     | 94315/210001 [00:16<00:21, 5494.96files/s]"
       ]
      },
      {
       "output_type": "stream",
       "stream": "stderr",
       "text": [
        "\r",
        " 45%|\u2588\u2588\u2588\u2588\u258c     | 94902/210001 [00:16<00:20, 5600.75files/s]"
       ]
      },
      {
       "output_type": "stream",
       "stream": "stderr",
       "text": [
        "\r",
        " 45%|\u2588\u2588\u2588\u2588\u258c     | 95465/210001 [00:16<00:20, 5605.79files/s]"
       ]
      },
      {
       "output_type": "stream",
       "stream": "stderr",
       "text": [
        "\r",
        " 46%|\u2588\u2588\u2588\u2588\u258c     | 96028/210001 [00:16<00:20, 5576.58files/s]"
       ]
      },
      {
       "output_type": "stream",
       "stream": "stderr",
       "text": [
        "\r",
        " 46%|\u2588\u2588\u2588\u2588\u258c     | 96597/210001 [00:16<00:20, 5607.69files/s]"
       ]
      },
      {
       "output_type": "stream",
       "stream": "stderr",
       "text": [
        "\r",
        " 46%|\u2588\u2588\u2588\u2588\u258b     | 97169/210001 [00:16<00:20, 5638.60files/s]"
       ]
      },
      {
       "output_type": "stream",
       "stream": "stderr",
       "text": [
        "\r",
        " 47%|\u2588\u2588\u2588\u2588\u258b     | 97734/210001 [00:16<00:22, 5011.32files/s]"
       ]
      },
      {
       "output_type": "stream",
       "stream": "stderr",
       "text": [
        "\r",
        " 47%|\u2588\u2588\u2588\u2588\u258b     | 98269/210001 [00:16<00:21, 5107.79files/s]"
       ]
      },
      {
       "output_type": "stream",
       "stream": "stderr",
       "text": [
        "\r",
        " 47%|\u2588\u2588\u2588\u2588\u258b     | 98790/210001 [00:16<00:22, 5037.97files/s]"
       ]
      },
      {
       "output_type": "stream",
       "stream": "stderr",
       "text": [
        "\r",
        " 47%|\u2588\u2588\u2588\u2588\u258b     | 99320/210001 [00:16<00:21, 5113.14files/s]"
       ]
      },
      {
       "output_type": "stream",
       "stream": "stderr",
       "text": [
        "\r",
        " 48%|\u2588\u2588\u2588\u2588\u258a     | 99837/210001 [00:17<00:21, 5073.13files/s]"
       ]
      },
      {
       "output_type": "stream",
       "stream": "stderr",
       "text": [
        "\r",
        " 48%|\u2588\u2588\u2588\u2588\u258a     | 100416/210001 [00:17<00:20, 5267.01files/s]"
       ]
      },
      {
       "output_type": "stream",
       "stream": "stderr",
       "text": [
        "\r",
        " 48%|\u2588\u2588\u2588\u2588\u258a     | 100998/210001 [00:17<00:20, 5420.02files/s]"
       ]
      },
      {
       "output_type": "stream",
       "stream": "stderr",
       "text": [
        "\r",
        " 48%|\u2588\u2588\u2588\u2588\u258a     | 101560/210001 [00:17<00:19, 5477.78files/s]"
       ]
      },
      {
       "output_type": "stream",
       "stream": "stderr",
       "text": [
        "\r",
        " 49%|\u2588\u2588\u2588\u2588\u258a     | 102114/210001 [00:17<00:19, 5493.81files/s]"
       ]
      },
      {
       "output_type": "stream",
       "stream": "stderr",
       "text": [
        "\r",
        " 49%|\u2588\u2588\u2588\u2588\u2589     | 102666/210001 [00:17<00:20, 5199.08files/s]"
       ]
      },
      {
       "output_type": "stream",
       "stream": "stderr",
       "text": [
        "\r",
        " 49%|\u2588\u2588\u2588\u2588\u2589     | 103191/210001 [00:17<00:21, 4996.62files/s]"
       ]
      },
      {
       "output_type": "stream",
       "stream": "stderr",
       "text": [
        "\r",
        " 49%|\u2588\u2588\u2588\u2588\u2589     | 103696/210001 [00:17<00:21, 4998.64files/s]"
       ]
      },
      {
       "output_type": "stream",
       "stream": "stderr",
       "text": [
        "\r",
        " 50%|\u2588\u2588\u2588\u2588\u2589     | 104267/210001 [00:17<00:20, 5191.18files/s]"
       ]
      },
      {
       "output_type": "stream",
       "stream": "stderr",
       "text": [
        "\r",
        " 50%|\u2588\u2588\u2588\u2588\u2589     | 104887/210001 [00:18<00:19, 5457.31files/s]"
       ]
      },
      {
       "output_type": "stream",
       "stream": "stderr",
       "text": [
        "\r",
        " 50%|\u2588\u2588\u2588\u2588\u2588     | 105492/210001 [00:18<00:18, 5620.39files/s]"
       ]
      },
      {
       "output_type": "stream",
       "stream": "stderr",
       "text": [
        "\r",
        " 51%|\u2588\u2588\u2588\u2588\u2588     | 106081/210001 [00:18<00:18, 5696.95files/s]"
       ]
      },
      {
       "output_type": "stream",
       "stream": "stderr",
       "text": [
        "\r",
        " 51%|\u2588\u2588\u2588\u2588\u2588     | 106656/210001 [00:18<00:19, 5228.86files/s]"
       ]
      },
      {
       "output_type": "stream",
       "stream": "stderr",
       "text": [
        "\r",
        " 51%|\u2588\u2588\u2588\u2588\u2588     | 107190/210001 [00:18<00:19, 5193.99files/s]"
       ]
      },
      {
       "output_type": "stream",
       "stream": "stderr",
       "text": [
        "\r",
        " 51%|\u2588\u2588\u2588\u2588\u2588\u258f    | 107774/210001 [00:18<00:19, 5370.39files/s]"
       ]
      },
      {
       "output_type": "stream",
       "stream": "stderr",
       "text": [
        "\r",
        " 52%|\u2588\u2588\u2588\u2588\u2588\u258f    | 108359/210001 [00:18<00:18, 5503.24files/s]"
       ]
      },
      {
       "output_type": "stream",
       "stream": "stderr",
       "text": [
        "\r",
        " 52%|\u2588\u2588\u2588\u2588\u2588\u258f    | 108955/210001 [00:18<00:17, 5631.90files/s]"
       ]
      },
      {
       "output_type": "stream",
       "stream": "stderr",
       "text": [
        "\r",
        " 52%|\u2588\u2588\u2588\u2588\u2588\u258f    | 109553/210001 [00:18<00:17, 5730.71files/s]"
       ]
      },
      {
       "output_type": "stream",
       "stream": "stderr",
       "text": [
        "\r",
        " 52%|\u2588\u2588\u2588\u2588\u2588\u258f    | 110130/210001 [00:18<00:17, 5661.72files/s]"
       ]
      },
      {
       "output_type": "stream",
       "stream": "stderr",
       "text": [
        "\r",
        " 53%|\u2588\u2588\u2588\u2588\u2588\u258e    | 110730/210001 [00:19<00:17, 5758.32files/s]"
       ]
      },
      {
       "output_type": "stream",
       "stream": "stderr",
       "text": [
        "\r",
        " 53%|\u2588\u2588\u2588\u2588\u2588\u258e    | 111331/210001 [00:19<00:16, 5827.81files/s]"
       ]
      },
      {
       "output_type": "stream",
       "stream": "stderr",
       "text": [
        "\r",
        " 53%|\u2588\u2588\u2588\u2588\u2588\u258e    | 111916/210001 [00:19<00:18, 5353.55files/s]"
       ]
      },
      {
       "output_type": "stream",
       "stream": "stderr",
       "text": [
        "\r",
        " 54%|\u2588\u2588\u2588\u2588\u2588\u258e    | 112461/210001 [00:19<00:18, 5360.69files/s]"
       ]
      },
      {
       "output_type": "stream",
       "stream": "stderr",
       "text": [
        "\r",
        " 54%|\u2588\u2588\u2588\u2588\u2588\u258d    | 113004/210001 [00:19<00:19, 4978.90files/s]"
       ]
      },
      {
       "output_type": "stream",
       "stream": "stderr",
       "text": [
        "\r",
        " 54%|\u2588\u2588\u2588\u2588\u2588\u258d    | 113572/210001 [00:19<00:18, 5168.74files/s]"
       ]
      },
      {
       "output_type": "stream",
       "stream": "stderr",
       "text": [
        "\r",
        " 54%|\u2588\u2588\u2588\u2588\u2588\u258d    | 114109/210001 [00:19<00:18, 5225.19files/s]"
       ]
      },
      {
       "output_type": "stream",
       "stream": "stderr",
       "text": [
        "\r",
        " 55%|\u2588\u2588\u2588\u2588\u2588\u258d    | 114722/210001 [00:19<00:17, 5465.89files/s]"
       ]
      },
      {
       "output_type": "stream",
       "stream": "stderr",
       "text": [
        "\r",
        " 55%|\u2588\u2588\u2588\u2588\u2588\u258d    | 115328/210001 [00:19<00:16, 5629.59files/s]"
       ]
      },
      {
       "output_type": "stream",
       "stream": "stderr",
       "text": [
        "\r",
        " 55%|\u2588\u2588\u2588\u2588\u2588\u258c    | 115898/210001 [00:20<00:16, 5627.72files/s]"
       ]
      },
      {
       "output_type": "stream",
       "stream": "stderr",
       "text": [
        "\r",
        " 55%|\u2588\u2588\u2588\u2588\u2588\u258c    | 116496/210001 [00:20<00:16, 5727.25files/s]"
       ]
      },
      {
       "output_type": "stream",
       "stream": "stderr",
       "text": [
        "\r",
        " 56%|\u2588\u2588\u2588\u2588\u2588\u258c    | 117091/210001 [00:20<00:16, 5791.55files/s]"
       ]
      },
      {
       "output_type": "stream",
       "stream": "stderr",
       "text": [
        "\r",
        " 56%|\u2588\u2588\u2588\u2588\u2588\u258c    | 117673/210001 [00:20<00:17, 5319.34files/s]"
       ]
      },
      {
       "output_type": "stream",
       "stream": "stderr",
       "text": [
        "\r",
        " 56%|\u2588\u2588\u2588\u2588\u2588\u258b    | 118246/210001 [00:20<00:16, 5435.87files/s]"
       ]
      },
      {
       "output_type": "stream",
       "stream": "stderr",
       "text": [
        "\r",
        " 57%|\u2588\u2588\u2588\u2588\u2588\u258b    | 118832/210001 [00:20<00:16, 5554.75files/s]"
       ]
      },
      {
       "output_type": "stream",
       "stream": "stderr",
       "text": [
        "\r",
        " 57%|\u2588\u2588\u2588\u2588\u2588\u258b    | 119416/210001 [00:20<00:16, 5636.94files/s]"
       ]
      },
      {
       "output_type": "stream",
       "stream": "stderr",
       "text": [
        "\r",
        " 57%|\u2588\u2588\u2588\u2588\u2588\u258b    | 119994/210001 [00:20<00:15, 5677.88files/s]"
       ]
      },
      {
       "output_type": "stream",
       "stream": "stderr",
       "text": [
        "\r",
        " 57%|\u2588\u2588\u2588\u2588\u2588\u258b    | 120584/210001 [00:20<00:15, 5740.55files/s]"
       ]
      },
      {
       "output_type": "stream",
       "stream": "stderr",
       "text": [
        "\r",
        " 58%|\u2588\u2588\u2588\u2588\u2588\u258a    | 121178/210001 [00:20<00:15, 5797.43files/s]"
       ]
      },
      {
       "output_type": "stream",
       "stream": "stderr",
       "text": [
        "\r",
        " 58%|\u2588\u2588\u2588\u2588\u2588\u258a    | 121786/210001 [00:21<00:15, 5876.95files/s]"
       ]
      },
      {
       "output_type": "stream",
       "stream": "stderr",
       "text": [
        "\r",
        " 58%|\u2588\u2588\u2588\u2588\u2588\u258a    | 122389/210001 [00:21<00:14, 5919.23files/s]"
       ]
      },
      {
       "output_type": "stream",
       "stream": "stderr",
       "text": [
        "\r",
        " 59%|\u2588\u2588\u2588\u2588\u2588\u258a    | 122995/210001 [00:21<00:14, 5960.32files/s]"
       ]
      },
      {
       "output_type": "stream",
       "stream": "stderr",
       "text": [
        "\r",
        " 59%|\u2588\u2588\u2588\u2588\u2588\u2589    | 123592/210001 [00:21<00:15, 5449.03files/s]"
       ]
      },
      {
       "output_type": "stream",
       "stream": "stderr",
       "text": [
        "\r",
        " 59%|\u2588\u2588\u2588\u2588\u2588\u2589    | 124147/210001 [00:21<00:15, 5379.71files/s]"
       ]
      },
      {
       "output_type": "stream",
       "stream": "stderr",
       "text": [
        "\r",
        " 59%|\u2588\u2588\u2588\u2588\u2588\u2589    | 124692/210001 [00:21<00:16, 5250.77files/s]"
       ]
      },
      {
       "output_type": "stream",
       "stream": "stderr",
       "text": [
        "\r",
        " 60%|\u2588\u2588\u2588\u2588\u2588\u2589    | 125223/210001 [00:21<00:16, 5168.55files/s]"
       ]
      },
      {
       "output_type": "stream",
       "stream": "stderr",
       "text": [
        "\r",
        " 60%|\u2588\u2588\u2588\u2588\u2588\u2589    | 125744/210001 [00:21<00:16, 4983.62files/s]"
       ]
      },
      {
       "output_type": "stream",
       "stream": "stderr",
       "text": [
        "\r",
        " 60%|\u2588\u2588\u2588\u2588\u2588\u2588    | 126247/210001 [00:21<00:16, 4996.27files/s]"
       ]
      },
      {
       "output_type": "stream",
       "stream": "stderr",
       "text": [
        "\r",
        " 60%|\u2588\u2588\u2588\u2588\u2588\u2588    | 126750/210001 [00:22<00:16, 5003.80files/s]"
       ]
      },
      {
       "output_type": "stream",
       "stream": "stderr",
       "text": [
        "\r",
        " 61%|\u2588\u2588\u2588\u2588\u2588\u2588    | 127253/210001 [00:22<00:17, 4846.18files/s]"
       ]
      },
      {
       "output_type": "stream",
       "stream": "stderr",
       "text": [
        "\r",
        " 61%|\u2588\u2588\u2588\u2588\u2588\u2588    | 127766/210001 [00:22<00:16, 4927.28files/s]"
       ]
      },
      {
       "output_type": "stream",
       "stream": "stderr",
       "text": [
        "\r",
        " 61%|\u2588\u2588\u2588\u2588\u2588\u2588    | 128261/210001 [00:22<00:16, 4876.48files/s]"
       ]
      },
      {
       "output_type": "stream",
       "stream": "stderr",
       "text": [
        "\r",
        " 61%|\u2588\u2588\u2588\u2588\u2588\u2588\u258f   | 128751/210001 [00:22<00:16, 4863.07files/s]"
       ]
      },
      {
       "output_type": "stream",
       "stream": "stderr",
       "text": [
        "\r",
        " 62%|\u2588\u2588\u2588\u2588\u2588\u2588\u258f   | 129239/210001 [00:22<00:17, 4652.62files/s]"
       ]
      },
      {
       "output_type": "stream",
       "stream": "stderr",
       "text": [
        "\r",
        " 62%|\u2588\u2588\u2588\u2588\u2588\u2588\u258f   | 129733/210001 [00:22<00:16, 4733.74files/s]"
       ]
      },
      {
       "output_type": "stream",
       "stream": "stderr",
       "text": [
        "\r",
        " 62%|\u2588\u2588\u2588\u2588\u2588\u2588\u258f   | 130209/210001 [00:22<00:17, 4629.91files/s]"
       ]
      },
      {
       "output_type": "stream",
       "stream": "stderr",
       "text": [
        "\r",
        " 62%|\u2588\u2588\u2588\u2588\u2588\u2588\u258f   | 130675/210001 [00:22<00:18, 4347.90files/s]"
       ]
      },
      {
       "output_type": "stream",
       "stream": "stderr",
       "text": [
        "\r",
        " 62%|\u2588\u2588\u2588\u2588\u2588\u2588\u258f   | 131139/210001 [00:22<00:17, 4430.97files/s]"
       ]
      },
      {
       "output_type": "stream",
       "stream": "stderr",
       "text": [
        "\r",
        " 63%|\u2588\u2588\u2588\u2588\u2588\u2588\u258e   | 131586/210001 [00:23<00:18, 4248.77files/s]"
       ]
      },
      {
       "output_type": "stream",
       "stream": "stderr",
       "text": [
        "\r",
        " 63%|\u2588\u2588\u2588\u2588\u2588\u2588\u258e   | 132053/210001 [00:23<00:17, 4366.33files/s]"
       ]
      },
      {
       "output_type": "stream",
       "stream": "stderr",
       "text": [
        "\r",
        " 63%|\u2588\u2588\u2588\u2588\u2588\u2588\u258e   | 132494/210001 [00:23<00:19, 3974.25files/s]"
       ]
      },
      {
       "output_type": "stream",
       "stream": "stderr",
       "text": [
        "\r",
        " 63%|\u2588\u2588\u2588\u2588\u2588\u2588\u258e   | 132941/210001 [00:23<00:18, 4108.59files/s]"
       ]
      },
      {
       "output_type": "stream",
       "stream": "stderr",
       "text": [
        "\r",
        " 64%|\u2588\u2588\u2588\u2588\u2588\u2588\u258e   | 133421/210001 [00:23<00:17, 4292.48files/s]"
       ]
      },
      {
       "output_type": "stream",
       "stream": "stderr",
       "text": [
        "\r",
        " 64%|\u2588\u2588\u2588\u2588\u2588\u2588\u258e   | 133858/210001 [00:23<00:17, 4268.01files/s]"
       ]
      },
      {
       "output_type": "stream",
       "stream": "stderr",
       "text": [
        "\r",
        " 64%|\u2588\u2588\u2588\u2588\u2588\u2588\u258d   | 134291/210001 [00:23<00:19, 3829.02files/s]"
       ]
      },
      {
       "output_type": "stream",
       "stream": "stderr",
       "text": [
        "\r",
        " 64%|\u2588\u2588\u2588\u2588\u2588\u2588\u258d   | 134687/210001 [00:23<00:19, 3846.66files/s]"
       ]
      },
      {
       "output_type": "stream",
       "stream": "stderr",
       "text": [
        "\r",
        " 64%|\u2588\u2588\u2588\u2588\u2588\u2588\u258d   | 135188/210001 [00:23<00:18, 4133.30files/s]"
       ]
      },
      {
       "output_type": "stream",
       "stream": "stderr",
       "text": [
        "\r",
        " 65%|\u2588\u2588\u2588\u2588\u2588\u2588\u258d   | 135676/210001 [00:24<00:17, 4330.55files/s]"
       ]
      },
      {
       "output_type": "stream",
       "stream": "stderr",
       "text": [
        "\r",
        " 65%|\u2588\u2588\u2588\u2588\u2588\u2588\u258d   | 136211/210001 [00:24<00:16, 4592.93files/s]"
       ]
      },
      {
       "output_type": "stream",
       "stream": "stderr",
       "text": [
        "\r",
        " 65%|\u2588\u2588\u2588\u2588\u2588\u2588\u258c   | 136683/210001 [00:24<00:15, 4611.49files/s]"
       ]
      },
      {
       "output_type": "stream",
       "stream": "stderr",
       "text": [
        "\r",
        " 65%|\u2588\u2588\u2588\u2588\u2588\u2588\u258c   | 137153/210001 [00:24<00:16, 4473.59files/s]"
       ]
      },
      {
       "output_type": "stream",
       "stream": "stderr",
       "text": [
        "\r",
        " 66%|\u2588\u2588\u2588\u2588\u2588\u2588\u258c   | 137650/210001 [00:24<00:15, 4611.67files/s]"
       ]
      },
      {
       "output_type": "stream",
       "stream": "stderr",
       "text": [
        "\r",
        " 66%|\u2588\u2588\u2588\u2588\u2588\u2588\u258c   | 138117/210001 [00:24<00:15, 4586.24files/s]"
       ]
      },
      {
       "output_type": "stream",
       "stream": "stderr",
       "text": [
        "\r",
        " 66%|\u2588\u2588\u2588\u2588\u2588\u2588\u258c   | 138587/210001 [00:24<00:15, 4618.25files/s]"
       ]
      },
      {
       "output_type": "stream",
       "stream": "stderr",
       "text": [
        "\r",
        " 66%|\u2588\u2588\u2588\u2588\u2588\u2588\u258c   | 139052/210001 [00:24<00:15, 4527.15files/s]"
       ]
      },
      {
       "output_type": "stream",
       "stream": "stderr",
       "text": [
        "\r",
        " 66%|\u2588\u2588\u2588\u2588\u2588\u2588\u258b   | 139508/210001 [00:24<00:16, 4252.18files/s]"
       ]
      },
      {
       "output_type": "stream",
       "stream": "stderr",
       "text": [
        "\r",
        " 67%|\u2588\u2588\u2588\u2588\u2588\u2588\u258b   | 139939/210001 [00:25<00:18, 3877.40files/s]"
       ]
      },
      {
       "output_type": "stream",
       "stream": "stderr",
       "text": [
        "\r",
        " 67%|\u2588\u2588\u2588\u2588\u2588\u2588\u258b   | 140382/210001 [00:25<00:17, 4028.11files/s]"
       ]
      },
      {
       "output_type": "stream",
       "stream": "stderr",
       "text": [
        "\r",
        " 67%|\u2588\u2588\u2588\u2588\u2588\u2588\u258b   | 140794/210001 [00:25<00:18, 3734.35files/s]"
       ]
      },
      {
       "output_type": "stream",
       "stream": "stderr",
       "text": [
        "\r",
        " 67%|\u2588\u2588\u2588\u2588\u2588\u2588\u258b   | 141196/210001 [00:25<00:18, 3814.58files/s]"
       ]
      },
      {
       "output_type": "stream",
       "stream": "stderr",
       "text": [
        "\r",
        " 67%|\u2588\u2588\u2588\u2588\u2588\u2588\u258b   | 141716/210001 [00:25<00:16, 4144.64files/s]"
       ]
      },
      {
       "output_type": "stream",
       "stream": "stderr",
       "text": [
        "\r",
        " 68%|\u2588\u2588\u2588\u2588\u2588\u2588\u258a   | 142264/210001 [00:25<00:15, 4470.39files/s]"
       ]
      },
      {
       "output_type": "stream",
       "stream": "stderr",
       "text": [
        "\r",
        " 68%|\u2588\u2588\u2588\u2588\u2588\u2588\u258a   | 142728/210001 [00:25<00:15, 4291.22files/s]"
       ]
      },
      {
       "output_type": "stream",
       "stream": "stderr",
       "text": [
        "\r",
        " 68%|\u2588\u2588\u2588\u2588\u2588\u2588\u258a   | 143242/210001 [00:25<00:14, 4514.71files/s]"
       ]
      },
      {
       "output_type": "stream",
       "stream": "stderr",
       "text": [
        "\r",
        " 68%|\u2588\u2588\u2588\u2588\u2588\u2588\u258a   | 143706/210001 [00:25<00:15, 4372.57files/s]"
       ]
      },
      {
       "output_type": "stream",
       "stream": "stderr",
       "text": [
        "\r",
        " 69%|\u2588\u2588\u2588\u2588\u2588\u2588\u258a   | 144153/210001 [00:26<00:15, 4347.82files/s]"
       ]
      },
      {
       "output_type": "stream",
       "stream": "stderr",
       "text": [
        "\r",
        " 69%|\u2588\u2588\u2588\u2588\u2588\u2588\u2589   | 144607/210001 [00:26<00:14, 4402.24files/s]"
       ]
      },
      {
       "output_type": "stream",
       "stream": "stderr",
       "text": [
        "\r",
        " 69%|\u2588\u2588\u2588\u2588\u2588\u2588\u2589   | 145107/210001 [00:26<00:14, 4564.37files/s]"
       ]
      },
      {
       "output_type": "stream",
       "stream": "stderr",
       "text": [
        "\r",
        " 69%|\u2588\u2588\u2588\u2588\u2588\u2588\u2589   | 145569/210001 [00:26<00:14, 4572.47files/s]"
       ]
      },
      {
       "output_type": "stream",
       "stream": "stderr",
       "text": [
        "\r",
        " 70%|\u2588\u2588\u2588\u2588\u2588\u2588\u2589   | 146052/210001 [00:26<00:13, 4645.48files/s]"
       ]
      },
      {
       "output_type": "stream",
       "stream": "stderr",
       "text": [
        "\r",
        " 70%|\u2588\u2588\u2588\u2588\u2588\u2588\u2589   | 146520/210001 [00:26<00:14, 4309.98files/s]"
       ]
      },
      {
       "output_type": "stream",
       "stream": "stderr",
       "text": [
        "\r",
        " 70%|\u2588\u2588\u2588\u2588\u2588\u2588\u2589   | 146958/210001 [00:26<00:15, 3992.13files/s]"
       ]
      },
      {
       "output_type": "stream",
       "stream": "stderr",
       "text": [
        "\r",
        " 70%|\u2588\u2588\u2588\u2588\u2588\u2588\u2588   | 147367/210001 [00:26<00:16, 3863.21files/s]"
       ]
      },
      {
       "output_type": "stream",
       "stream": "stderr",
       "text": [
        "\r",
        " 70%|\u2588\u2588\u2588\u2588\u2588\u2588\u2588   | 147803/210001 [00:26<00:15, 3999.25files/s]"
       ]
      },
      {
       "output_type": "stream",
       "stream": "stderr",
       "text": [
        "\r",
        " 71%|\u2588\u2588\u2588\u2588\u2588\u2588\u2588   | 148318/210001 [00:27<00:14, 4284.73files/s]"
       ]
      },
      {
       "output_type": "stream",
       "stream": "stderr",
       "text": [
        "\r",
        " 71%|\u2588\u2588\u2588\u2588\u2588\u2588\u2588   | 148803/210001 [00:27<00:13, 4438.41files/s]"
       ]
      },
      {
       "output_type": "stream",
       "stream": "stderr",
       "text": [
        "\r",
        " 71%|\u2588\u2588\u2588\u2588\u2588\u2588\u2588   | 149322/210001 [00:27<00:13, 4637.01files/s]"
       ]
      },
      {
       "output_type": "stream",
       "stream": "stderr",
       "text": [
        "\r",
        " 71%|\u2588\u2588\u2588\u2588\u2588\u2588\u2588\u258f  | 149828/210001 [00:27<00:12, 4753.63files/s]"
       ]
      },
      {
       "output_type": "stream",
       "stream": "stderr",
       "text": [
        "\r",
        " 72%|\u2588\u2588\u2588\u2588\u2588\u2588\u2588\u258f  | 150310/210001 [00:27<00:12, 4695.01files/s]"
       ]
      },
      {
       "output_type": "stream",
       "stream": "stderr",
       "text": [
        "\r",
        " 72%|\u2588\u2588\u2588\u2588\u2588\u2588\u2588\u258f  | 150830/210001 [00:27<00:12, 4835.30files/s]"
       ]
      },
      {
       "output_type": "stream",
       "stream": "stderr",
       "text": [
        "\r",
        " 72%|\u2588\u2588\u2588\u2588\u2588\u2588\u2588\u258f  | 151318/210001 [00:27<00:13, 4309.59files/s]"
       ]
      },
      {
       "output_type": "stream",
       "stream": "stderr",
       "text": [
        "\r",
        " 72%|\u2588\u2588\u2588\u2588\u2588\u2588\u2588\u258f  | 151763/210001 [00:27<00:13, 4200.58files/s]"
       ]
      },
      {
       "output_type": "stream",
       "stream": "stderr",
       "text": [
        "\r",
        " 72%|\u2588\u2588\u2588\u2588\u2588\u2588\u2588\u258f  | 152194/210001 [00:27<00:14, 4044.92files/s]"
       ]
      },
      {
       "output_type": "stream",
       "stream": "stderr",
       "text": [
        "\r",
        " 73%|\u2588\u2588\u2588\u2588\u2588\u2588\u2588\u258e  | 152739/210001 [00:27<00:13, 4382.64files/s]"
       ]
      },
      {
       "output_type": "stream",
       "stream": "stderr",
       "text": [
        "\r",
        " 73%|\u2588\u2588\u2588\u2588\u2588\u2588\u2588\u258e  | 153192/210001 [00:28<00:13, 4358.17files/s]"
       ]
      },
      {
       "output_type": "stream",
       "stream": "stderr",
       "text": [
        "\r",
        " 73%|\u2588\u2588\u2588\u2588\u2588\u2588\u2588\u258e  | 153729/210001 [00:28<00:12, 4617.33files/s]"
       ]
      },
      {
       "output_type": "stream",
       "stream": "stderr",
       "text": [
        "\r",
        " 73%|\u2588\u2588\u2588\u2588\u2588\u2588\u2588\u258e  | 154298/210001 [00:28<00:11, 4892.95files/s]"
       ]
      },
      {
       "output_type": "stream",
       "stream": "stderr",
       "text": [
        "\r",
        " 74%|\u2588\u2588\u2588\u2588\u2588\u2588\u2588\u258e  | 154800/210001 [00:28<00:11, 4766.08files/s]"
       ]
      },
      {
       "output_type": "stream",
       "stream": "stderr",
       "text": [
        "\r",
        " 74%|\u2588\u2588\u2588\u2588\u2588\u2588\u2588\u258d  | 155382/210001 [00:28<00:10, 5038.80files/s]"
       ]
      },
      {
       "output_type": "stream",
       "stream": "stderr",
       "text": [
        "\r",
        " 74%|\u2588\u2588\u2588\u2588\u2588\u2588\u2588\u258d  | 155913/210001 [00:28<00:10, 5114.86files/s]"
       ]
      },
      {
       "output_type": "stream",
       "stream": "stderr",
       "text": [
        "\r",
        " 74%|\u2588\u2588\u2588\u2588\u2588\u2588\u2588\u258d  | 156433/210001 [00:28<00:12, 4463.21files/s]"
       ]
      },
      {
       "output_type": "stream",
       "stream": "stderr",
       "text": [
        "\r",
        " 75%|\u2588\u2588\u2588\u2588\u2588\u2588\u2588\u258d  | 156900/210001 [00:28<00:12, 4387.58files/s]"
       ]
      },
      {
       "output_type": "stream",
       "stream": "stderr",
       "text": [
        "\r",
        " 75%|\u2588\u2588\u2588\u2588\u2588\u2588\u2588\u258d  | 157424/210001 [00:28<00:11, 4611.04files/s]"
       ]
      },
      {
       "output_type": "stream",
       "stream": "stderr",
       "text": [
        "\r",
        " 75%|\u2588\u2588\u2588\u2588\u2588\u2588\u2588\u258c  | 157953/210001 [00:29<00:10, 4794.25files/s]"
       ]
      },
      {
       "output_type": "stream",
       "stream": "stderr",
       "text": [
        "\r",
        " 75%|\u2588\u2588\u2588\u2588\u2588\u2588\u2588\u258c  | 158444/210001 [00:29<00:10, 4744.85files/s]"
       ]
      },
      {
       "output_type": "stream",
       "stream": "stderr",
       "text": [
        "\r",
        " 76%|\u2588\u2588\u2588\u2588\u2588\u2588\u2588\u258c  | 158957/210001 [00:29<00:10, 4851.83files/s]"
       ]
      },
      {
       "output_type": "stream",
       "stream": "stderr",
       "text": [
        "\r",
        " 76%|\u2588\u2588\u2588\u2588\u2588\u2588\u2588\u258c  | 159449/210001 [00:29<00:10, 4750.60files/s]"
       ]
      },
      {
       "output_type": "stream",
       "stream": "stderr",
       "text": [
        "\r",
        " 76%|\u2588\u2588\u2588\u2588\u2588\u2588\u2588\u258c  | 159929/210001 [00:29<00:11, 4395.43files/s]"
       ]
      },
      {
       "output_type": "stream",
       "stream": "stderr",
       "text": [
        "\r",
        " 76%|\u2588\u2588\u2588\u2588\u2588\u2588\u2588\u258b  | 160432/210001 [00:29<00:10, 4566.58files/s]"
       ]
      },
      {
       "output_type": "stream",
       "stream": "stderr",
       "text": [
        "\r",
        " 77%|\u2588\u2588\u2588\u2588\u2588\u2588\u2588\u258b  | 160897/210001 [00:29<00:11, 4222.02files/s]"
       ]
      },
      {
       "output_type": "stream",
       "stream": "stderr",
       "text": [
        "\r",
        " 77%|\u2588\u2588\u2588\u2588\u2588\u2588\u2588\u258b  | 161385/210001 [00:29<00:11, 4398.21files/s]"
       ]
      },
      {
       "output_type": "stream",
       "stream": "stderr",
       "text": [
        "\r",
        " 77%|\u2588\u2588\u2588\u2588\u2588\u2588\u2588\u258b  | 161950/210001 [00:29<00:10, 4709.58files/s]"
       ]
      },
      {
       "output_type": "stream",
       "stream": "stderr",
       "text": [
        "\r",
        " 77%|\u2588\u2588\u2588\u2588\u2588\u2588\u2588\u258b  | 162453/210001 [00:30<00:09, 4800.20files/s]"
       ]
      },
      {
       "output_type": "stream",
       "stream": "stderr",
       "text": [
        "\r",
        " 78%|\u2588\u2588\u2588\u2588\u2588\u2588\u2588\u258a  | 163016/210001 [00:30<00:09, 5019.07files/s]"
       ]
      },
      {
       "output_type": "stream",
       "stream": "stderr",
       "text": [
        "\r",
        " 78%|\u2588\u2588\u2588\u2588\u2588\u2588\u2588\u258a  | 163528/210001 [00:30<00:10, 4495.82files/s]"
       ]
      },
      {
       "output_type": "stream",
       "stream": "stderr",
       "text": [
        "\r",
        " 78%|\u2588\u2588\u2588\u2588\u2588\u2588\u2588\u258a  | 164061/210001 [00:30<00:09, 4716.93files/s]"
       ]
      },
      {
       "output_type": "stream",
       "stream": "stderr",
       "text": [
        "\r",
        " 78%|\u2588\u2588\u2588\u2588\u2588\u2588\u2588\u258a  | 164574/210001 [00:30<00:09, 4832.99files/s]"
       ]
      },
      {
       "output_type": "stream",
       "stream": "stderr",
       "text": [
        "\r",
        " 79%|\u2588\u2588\u2588\u2588\u2588\u2588\u2588\u258a  | 165069/210001 [00:30<00:09, 4771.96files/s]"
       ]
      },
      {
       "output_type": "stream",
       "stream": "stderr",
       "text": [
        "\r",
        " 79%|\u2588\u2588\u2588\u2588\u2588\u2588\u2588\u2589  | 165554/210001 [00:30<00:09, 4448.52files/s]"
       ]
      },
      {
       "output_type": "stream",
       "stream": "stderr",
       "text": [
        "\r",
        " 79%|\u2588\u2588\u2588\u2588\u2588\u2588\u2588\u2589  | 166009/210001 [00:30<00:09, 4454.06files/s]"
       ]
      },
      {
       "output_type": "stream",
       "stream": "stderr",
       "text": [
        "\r",
        " 79%|\u2588\u2588\u2588\u2588\u2588\u2588\u2588\u2589  | 166490/210001 [00:30<00:09, 4554.44files/s]"
       ]
      },
      {
       "output_type": "stream",
       "stream": "stderr",
       "text": [
        "\r",
        " 80%|\u2588\u2588\u2588\u2588\u2588\u2588\u2588\u2589  | 167009/210001 [00:31<00:09, 4726.85files/s]"
       ]
      },
      {
       "output_type": "stream",
       "stream": "stderr",
       "text": [
        "\r",
        " 80%|\u2588\u2588\u2588\u2588\u2588\u2588\u2588\u2589  | 167530/210001 [00:31<00:08, 4860.68files/s]"
       ]
      },
      {
       "output_type": "stream",
       "stream": "stderr",
       "text": [
        "\r",
        " 80%|\u2588\u2588\u2588\u2588\u2588\u2588\u2588\u2588  | 168130/210001 [00:31<00:08, 5152.78files/s]"
       ]
      },
      {
       "output_type": "stream",
       "stream": "stderr",
       "text": [
        "\r",
        " 80%|\u2588\u2588\u2588\u2588\u2588\u2588\u2588\u2588  | 168769/210001 [00:31<00:07, 5469.78files/s]"
       ]
      },
      {
       "output_type": "stream",
       "stream": "stderr",
       "text": [
        "\r",
        " 81%|\u2588\u2588\u2588\u2588\u2588\u2588\u2588\u2588  | 169401/210001 [00:31<00:07, 5697.62files/s]"
       ]
      },
      {
       "output_type": "stream",
       "stream": "stderr",
       "text": [
        "\r",
        " 81%|\u2588\u2588\u2588\u2588\u2588\u2588\u2588\u2588  | 170037/210001 [00:31<00:06, 5879.58files/s]"
       ]
      },
      {
       "output_type": "stream",
       "stream": "stderr",
       "text": [
        "\r",
        " 81%|\u2588\u2588\u2588\u2588\u2588\u2588\u2588\u2588\u258f | 170664/210001 [00:31<00:06, 5989.46files/s]"
       ]
      },
      {
       "output_type": "stream",
       "stream": "stderr",
       "text": [
        "\r",
        " 82%|\u2588\u2588\u2588\u2588\u2588\u2588\u2588\u2588\u258f | 171288/210001 [00:31<00:06, 6061.97files/s]"
       ]
      },
      {
       "output_type": "stream",
       "stream": "stderr",
       "text": [
        "\r",
        " 82%|\u2588\u2588\u2588\u2588\u2588\u2588\u2588\u2588\u258f | 171932/210001 [00:31<00:06, 6169.23files/s]"
       ]
      },
      {
       "output_type": "stream",
       "stream": "stderr",
       "text": [
        "\r",
        " 82%|\u2588\u2588\u2588\u2588\u2588\u2588\u2588\u2588\u258f | 172556/210001 [00:31<00:06, 6190.08files/s]"
       ]
      },
      {
       "output_type": "stream",
       "stream": "stderr",
       "text": [
        "\r",
        " 82%|\u2588\u2588\u2588\u2588\u2588\u2588\u2588\u2588\u258f | 173194/210001 [00:32<00:05, 6244.07files/s]"
       ]
      },
      {
       "output_type": "stream",
       "stream": "stderr",
       "text": [
        "\r",
        " 83%|\u2588\u2588\u2588\u2588\u2588\u2588\u2588\u2588\u258e | 173831/210001 [00:32<00:05, 6279.22files/s]"
       ]
      },
      {
       "output_type": "stream",
       "stream": "stderr",
       "text": [
        "\r",
        " 83%|\u2588\u2588\u2588\u2588\u2588\u2588\u2588\u2588\u258e | 174484/210001 [00:32<00:05, 6350.02files/s]"
       ]
      },
      {
       "output_type": "stream",
       "stream": "stderr",
       "text": [
        "\r",
        " 83%|\u2588\u2588\u2588\u2588\u2588\u2588\u2588\u2588\u258e | 175135/210001 [00:32<00:05, 6396.41files/s]"
       ]
      },
      {
       "output_type": "stream",
       "stream": "stderr",
       "text": [
        "\r",
        " 84%|\u2588\u2588\u2588\u2588\u2588\u2588\u2588\u2588\u258e | 175776/210001 [00:32<00:05, 6263.86files/s]"
       ]
      },
      {
       "output_type": "stream",
       "stream": "stderr",
       "text": [
        "\r",
        " 84%|\u2588\u2588\u2588\u2588\u2588\u2588\u2588\u2588\u258d | 176404/210001 [00:32<00:05, 5759.87files/s]"
       ]
      },
      {
       "output_type": "stream",
       "stream": "stderr",
       "text": [
        "\r",
        " 84%|\u2588\u2588\u2588\u2588\u2588\u2588\u2588\u2588\u258d | 176989/210001 [00:32<00:06, 5327.89files/s]"
       ]
      },
      {
       "output_type": "stream",
       "stream": "stderr",
       "text": [
        "\r",
        " 85%|\u2588\u2588\u2588\u2588\u2588\u2588\u2588\u2588\u258d | 177535/210001 [00:32<00:06, 5090.25files/s]"
       ]
      },
      {
       "output_type": "stream",
       "stream": "stderr",
       "text": [
        "\r",
        " 85%|\u2588\u2588\u2588\u2588\u2588\u2588\u2588\u2588\u258d | 178082/210001 [00:32<00:06, 5197.64files/s]"
       ]
      },
      {
       "output_type": "stream",
       "stream": "stderr",
       "text": [
        "\r",
        " 85%|\u2588\u2588\u2588\u2588\u2588\u2588\u2588\u2588\u258c | 178679/210001 [00:32<00:05, 5406.84files/s]"
       ]
      },
      {
       "output_type": "stream",
       "stream": "stderr",
       "text": [
        "\r",
        " 85%|\u2588\u2588\u2588\u2588\u2588\u2588\u2588\u2588\u258c | 179283/210001 [00:33<00:05, 5582.08files/s]"
       ]
      },
      {
       "output_type": "stream",
       "stream": "stderr",
       "text": [
        "\r",
        " 86%|\u2588\u2588\u2588\u2588\u2588\u2588\u2588\u2588\u258c | 179926/210001 [00:33<00:05, 5809.86files/s]"
       ]
      },
      {
       "output_type": "stream",
       "stream": "stderr",
       "text": [
        "\r",
        " 86%|\u2588\u2588\u2588\u2588\u2588\u2588\u2588\u2588\u258c | 180560/210001 [00:33<00:04, 5958.76files/s]"
       ]
      },
      {
       "output_type": "stream",
       "stream": "stderr",
       "text": [
        "\r",
        " 86%|\u2588\u2588\u2588\u2588\u2588\u2588\u2588\u2588\u258b | 181197/210001 [00:33<00:04, 6074.33files/s]"
       ]
      },
      {
       "output_type": "stream",
       "stream": "stderr",
       "text": [
        "\r",
        " 87%|\u2588\u2588\u2588\u2588\u2588\u2588\u2588\u2588\u258b | 181838/210001 [00:33<00:04, 6169.33files/s]"
       ]
      },
      {
       "output_type": "stream",
       "stream": "stderr",
       "text": [
        "\r",
        " 87%|\u2588\u2588\u2588\u2588\u2588\u2588\u2588\u2588\u258b | 182478/210001 [00:33<00:04, 6234.18files/s]"
       ]
      },
      {
       "output_type": "stream",
       "stream": "stderr",
       "text": [
        "\r",
        " 87%|\u2588\u2588\u2588\u2588\u2588\u2588\u2588\u2588\u258b | 183105/210001 [00:33<00:04, 6204.14files/s]"
       ]
      },
      {
       "output_type": "stream",
       "stream": "stderr",
       "text": [
        "\r",
        " 87%|\u2588\u2588\u2588\u2588\u2588\u2588\u2588\u2588\u258b | 183728/210001 [00:33<00:04, 6058.99files/s]"
       ]
      },
      {
       "output_type": "stream",
       "stream": "stderr",
       "text": [
        "\r",
        " 88%|\u2588\u2588\u2588\u2588\u2588\u2588\u2588\u2588\u258a | 184337/210001 [00:33<00:04, 6034.05files/s]"
       ]
      },
      {
       "output_type": "stream",
       "stream": "stderr",
       "text": [
        "\r",
        " 88%|\u2588\u2588\u2588\u2588\u2588\u2588\u2588\u2588\u258a | 184960/210001 [00:34<00:04, 6090.79files/s]"
       ]
      },
      {
       "output_type": "stream",
       "stream": "stderr",
       "text": [
        "\r",
        " 88%|\u2588\u2588\u2588\u2588\u2588\u2588\u2588\u2588\u258a | 185588/210001 [00:34<00:03, 6144.19files/s]"
       ]
      },
      {
       "output_type": "stream",
       "stream": "stderr",
       "text": [
        "\r",
        " 89%|\u2588\u2588\u2588\u2588\u2588\u2588\u2588\u2588\u258a | 186233/210001 [00:34<00:03, 6230.83files/s]"
       ]
      },
      {
       "output_type": "stream",
       "stream": "stderr",
       "text": [
        "\r",
        " 89%|\u2588\u2588\u2588\u2588\u2588\u2588\u2588\u2588\u2589 | 186886/210001 [00:34<00:03, 6316.09files/s]"
       ]
      },
      {
       "output_type": "stream",
       "stream": "stderr",
       "text": [
        "\r",
        " 89%|\u2588\u2588\u2588\u2588\u2588\u2588\u2588\u2588\u2589 | 187534/210001 [00:34<00:03, 6362.19files/s]"
       ]
      },
      {
       "output_type": "stream",
       "stream": "stderr",
       "text": [
        "\r",
        " 90%|\u2588\u2588\u2588\u2588\u2588\u2588\u2588\u2588\u2589 | 188178/210001 [00:34<00:03, 6383.23files/s]"
       ]
      },
      {
       "output_type": "stream",
       "stream": "stderr",
       "text": [
        "\r",
        " 90%|\u2588\u2588\u2588\u2588\u2588\u2588\u2588\u2588\u2589 | 188817/210001 [00:34<00:03, 6374.52files/s]"
       ]
      },
      {
       "output_type": "stream",
       "stream": "stderr",
       "text": [
        "\r",
        " 90%|\u2588\u2588\u2588\u2588\u2588\u2588\u2588\u2588\u2588 | 189455/210001 [00:34<00:03, 6251.84files/s]"
       ]
      },
      {
       "output_type": "stream",
       "stream": "stderr",
       "text": [
        "\r",
        " 91%|\u2588\u2588\u2588\u2588\u2588\u2588\u2588\u2588\u2588 | 190081/210001 [00:34<00:03, 6200.88files/s]"
       ]
      },
      {
       "output_type": "stream",
       "stream": "stderr",
       "text": [
        "\r",
        " 91%|\u2588\u2588\u2588\u2588\u2588\u2588\u2588\u2588\u2588 | 190702/210001 [00:34<00:03, 5606.26files/s]"
       ]
      },
      {
       "output_type": "stream",
       "stream": "stderr",
       "text": [
        "\r",
        " 91%|\u2588\u2588\u2588\u2588\u2588\u2588\u2588\u2588\u2588 | 191274/210001 [00:35<00:03, 5435.29files/s]"
       ]
      },
      {
       "output_type": "stream",
       "stream": "stderr",
       "text": [
        "\r",
        " 91%|\u2588\u2588\u2588\u2588\u2588\u2588\u2588\u2588\u2588\u258f| 191899/210001 [00:35<00:03, 5655.75files/s]"
       ]
      },
      {
       "output_type": "stream",
       "stream": "stderr",
       "text": [
        "\r",
        " 92%|\u2588\u2588\u2588\u2588\u2588\u2588\u2588\u2588\u2588\u258f| 192524/210001 [00:35<00:03, 5820.98files/s]"
       ]
      },
      {
       "output_type": "stream",
       "stream": "stderr",
       "text": [
        "\r",
        " 92%|\u2588\u2588\u2588\u2588\u2588\u2588\u2588\u2588\u2588\u258f| 193114/210001 [00:35<00:03, 5465.15files/s]"
       ]
      },
      {
       "output_type": "stream",
       "stream": "stderr",
       "text": [
        "\r",
        " 92%|\u2588\u2588\u2588\u2588\u2588\u2588\u2588\u2588\u2588\u258f| 193671/210001 [00:35<00:03, 5313.85files/s]"
       ]
      },
      {
       "output_type": "stream",
       "stream": "stderr",
       "text": [
        "\r",
        " 92%|\u2588\u2588\u2588\u2588\u2588\u2588\u2588\u2588\u2588\u258f| 194221/210001 [00:35<00:02, 5366.56files/s]"
       ]
      },
      {
       "output_type": "stream",
       "stream": "stderr",
       "text": [
        "\r",
        " 93%|\u2588\u2588\u2588\u2588\u2588\u2588\u2588\u2588\u2588\u258e| 194825/210001 [00:35<00:02, 5550.56files/s]"
       ]
      },
      {
       "output_type": "stream",
       "stream": "stderr",
       "text": [
        "\r",
        " 93%|\u2588\u2588\u2588\u2588\u2588\u2588\u2588\u2588\u2588\u258e| 195441/210001 [00:35<00:02, 5719.87files/s]"
       ]
      },
      {
       "output_type": "stream",
       "stream": "stderr",
       "text": [
        "\r",
        " 93%|\u2588\u2588\u2588\u2588\u2588\u2588\u2588\u2588\u2588\u258e| 196019/210001 [00:35<00:02, 5720.84files/s]"
       ]
      },
      {
       "output_type": "stream",
       "stream": "stderr",
       "text": [
        "\r",
        " 94%|\u2588\u2588\u2588\u2588\u2588\u2588\u2588\u2588\u2588\u258e| 196660/210001 [00:36<00:02, 5911.49files/s]"
       ]
      },
      {
       "output_type": "stream",
       "stream": "stderr",
       "text": [
        "\r",
        " 94%|\u2588\u2588\u2588\u2588\u2588\u2588\u2588\u2588\u2588\u258d| 197298/210001 [00:36<00:02, 6043.37files/s]"
       ]
      },
      {
       "output_type": "stream",
       "stream": "stderr",
       "text": [
        "\r",
        " 94%|\u2588\u2588\u2588\u2588\u2588\u2588\u2588\u2588\u2588\u258d| 197925/210001 [00:36<00:01, 6107.14files/s]"
       ]
      },
      {
       "output_type": "stream",
       "stream": "stderr",
       "text": [
        "\r",
        " 95%|\u2588\u2588\u2588\u2588\u2588\u2588\u2588\u2588\u2588\u258d| 198539/210001 [00:36<00:01, 6109.98files/s]"
       ]
      },
      {
       "output_type": "stream",
       "stream": "stderr",
       "text": [
        "\r",
        " 95%|\u2588\u2588\u2588\u2588\u2588\u2588\u2588\u2588\u2588\u258d| 199152/210001 [00:36<00:01, 6101.49files/s]"
       ]
      },
      {
       "output_type": "stream",
       "stream": "stderr",
       "text": [
        "\r",
        " 95%|\u2588\u2588\u2588\u2588\u2588\u2588\u2588\u2588\u2588\u258c| 199770/210001 [00:36<00:01, 6120.25files/s]"
       ]
      },
      {
       "output_type": "stream",
       "stream": "stderr",
       "text": [
        "\r",
        " 95%|\u2588\u2588\u2588\u2588\u2588\u2588\u2588\u2588\u2588\u258c| 200383/210001 [00:36<00:01, 5080.94files/s]"
       ]
      },
      {
       "output_type": "stream",
       "stream": "stderr",
       "text": [
        "\r",
        " 96%|\u2588\u2588\u2588\u2588\u2588\u2588\u2588\u2588\u2588\u258c| 200922/210001 [00:36<00:01, 5013.20files/s]"
       ]
      },
      {
       "output_type": "stream",
       "stream": "stderr",
       "text": [
        "\r",
        " 96%|\u2588\u2588\u2588\u2588\u2588\u2588\u2588\u2588\u2588\u258c| 201445/210001 [00:36<00:01, 4910.52files/s]"
       ]
      },
      {
       "output_type": "stream",
       "stream": "stderr",
       "text": [
        "\r",
        " 96%|\u2588\u2588\u2588\u2588\u2588\u2588\u2588\u2588\u2588\u258c| 201991/210001 [00:36<00:01, 5062.39files/s]"
       ]
      },
      {
       "output_type": "stream",
       "stream": "stderr",
       "text": [
        "\r",
        " 96%|\u2588\u2588\u2588\u2588\u2588\u2588\u2588\u2588\u2588\u258b| 202626/210001 [00:37<00:01, 5389.33files/s]"
       ]
      },
      {
       "output_type": "stream",
       "stream": "stderr",
       "text": [
        "\r",
        " 97%|\u2588\u2588\u2588\u2588\u2588\u2588\u2588\u2588\u2588\u258b| 203243/210001 [00:37<00:01, 5601.44files/s]"
       ]
      },
      {
       "output_type": "stream",
       "stream": "stderr",
       "text": [
        "\r",
        " 97%|\u2588\u2588\u2588\u2588\u2588\u2588\u2588\u2588\u2588\u258b| 203867/210001 [00:37<00:01, 5777.48files/s]"
       ]
      },
      {
       "output_type": "stream",
       "stream": "stderr",
       "text": [
        "\r",
        " 97%|\u2588\u2588\u2588\u2588\u2588\u2588\u2588\u2588\u2588\u258b| 204455/210001 [00:37<00:00, 5777.71files/s]"
       ]
      },
      {
       "output_type": "stream",
       "stream": "stderr",
       "text": [
        "\r",
        " 98%|\u2588\u2588\u2588\u2588\u2588\u2588\u2588\u2588\u2588\u258a| 205072/210001 [00:37<00:00, 5889.08files/s]"
       ]
      },
      {
       "output_type": "stream",
       "stream": "stderr",
       "text": [
        "\r",
        " 98%|\u2588\u2588\u2588\u2588\u2588\u2588\u2588\u2588\u2588\u258a| 205691/210001 [00:37<00:00, 5973.38files/s]"
       ]
      },
      {
       "output_type": "stream",
       "stream": "stderr",
       "text": [
        "\r",
        " 98%|\u2588\u2588\u2588\u2588\u2588\u2588\u2588\u2588\u2588\u258a| 206293/210001 [00:37<00:00, 5254.71files/s]"
       ]
      },
      {
       "output_type": "stream",
       "stream": "stderr",
       "text": [
        "\r",
        " 98%|\u2588\u2588\u2588\u2588\u2588\u2588\u2588\u2588\u2588\u258a| 206838/210001 [00:37<00:00, 5296.54files/s]"
       ]
      },
      {
       "output_type": "stream",
       "stream": "stderr",
       "text": [
        "\r",
        " 99%|\u2588\u2588\u2588\u2588\u2588\u2588\u2588\u2588\u2588\u2589| 207466/210001 [00:37<00:00, 5554.33files/s]"
       ]
      },
      {
       "output_type": "stream",
       "stream": "stderr",
       "text": [
        "\r",
        " 99%|\u2588\u2588\u2588\u2588\u2588\u2588\u2588\u2588\u2588\u2589| 208049/210001 [00:38<00:00, 5634.14files/s]"
       ]
      },
      {
       "output_type": "stream",
       "stream": "stderr",
       "text": [
        "\r",
        " 99%|\u2588\u2588\u2588\u2588\u2588\u2588\u2588\u2588\u2588\u2589| 208689/210001 [00:38<00:00, 5842.06files/s]"
       ]
      },
      {
       "output_type": "stream",
       "stream": "stderr",
       "text": [
        "\r",
        "100%|\u2588\u2588\u2588\u2588\u2588\u2588\u2588\u2588\u2588\u2589| 209329/210001 [00:38<00:00, 5996.55files/s]"
       ]
      },
      {
       "output_type": "stream",
       "stream": "stderr",
       "text": [
        "\r",
        "100%|\u2588\u2588\u2588\u2588\u2588\u2588\u2588\u2588\u2588\u2589| 209979/210001 [00:38<00:00, 6137.56files/s]"
       ]
      },
      {
       "output_type": "stream",
       "stream": "stderr",
       "text": [
        "\r",
        "100%|\u2588\u2588\u2588\u2588\u2588\u2588\u2588\u2588\u2588\u2588| 210001/210001 [00:38<00:00, 5476.16files/s]"
       ]
      },
      {
       "output_type": "stream",
       "stream": "stderr",
       "text": [
        "\n",
        "\r",
        "  0%|          | 0/10001 [00:00<?, ?files/s]"
       ]
      },
      {
       "output_type": "stream",
       "stream": "stderr",
       "text": [
        "\r",
        "  6%|\u258b         | 634/10001 [00:00<00:01, 6333.09files/s]"
       ]
      },
      {
       "output_type": "stream",
       "stream": "stderr",
       "text": [
        "\r",
        " 13%|\u2588\u258e        | 1273/10001 [00:00<00:01, 6348.44files/s]"
       ]
      },
      {
       "output_type": "stream",
       "stream": "stderr",
       "text": [
        "\r",
        " 19%|\u2588\u2589        | 1911/10001 [00:00<00:01, 6357.26files/s]"
       ]
      },
      {
       "output_type": "stream",
       "stream": "stderr",
       "text": [
        "\r",
        " 25%|\u2588\u2588\u258c       | 2545/10001 [00:00<00:01, 6349.00files/s]"
       ]
      },
      {
       "output_type": "stream",
       "stream": "stderr",
       "text": [
        "\r",
        " 31%|\u2588\u2588\u2588\u258f      | 3141/10001 [00:00<00:01, 6224.87files/s]"
       ]
      },
      {
       "output_type": "stream",
       "stream": "stderr",
       "text": [
        "\r",
        " 38%|\u2588\u2588\u2588\u258a      | 3777/10001 [00:00<00:00, 6263.25files/s]"
       ]
      },
      {
       "output_type": "stream",
       "stream": "stderr",
       "text": [
        "\r",
        " 44%|\u2588\u2588\u2588\u2588\u258d     | 4389/10001 [00:00<00:00, 6216.52files/s]"
       ]
      },
      {
       "output_type": "stream",
       "stream": "stderr",
       "text": [
        "\r",
        " 50%|\u2588\u2588\u2588\u2588\u2589     | 4983/10001 [00:00<00:00, 6129.14files/s]"
       ]
      },
      {
       "output_type": "stream",
       "stream": "stderr",
       "text": [
        "\r",
        " 56%|\u2588\u2588\u2588\u2588\u2588\u258c    | 5560/10001 [00:00<00:00, 5941.69files/s]"
       ]
      },
      {
       "output_type": "stream",
       "stream": "stderr",
       "text": [
        "\r",
        " 61%|\u2588\u2588\u2588\u2588\u2588\u2588\u258f   | 6131/10001 [00:01<00:00, 5855.06files/s]"
       ]
      },
      {
       "output_type": "stream",
       "stream": "stderr",
       "text": [
        "\r",
        " 67%|\u2588\u2588\u2588\u2588\u2588\u2588\u258b   | 6701/10001 [00:01<00:00, 5744.68files/s]"
       ]
      },
      {
       "output_type": "stream",
       "stream": "stderr",
       "text": [
        "\r",
        " 73%|\u2588\u2588\u2588\u2588\u2588\u2588\u2588\u258e  | 7307/10001 [00:01<00:00, 5835.21files/s]"
       ]
      },
      {
       "output_type": "stream",
       "stream": "stderr",
       "text": [
        "\r",
        " 79%|\u2588\u2588\u2588\u2588\u2588\u2588\u2588\u2589  | 7912/10001 [00:01<00:00, 5896.05files/s]"
       ]
      },
      {
       "output_type": "stream",
       "stream": "stderr",
       "text": [
        "\r",
        " 85%|\u2588\u2588\u2588\u2588\u2588\u2588\u2588\u2588\u258c | 8502/10001 [00:01<00:00, 5894.71files/s]"
       ]
      },
      {
       "output_type": "stream",
       "stream": "stderr",
       "text": [
        "\r",
        " 91%|\u2588\u2588\u2588\u2588\u2588\u2588\u2588\u2588\u2588 | 9088/10001 [00:01<00:00, 5772.55files/s]"
       ]
      },
      {
       "output_type": "stream",
       "stream": "stderr",
       "text": [
        "\r",
        " 97%|\u2588\u2588\u2588\u2588\u2588\u2588\u2588\u2588\u2588\u258b| 9688/10001 [00:01<00:00, 5838.49files/s]"
       ]
      },
      {
       "output_type": "stream",
       "stream": "stderr",
       "text": [
        "\r",
        "100%|\u2588\u2588\u2588\u2588\u2588\u2588\u2588\u2588\u2588\u2588| 10001/10001 [00:01<00:00, 5992.37files/s]"
       ]
      },
      {
       "output_type": "stream",
       "stream": "stdout",
       "text": [
        "All features and labels uncompressed.\n"
       ]
      },
      {
       "output_type": "stream",
       "stream": "stderr",
       "text": [
        "\n"
       ]
      }
     ],
     "prompt_number": 7
    },
    {
     "cell_type": "markdown",
     "metadata": {},
     "source": [
      "<img src=\"image/mean_variance.png\" style=\"height: 75%;width: 75%; position: relative; right: 5%\">\n",
      "## Problem 1\n",
      "The first problem involves normalizing the features for your training and test data.\n",
      "\n",
      "Implement Min-Max scaling in the `normalize()` function to a range of `a=0.1` and `b=0.9`. After scaling, the values of the pixels in the input data should range from 0.1 to 0.9.\n",
      "\n",
      "Since the raw notMNIST image data is in [grayscale](https://en.wikipedia.org/wiki/Grayscale), the current values range from a min of 0 to a max of 255.\n",
      "\n",
      "Min-Max Scaling:\n",
      "$\n",
      "X'=a+{\\frac {\\left(X-X_{\\min }\\right)\\left(b-a\\right)}{X_{\\max }-X_{\\min }}}\n",
      "$\n",
      "\n",
      "*If you're having trouble solving problem 1, you can view the solution [here](https://github.com/udacity/CarND-TensorFlow-Lab/blob/master/solutions.ipynb).*"
     ]
    },
    {
     "cell_type": "code",
     "collapsed": false,
     "input": [
      "print(train_features.shape)"
     ],
     "language": "python",
     "metadata": {},
     "outputs": [
      {
       "output_type": "stream",
       "stream": "stdout",
       "text": [
        "(150000, 784)\n"
       ]
      }
     ],
     "prompt_number": 10
    },
    {
     "cell_type": "code",
     "collapsed": false,
     "input": [
      "# Problem 1 - Implement Min-Max scaling for grayscale image data\n",
      "def normalize_grayscale(image_data):\n",
      "    X = image_data.copy()\n",
      "    \n",
      "    \"\"\"\n",
      "    Normalize the image data with Min-Max scaling to a range of [0.1, 0.9]\n",
      "    :param image_data: The image data to be normalized\n",
      "    :return: Normalized image data\n",
      "    \"\"\"\n",
      "    \n",
      "    return 0.1+(X-X.min())/(X.max()-X.min())*0.8\n",
      "    \n",
      "\n",
      "### DON'T MODIFY ANYTHING BELOW ###\n",
      "# Test Cases\n",
      "np.testing.assert_array_almost_equal(\n",
      "    normalize_grayscale(np.array([0, 1, 2, 3, 4, 5, 6, 7, 8, 9, 10, 255])),\n",
      "    [0.1, 0.103137254902, 0.106274509804, 0.109411764706, 0.112549019608, 0.11568627451, 0.118823529412, 0.121960784314,\n",
      "     0.125098039216, 0.128235294118, 0.13137254902, 0.9],\n",
      "    decimal=3)\n",
      "np.testing.assert_array_almost_equal(\n",
      "    normalize_grayscale(np.array([0, 1, 10, 20, 30, 40, 233, 244, 254,255])),\n",
      "    [0.1, 0.103137254902, 0.13137254902, 0.162745098039, 0.194117647059, 0.225490196078, 0.830980392157, 0.865490196078,\n",
      "     0.896862745098, 0.9])\n",
      "\n",
      "\n",
      "if not is_features_normal:\n",
      "    train_features = normalize_grayscale(train_features)\n",
      "    test_features = normalize_grayscale(test_features)\n",
      "    is_features_normal = True\n",
      "\n",
      "print('Tests Passed!')"
     ],
     "language": "python",
     "metadata": {},
     "outputs": [
      {
       "output_type": "stream",
       "stream": "stdout",
       "text": [
        "Tests Passed!\n"
       ]
      }
     ],
     "prompt_number": 13
    },
    {
     "cell_type": "code",
     "collapsed": false,
     "input": [
      "if not is_labels_encod:\n",
      "    # Turn labels into numbers and apply One-Hot Encoding\n",
      "    encoder = LabelBinarizer()\n",
      "    encoder.fit(train_labels)\n",
      "    train_labels = encoder.transform(train_labels)\n",
      "    test_labels = encoder.transform(test_labels)\n",
      "\n",
      "    # Change to float32, so it can be multiplied against the features in TensorFlow, which are float32\n",
      "    train_labels = train_labels.astype(np.float32)\n",
      "    test_labels = test_labels.astype(np.float32)\n",
      "    is_labels_encod = True\n",
      "\n",
      "print('Labels One-Hot Encoded')"
     ],
     "language": "python",
     "metadata": {},
     "outputs": [
      {
       "output_type": "stream",
       "stream": "stdout",
       "text": [
        "Labels One-Hot Encoded\n"
       ]
      }
     ],
     "prompt_number": 14
    },
    {
     "cell_type": "code",
     "collapsed": false,
     "input": [
      "assert is_features_normal, 'You skipped the step to normalize the features'\n",
      "assert is_labels_encod, 'You skipped the step to One-Hot Encode the labels'\n",
      "\n",
      "# Get randomized datasets for training and validation\n",
      "train_features, valid_features, train_labels, valid_labels = train_test_split(\n",
      "    train_features,\n",
      "    train_labels,\n",
      "    test_size=0.05,\n",
      "    random_state=832289)\n",
      "\n",
      "print('Training features and labels randomized and split.')"
     ],
     "language": "python",
     "metadata": {},
     "outputs": [
      {
       "output_type": "stream",
       "stream": "stdout",
       "text": [
        "Training features and labels randomized and split.\n"
       ]
      }
     ],
     "prompt_number": 15
    },
    {
     "cell_type": "code",
     "collapsed": false,
     "input": [
      "# Save the data for easy access\n",
      "pickle_file = 'notMNIST.pickle'\n",
      "if not os.path.isfile(pickle_file):\n",
      "    print('Saving data to pickle file...')\n",
      "    try:\n",
      "        with open('notMNIST.pickle', 'wb') as pfile:\n",
      "            pickle.dump(\n",
      "                {\n",
      "                    'train_dataset': train_features,\n",
      "                    'train_labels': train_labels,\n",
      "                    'valid_dataset': valid_features,\n",
      "                    'valid_labels': valid_labels,\n",
      "                    'test_dataset': test_features,\n",
      "                    'test_labels': test_labels,\n",
      "                },\n",
      "                pfile, pickle.HIGHEST_PROTOCOL)\n",
      "    except Exception as e:\n",
      "        print('Unable to save data to', pickle_file, ':', e)\n",
      "        raise\n",
      "\n",
      "print('Data cached in pickle file.')"
     ],
     "language": "python",
     "metadata": {},
     "outputs": [
      {
       "output_type": "stream",
       "stream": "stdout",
       "text": [
        "Saving data to pickle file...\n",
        "Data cached in pickle file."
       ]
      },
      {
       "output_type": "stream",
       "stream": "stdout",
       "text": [
        "\n"
       ]
      }
     ],
     "prompt_number": 16
    },
    {
     "cell_type": "markdown",
     "metadata": {},
     "source": [
      "# Checkpoint\n",
      "All your progress is now saved to the pickle file.  If you need to leave and comeback to this lab, you no longer have to start from the beginning.  Just run the code block below and it will load all the data and modules required to proceed."
     ]
    },
    {
     "cell_type": "code",
     "collapsed": false,
     "input": [
      "%matplotlib inline\n",
      "\n",
      "# Load the modules\n",
      "import pickle\n",
      "import math\n",
      "\n",
      "import numpy as np\n",
      "import tensorflow as tf\n",
      "from tqdm import tqdm\n",
      "import matplotlib.pyplot as plt\n",
      "\n",
      "# Reload the data\n",
      "pickle_file = 'notMNIST.pickle'\n",
      "with open(pickle_file, 'rb') as f:\n",
      "  pickle_data = pickle.load(f)\n",
      "  train_features = pickle_data['train_dataset']\n",
      "  train_labels = pickle_data['train_labels']\n",
      "  valid_features = pickle_data['valid_dataset']\n",
      "  valid_labels = pickle_data['valid_labels']\n",
      "  test_features = pickle_data['test_dataset']\n",
      "  test_labels = pickle_data['test_labels']\n",
      "  del pickle_data  # Free up memory\n",
      "\n",
      "\n",
      "print('Data and modules loaded.')"
     ],
     "language": "python",
     "metadata": {},
     "outputs": [
      {
       "output_type": "stream",
       "stream": "stdout",
       "text": [
        "Data and modules loaded.\n"
       ]
      }
     ],
     "prompt_number": 2
    },
    {
     "cell_type": "markdown",
     "metadata": {},
     "source": [
      "<img src=\"image/weight_biases.png\" style=\"height: 60%;width: 60%; position: relative; right: 10%\">\n",
      "## Problem 2\n",
      "For the neural network to train on your data, you need the following <a href=\"https://www.tensorflow.org/resources/dims_types.html#data-types\">float32</a> tensors:\n",
      " - `features`\n",
      "  - Placeholder tensor for feature data (`train_features`/`valid_features`/`test_features`)\n",
      " - `labels`\n",
      "  - Placeholder tensor for label data (`train_labels`/`valid_labels`/`test_labels`)\n",
      " - `weights`\n",
      "  - Variable Tensor with random numbers from a truncated normal distribution.\n",
      "    - See <a href=\"https://www.tensorflow.org/api_docs/python/constant_op.html#truncated_normal\">`tf.truncated_normal()` documentation</a> for help.\n",
      " - `biases`\n",
      "  - Variable Tensor with all zeros.\n",
      "    - See <a href=\"https://www.tensorflow.org/api_docs/python/constant_op.html#zeros\"> `tf.zeros()` documentation</a> for help.\n",
      "\n",
      "*If you're having trouble solving problem 2, review \"TensorFlow Linear Function\" section of the class.  If that doesn't help, the solution for this problem is available [here](https://github.com/udacity/CarND-TensorFlow-Lab/blob/master/solutions.ipynb).*"
     ]
    },
    {
     "cell_type": "code",
     "collapsed": false,
     "input": [
      "features_count = 784\n",
      "labels_count = 10\n",
      "nlayer = 10\n",
      "\n",
      "# TODO: Set the features and labels tensors\n",
      "features = tf.placeholder('float32',[None, features_count]) \n",
      "labels = tf.placeholder('float32',[None, labels_count])\n",
      "\n",
      "\n",
      "# TODO: Set the weights and biases tensors\n",
      "weights = tf.Variable(tf.truncated_normal(shape=[features_count,nlayer]))\n",
      "biases = tf.Variable(tf.zeros(shape=[nlayer]))\n",
      "\n",
      "### DON'T MODIFY ANYTHING BELOW ###\n",
      "\n",
      "#Test Cases\n",
      "from tensorflow.python.ops.variables import Variable\n",
      "\n",
      "assert features._op.name.startswith('Placeholder'), 'features must be a placeholder'\n",
      "assert labels._op.name.startswith('Placeholder'), 'labels must be a placeholder'\n",
      "assert isinstance(weights, Variable), 'weights must be a TensorFlow variable'\n",
      "assert isinstance(biases, Variable), 'biases must be a TensorFlow variable'\n",
      "\n",
      "assert features._shape == None or (\\\n",
      "    features._shape.dims[0].value is None and\\\n",
      "    features._shape.dims[1].value in [None, 784]), 'The shape of features is incorrect'\n",
      "assert labels._shape  == None or (\\\n",
      "    labels._shape.dims[0].value is None and\\\n",
      "    labels._shape.dims[1].value in [None, 10]), 'The shape of labels is incorrect'\n",
      "assert weights._variable._shape == (784, 10), 'The shape of weights is incorrect'\n",
      "assert biases._variable._shape == (10), 'The shape of biases is incorrect'\n",
      "\n",
      "assert features._dtype == tf.float32, 'features must be type float32'\n",
      "assert labels._dtype == tf.float32, 'labels must be type float32'\n",
      "\n",
      "# Feed dicts for training, validation, and test session\n",
      "train_feed_dict = {features: train_features, labels: train_labels}\n",
      "valid_feed_dict = {features: valid_features, labels: valid_labels}\n",
      "test_feed_dict = {features: test_features, labels: test_labels}\n",
      "\n",
      "# Linear Function WX + b\n",
      "logits = tf.matmul(features, weights) + biases\n",
      "\n",
      "prediction = tf.nn.softmax(logits)\n",
      "\n",
      "# Cross entropy\n",
      "cross_entropy = -tf.reduce_sum(labels * tf.log(prediction), axis=1)\n",
      "\n",
      "# Training loss\n",
      "loss = tf.reduce_mean(cross_entropy)\n",
      "\n",
      "# Create an operation that initializes all variables\n",
      "init = tf.global_variables_initializer()\n",
      "\n",
      "# Test Cases\n",
      "with tf.Session() as session:\n",
      "    session.run(init)\n",
      "    session.run(loss, feed_dict=train_feed_dict)\n",
      "    session.run(loss, feed_dict=valid_feed_dict)\n",
      "    session.run(loss, feed_dict=test_feed_dict)\n",
      "    biases_data = session.run(biases)\n",
      "\n",
      "assert not np.count_nonzero(biases_data), 'biases must be zeros'\n",
      "\n",
      "print('Tests Passed!')"
     ],
     "language": "python",
     "metadata": {},
     "outputs": [
      {
       "output_type": "stream",
       "stream": "stdout",
       "text": [
        "Tests Passed!\n"
       ]
      }
     ],
     "prompt_number": 13
    },
    {
     "cell_type": "code",
     "collapsed": false,
     "input": [
      "# Determine if the predictions are correct\n",
      "is_correct_prediction = tf.equal(tf.argmax(prediction, 1), tf.argmax(labels, 1))\n",
      "# Calculate the accuracy of the predictions\n",
      "accuracy = tf.reduce_mean(tf.cast(is_correct_prediction, tf.float32))\n",
      "\n",
      "print('Accuracy function created.')"
     ],
     "language": "python",
     "metadata": {},
     "outputs": [
      {
       "output_type": "stream",
       "stream": "stdout",
       "text": [
        "Accuracy function created.\n"
       ]
      }
     ],
     "prompt_number": 14
    },
    {
     "cell_type": "markdown",
     "metadata": {},
     "source": [
      "<img src=\"image/learn_rate_tune.png\" style=\"height: 60%;width: 60%\">\n",
      "## Problem 3\n",
      "Below are 3 parameter configurations for training the neural network. In each configuration, one of the parameters has multiple options. For each configuration, choose the option that gives the best acccuracy.\n",
      "\n",
      "Parameter configurations:\n",
      "\n",
      "Configuration 1\n",
      "* **Epochs:** 1\n",
      "* **Batch Size:**\n",
      "  * 2000\n",
      "  * 1000\n",
      "  * 500\n",
      "  * 300\n",
      "  * 50\n",
      "* **Learning Rate:** 0.01\n",
      "\n",
      "Configuration 2\n",
      "* **Epochs:** 1\n",
      "* **Batch Size:** 100\n",
      "* **Learning Rate:**\n",
      "  * 0.8\n",
      "  * 0.5\n",
      "  * 0.1\n",
      "  * 0.05\n",
      "  * 0.01\n",
      "\n",
      "Configuration 3\n",
      "* **Epochs:**\n",
      "  * 1\n",
      "  * 2\n",
      "  * 3\n",
      "  * 4\n",
      "  * 5\n",
      "* **Batch Size:** 100\n",
      "* **Learning Rate:** 0.2\n",
      "\n",
      "The code will print out a Loss and Accuracy graph, so you can see how well the neural network performed.\n",
      "\n",
      "*If you're having trouble solving problem 3, you can view the solution [here](https://github.com/udacity/CarND-TensorFlow-Lab/blob/master/solutions.ipynb).*"
     ]
    },
    {
     "cell_type": "code",
     "collapsed": false,
     "input": [
      "# TODO: Find the best parameters for each configuration\n",
      "epochs = 30\n",
      "batch_size = 500\n",
      "learning_rate = 0.01\n",
      "\n",
      "\n",
      "### DON'T MODIFY ANYTHING BELOW ###\n",
      "# Gradient Descent\n",
      "optimizer = tf.train.GradientDescentOptimizer(learning_rate).minimize(loss)    \n",
      "\n",
      "# The accuracy measured against the validation set\n",
      "validation_accuracy = 0.0\n",
      "\n",
      "# Measurements use for graphing loss and accuracy\n",
      "log_batch_step = 50\n",
      "batches = []\n",
      "loss_batch = []\n",
      "train_acc_batch = []\n",
      "valid_acc_batch = []\n",
      "\n",
      "with tf.Session() as session:\n",
      "    session.run(init)\n",
      "    batch_count = int(math.ceil(len(train_features)/batch_size))\n",
      "\n",
      "    for epoch_i in range(epochs):\n",
      "        \n",
      "        # Progress bar\n",
      "        batches_pbar = tqdm(range(batch_count), desc='Epoch {:>2}/{}'.format(epoch_i+1, epochs), unit='batches')\n",
      "        \n",
      "        # The training cycle\n",
      "        for batch_i in batches_pbar:\n",
      "            # Get a batch of training features and labels\n",
      "            batch_start = batch_i*batch_size\n",
      "            batch_features = train_features[batch_start:batch_start + batch_size]\n",
      "            batch_labels = train_labels[batch_start:batch_start + batch_size]\n",
      "\n",
      "            # Run optimizer and get loss\n",
      "            _, l = session.run(\n",
      "                [optimizer, loss],\n",
      "                feed_dict={features: batch_features, labels: batch_labels})\n",
      "\n",
      "            # Log every 50 batches\n",
      "            if not batch_i % log_batch_step:\n",
      "                # Calculate Training and Validation accuracy\n",
      "                training_accuracy = session.run(accuracy, feed_dict=train_feed_dict)\n",
      "                validation_accuracy = session.run(accuracy, feed_dict=valid_feed_dict)\n",
      "\n",
      "                # Log batches\n",
      "                previous_batch = batches[-1] if batches else 0\n",
      "                batches.append(log_batch_step + previous_batch)\n",
      "                loss_batch.append(l)\n",
      "                train_acc_batch.append(training_accuracy)\n",
      "                valid_acc_batch.append(validation_accuracy)\n",
      "\n",
      "        # Check accuracy against Validation data\n",
      "        validation_accuracy = session.run(accuracy, feed_dict=valid_feed_dict)\n",
      "\n",
      "loss_plot = plt.subplot(211)\n",
      "loss_plot.set_title('Loss')\n",
      "loss_plot.plot(batches, loss_batch, 'g')\n",
      "loss_plot.set_xlim([batches[0], batches[-1]])\n",
      "acc_plot = plt.subplot(212)\n",
      "acc_plot.set_title('Accuracy')\n",
      "acc_plot.plot(batches, train_acc_batch, 'r', label='Training Accuracy')\n",
      "acc_plot.plot(batches, valid_acc_batch, 'x', label='Validation Accuracy')\n",
      "acc_plot.set_ylim([0, 1.0])\n",
      "acc_plot.set_xlim([batches[0], batches[-1]])\n",
      "acc_plot.legend(loc=4)\n",
      "plt.tight_layout()\n",
      "plt.show()\n",
      "\n",
      "print('Validation accuracy at {}'.format(validation_accuracy))"
     ],
     "language": "python",
     "metadata": {},
     "outputs": [
      {
       "output_type": "stream",
       "stream": "stderr",
       "text": [
        "\r",
        "Epoch  1/30:   0%|          | 0/285 [00:00<?, ?batches/s]"
       ]
      },
      {
       "output_type": "stream",
       "stream": "stderr",
       "text": [
        "\r",
        "Epoch  1/30:   0%|          | 1/285 [00:00<01:55,  2.46batches/s]"
       ]
      },
      {
       "output_type": "stream",
       "stream": "stderr",
       "text": [
        "\r",
        "Epoch  1/30:  11%|\u2588         | 32/285 [00:00<01:12,  3.50batches/s]"
       ]
      },
      {
       "output_type": "stream",
       "stream": "stderr",
       "text": [
        "\r",
        "Epoch  1/30:  18%|\u2588\u258a        | 51/285 [00:00<00:48,  4.86batches/s]"
       ]
      },
      {
       "output_type": "stream",
       "stream": "stderr",
       "text": [
        "\r",
        "Epoch  1/30:  29%|\u2588\u2588\u2589       | 82/285 [00:01<00:29,  6.89batches/s]"
       ]
      },
      {
       "output_type": "stream",
       "stream": "stderr",
       "text": [
        "\r",
        "Epoch  1/30:  35%|\u2588\u2588\u2588\u258c      | 101/285 [00:01<00:20,  9.12batches/s]"
       ]
      },
      {
       "output_type": "stream",
       "stream": "stderr",
       "text": [
        "\r",
        "Epoch  1/30:  43%|\u2588\u2588\u2588\u2588\u258e     | 123/285 [00:01<00:12, 12.80batches/s]"
       ]
      },
      {
       "output_type": "stream",
       "stream": "stderr",
       "text": [
        "\r",
        "Epoch  1/30:  53%|\u2588\u2588\u2588\u2588\u2588\u258e    | 151/285 [00:02<00:07, 16.79batches/s]"
       ]
      },
      {
       "output_type": "stream",
       "stream": "stderr",
       "text": [
        "\r",
        "Epoch  1/30:  62%|\u2588\u2588\u2588\u2588\u2588\u2588\u258f   | 178/285 [00:02<00:04, 23.36batches/s]"
       ]
      },
      {
       "output_type": "stream",
       "stream": "stderr",
       "text": [
        "\r",
        "Epoch  1/30:  71%|\u2588\u2588\u2588\u2588\u2588\u2588\u2588   | 201/285 [00:02<00:02, 28.26batches/s]"
       ]
      },
      {
       "output_type": "stream",
       "stream": "stderr",
       "text": [
        "\r",
        "Epoch  1/30:  81%|\u2588\u2588\u2588\u2588\u2588\u2588\u2588\u2588  | 230/285 [00:02<00:01, 38.74batches/s]"
       ]
      },
      {
       "output_type": "stream",
       "stream": "stderr",
       "text": [
        "\r",
        "Epoch  1/30:  88%|\u2588\u2588\u2588\u2588\u2588\u2588\u2588\u2588\u258a | 251/285 [00:03<00:00, 42.20batches/s]"
       ]
      },
      {
       "output_type": "stream",
       "stream": "stderr",
       "text": [
        "\r",
        "Epoch  1/30:  99%|\u2588\u2588\u2588\u2588\u2588\u2588\u2588\u2588\u2588\u2589| 282/285 [00:03<00:00, 56.89batches/s]"
       ]
      },
      {
       "output_type": "stream",
       "stream": "stderr",
       "text": [
        "\r",
        "Epoch  1/30: 100%|\u2588\u2588\u2588\u2588\u2588\u2588\u2588\u2588\u2588\u2588| 285/285 [00:03<00:00, 89.10batches/s]"
       ]
      },
      {
       "output_type": "stream",
       "stream": "stderr",
       "text": [
        "\n",
        "\r",
        "Epoch  2/30:   0%|          | 0/285 [00:00<?, ?batches/s]"
       ]
      },
      {
       "output_type": "stream",
       "stream": "stderr",
       "text": [
        "\r",
        "Epoch  2/30:   0%|          | 1/285 [00:00<01:43,  2.76batches/s]"
       ]
      },
      {
       "output_type": "stream",
       "stream": "stderr",
       "text": [
        "\r",
        "Epoch  2/30:  11%|\u2588         | 30/285 [00:00<01:05,  3.92batches/s]"
       ]
      },
      {
       "output_type": "stream",
       "stream": "stderr",
       "text": [
        "\r",
        "Epoch  2/30:  18%|\u2588\u258a        | 51/285 [00:00<00:43,  5.43batches/s]"
       ]
      },
      {
       "output_type": "stream",
       "stream": "stderr",
       "text": [
        "\r",
        "Epoch  2/30:  29%|\u2588\u2588\u2589       | 83/285 [00:00<00:26,  7.69batches/s]"
       ]
      },
      {
       "output_type": "stream",
       "stream": "stderr",
       "text": [
        "\r",
        "Epoch  2/30:  35%|\u2588\u2588\u2588\u258c      | 101/285 [00:01<00:17, 10.25batches/s]"
       ]
      },
      {
       "output_type": "stream",
       "stream": "stderr",
       "text": [
        "\r",
        "Epoch  2/30:  45%|\u2588\u2588\u2588\u2588\u258d     | 128/285 [00:01<00:10, 14.40batches/s]"
       ]
      },
      {
       "output_type": "stream",
       "stream": "stderr",
       "text": [
        "\r",
        "Epoch  2/30:  53%|\u2588\u2588\u2588\u2588\u2588\u258e    | 151/285 [00:01<00:07, 18.57batches/s]"
       ]
      },
      {
       "output_type": "stream",
       "stream": "stderr",
       "text": [
        "\r",
        "Epoch  2/30:  64%|\u2588\u2588\u2588\u2588\u2588\u2588\u258d   | 182/285 [00:01<00:03, 25.85batches/s]"
       ]
      },
      {
       "output_type": "stream",
       "stream": "stderr",
       "text": [
        "\r",
        "Epoch  2/30:  71%|\u2588\u2588\u2588\u2588\u2588\u2588\u2588   | 201/285 [00:02<00:02, 30.01batches/s]"
       ]
      },
      {
       "output_type": "stream",
       "stream": "stderr",
       "text": [
        "\r",
        "Epoch  2/30:  81%|\u2588\u2588\u2588\u2588\u2588\u2588\u2588\u2588\u258f | 232/285 [00:02<00:01, 41.15batches/s]"
       ]
      },
      {
       "output_type": "stream",
       "stream": "stderr",
       "text": [
        "\r",
        "Epoch  2/30:  88%|\u2588\u2588\u2588\u2588\u2588\u2588\u2588\u2588\u258a | 252/285 [00:02<00:00, 43.46batches/s]"
       ]
      },
      {
       "output_type": "stream",
       "stream": "stderr",
       "text": [
        "\r",
        "Epoch  2/30:  99%|\u2588\u2588\u2588\u2588\u2588\u2588\u2588\u2588\u2588\u2589| 282/285 [00:02<00:00, 58.38batches/s]"
       ]
      },
      {
       "output_type": "stream",
       "stream": "stderr",
       "text": [
        "\r",
        "Epoch  2/30: 100%|\u2588\u2588\u2588\u2588\u2588\u2588\u2588\u2588\u2588\u2588| 285/285 [00:02<00:00, 95.10batches/s]"
       ]
      },
      {
       "output_type": "stream",
       "stream": "stderr",
       "text": [
        "\n",
        "\r",
        "Epoch  3/30:   0%|          | 0/285 [00:00<?, ?batches/s]"
       ]
      },
      {
       "output_type": "stream",
       "stream": "stderr",
       "text": [
        "\r",
        "Epoch  3/30:   0%|          | 1/285 [00:00<01:41,  2.79batches/s]"
       ]
      },
      {
       "output_type": "stream",
       "stream": "stderr",
       "text": [
        "\r",
        "Epoch  3/30:  10%|\u2588         | 29/285 [00:00<01:04,  3.97batches/s]"
       ]
      },
      {
       "output_type": "stream",
       "stream": "stderr",
       "text": [
        "\r",
        "Epoch  3/30:  18%|\u2588\u258a        | 51/285 [00:00<00:42,  5.50batches/s]"
       ]
      },
      {
       "output_type": "stream",
       "stream": "stderr",
       "text": [
        "\r",
        "Epoch  3/30:  28%|\u2588\u2588\u258a       | 81/285 [00:00<00:26,  7.80batches/s]"
       ]
      },
      {
       "output_type": "stream",
       "stream": "stderr",
       "text": [
        "\r",
        "Epoch  3/30:  34%|\u2588\u2588\u2588\u258e      | 96/285 [00:01<00:17, 10.85batches/s]"
       ]
      },
      {
       "output_type": "stream",
       "stream": "stderr",
       "text": [
        "\r",
        "Epoch  3/30:  39%|\u2588\u2588\u2588\u258a      | 110/285 [00:01<00:13, 13.40batches/s]"
       ]
      },
      {
       "output_type": "stream",
       "stream": "stderr",
       "text": [
        "\r",
        "Epoch  3/30:  48%|\u2588\u2588\u2588\u2588\u258a     | 137/285 [00:01<00:07, 18.74batches/s]"
       ]
      },
      {
       "output_type": "stream",
       "stream": "stderr",
       "text": [
        "\r",
        "Epoch  3/30:  54%|\u2588\u2588\u2588\u2588\u2588\u258e    | 153/285 [00:02<00:06, 20.83batches/s]"
       ]
      },
      {
       "output_type": "stream",
       "stream": "stderr",
       "text": [
        "\r",
        "Epoch  3/30:  58%|\u2588\u2588\u2588\u2588\u2588\u258a    | 166/285 [00:02<00:04, 27.68batches/s]"
       ]
      },
      {
       "output_type": "stream",
       "stream": "stderr",
       "text": [
        "\r",
        "Epoch  3/30:  64%|\u2588\u2588\u2588\u2588\u2588\u2588\u258d   | 182/285 [00:02<00:02, 36.50batches/s]"
       ]
      },
      {
       "output_type": "stream",
       "stream": "stderr",
       "text": [
        "\r",
        "Epoch  3/30:  70%|\u2588\u2588\u2588\u2588\u2588\u2588\u2588   | 200/285 [00:02<00:01, 47.97batches/s]"
       ]
      },
      {
       "output_type": "stream",
       "stream": "stderr",
       "text": [
        "\r",
        "Epoch  3/30:  75%|\u2588\u2588\u2588\u2588\u2588\u2588\u2588\u258c  | 215/285 [00:03<00:01, 38.30batches/s]"
       ]
      },
      {
       "output_type": "stream",
       "stream": "stderr",
       "text": [
        "\r",
        "Epoch  3/30:  80%|\u2588\u2588\u2588\u2588\u2588\u2588\u2588\u2588  | 228/285 [00:03<00:01, 48.52batches/s]"
       ]
      },
      {
       "output_type": "stream",
       "stream": "stderr",
       "text": [
        "\r",
        "Epoch  3/30:  85%|\u2588\u2588\u2588\u2588\u2588\u2588\u2588\u2588\u258c | 243/285 [00:03<00:00, 60.30batches/s]"
       ]
      },
      {
       "output_type": "stream",
       "stream": "stderr",
       "text": [
        "\r",
        "Epoch  3/30:  90%|\u2588\u2588\u2588\u2588\u2588\u2588\u2588\u2588\u2589 | 256/285 [00:03<00:00, 41.33batches/s]"
       ]
      },
      {
       "output_type": "stream",
       "stream": "stderr",
       "text": [
        "\r",
        "Epoch  3/30:  99%|\u2588\u2588\u2588\u2588\u2588\u2588\u2588\u2588\u2588\u2589| 282/285 [00:03<00:00, 55.22batches/s]"
       ]
      },
      {
       "output_type": "stream",
       "stream": "stderr",
       "text": [
        "\r",
        "Epoch  3/30: 100%|\u2588\u2588\u2588\u2588\u2588\u2588\u2588\u2588\u2588\u2588| 285/285 [00:03<00:00, 71.40batches/s]"
       ]
      },
      {
       "output_type": "stream",
       "stream": "stderr",
       "text": [
        "\n",
        "\r",
        "Epoch  4/30:   0%|          | 0/285 [00:00<?, ?batches/s]"
       ]
      },
      {
       "output_type": "stream",
       "stream": "stderr",
       "text": [
        "\r",
        "Epoch  4/30:   0%|          | 1/285 [00:00<02:27,  1.92batches/s]"
       ]
      },
      {
       "output_type": "stream",
       "stream": "stderr",
       "text": [
        "\r",
        "Epoch  4/30:  11%|\u2588         | 32/285 [00:00<01:32,  2.74batches/s]"
       ]
      },
      {
       "output_type": "stream",
       "stream": "stderr",
       "text": [
        "\r",
        "Epoch  4/30:  18%|\u2588\u258a        | 51/285 [00:01<01:01,  3.82batches/s]"
       ]
      },
      {
       "output_type": "stream",
       "stream": "stderr",
       "text": [
        "\r",
        "Epoch  4/30:  28%|\u2588\u2588\u258a       | 80/285 [00:01<00:37,  5.42batches/s]"
       ]
      },
      {
       "output_type": "stream",
       "stream": "stderr",
       "text": [
        "\r",
        "Epoch  4/30:  35%|\u2588\u2588\u2588\u258c      | 101/285 [00:01<00:24,  7.40batches/s]"
       ]
      },
      {
       "output_type": "stream",
       "stream": "stderr",
       "text": [
        "\r",
        "Epoch  4/30:  46%|\u2588\u2588\u2588\u2588\u258c     | 130/285 [00:01<00:14, 10.46batches/s]"
       ]
      },
      {
       "output_type": "stream",
       "stream": "stderr",
       "text": [
        "\r",
        "Epoch  4/30:  53%|\u2588\u2588\u2588\u2588\u2588\u258e    | 151/285 [00:02<00:10, 13.39batches/s]"
       ]
      },
      {
       "output_type": "stream",
       "stream": "stderr",
       "text": [
        "\r",
        "Epoch  4/30:  64%|\u2588\u2588\u2588\u2588\u2588\u2588\u258d   | 182/285 [00:02<00:05, 18.77batches/s]"
       ]
      },
      {
       "output_type": "stream",
       "stream": "stderr",
       "text": [
        "\r",
        "Epoch  4/30:  71%|\u2588\u2588\u2588\u2588\u2588\u2588\u2588   | 201/285 [00:02<00:03, 22.99batches/s]"
       ]
      },
      {
       "output_type": "stream",
       "stream": "stderr",
       "text": [
        "\r",
        "Epoch  4/30:  79%|\u2588\u2588\u2588\u2588\u2588\u2588\u2588\u258a  | 224/285 [00:02<00:01, 31.37batches/s]"
       ]
      },
      {
       "output_type": "stream",
       "stream": "stderr",
       "text": [
        "\r",
        "Epoch  4/30:  85%|\u2588\u2588\u2588\u2588\u2588\u2588\u2588\u2588\u258d | 241/285 [00:02<00:01, 40.22batches/s]"
       ]
      },
      {
       "output_type": "stream",
       "stream": "stderr",
       "text": [
        "\r",
        "Epoch  4/30:  90%|\u2588\u2588\u2588\u2588\u2588\u2588\u2588\u2588\u2589 | 256/285 [00:03<00:00, 31.91batches/s]"
       ]
      },
      {
       "output_type": "stream",
       "stream": "stderr",
       "text": [
        "\r",
        "Epoch  4/30:  95%|\u2588\u2588\u2588\u2588\u2588\u2588\u2588\u2588\u2588\u258c| 272/285 [00:03<00:00, 41.69batches/s]"
       ]
      },
      {
       "output_type": "stream",
       "stream": "stderr",
       "text": [
        "\r",
        "Epoch  4/30: 100%|\u2588\u2588\u2588\u2588\u2588\u2588\u2588\u2588\u2588\u2588| 285/285 [00:03<00:00, 75.05batches/s]"
       ]
      },
      {
       "output_type": "stream",
       "stream": "stderr",
       "text": [
        "\n",
        "\r",
        "Epoch  5/30:   0%|          | 0/285 [00:00<?, ?batches/s]"
       ]
      },
      {
       "output_type": "stream",
       "stream": "stderr",
       "text": [
        "\r",
        "Epoch  5/30:   0%|          | 1/285 [00:00<01:40,  2.82batches/s]"
       ]
      },
      {
       "output_type": "stream",
       "stream": "stderr",
       "text": [
        "\r",
        "Epoch  5/30:  11%|\u2588         | 32/285 [00:00<01:03,  4.01batches/s]"
       ]
      },
      {
       "output_type": "stream",
       "stream": "stderr",
       "text": [
        "\r",
        "Epoch  5/30:  18%|\u2588\u258a        | 51/285 [00:00<00:42,  5.54batches/s]"
       ]
      },
      {
       "output_type": "stream",
       "stream": "stderr",
       "text": [
        "\r",
        "Epoch  5/30:  28%|\u2588\u2588\u258a       | 80/285 [00:00<00:26,  7.84batches/s]"
       ]
      },
      {
       "output_type": "stream",
       "stream": "stderr",
       "text": [
        "\r",
        "Epoch  5/30:  35%|\u2588\u2588\u2588\u258c      | 101/285 [00:01<00:17, 10.53batches/s]"
       ]
      },
      {
       "output_type": "stream",
       "stream": "stderr",
       "text": [
        "\r",
        "Epoch  5/30:  46%|\u2588\u2588\u2588\u2588\u258b     | 132/285 [00:01<00:10, 14.82batches/s]"
       ]
      },
      {
       "output_type": "stream",
       "stream": "stderr",
       "text": [
        "\r",
        "Epoch  5/30:  53%|\u2588\u2588\u2588\u2588\u2588\u258e    | 151/285 [00:02<00:07, 17.74batches/s]"
       ]
      },
      {
       "output_type": "stream",
       "stream": "stderr",
       "text": [
        "\r",
        "Epoch  5/30:  63%|\u2588\u2588\u2588\u2588\u2588\u2588\u258e   | 180/285 [00:02<00:04, 24.70batches/s]"
       ]
      },
      {
       "output_type": "stream",
       "stream": "stderr",
       "text": [
        "\r",
        "Epoch  5/30:  71%|\u2588\u2588\u2588\u2588\u2588\u2588\u2588   | 201/285 [00:02<00:03, 27.67batches/s]"
       ]
      },
      {
       "output_type": "stream",
       "stream": "stderr",
       "text": [
        "\r",
        "Epoch  5/30:  82%|\u2588\u2588\u2588\u2588\u2588\u2588\u2588\u2588\u258f | 233/285 [00:02<00:01, 38.08batches/s]"
       ]
      },
      {
       "output_type": "stream",
       "stream": "stderr",
       "text": [
        "\r",
        "Epoch  5/30:  88%|\u2588\u2588\u2588\u2588\u2588\u2588\u2588\u2588\u258a | 252/285 [00:03<00:00, 36.13batches/s]"
       ]
      },
      {
       "output_type": "stream",
       "stream": "stderr",
       "text": [
        "\r",
        "Epoch  5/30:  98%|\u2588\u2588\u2588\u2588\u2588\u2588\u2588\u2588\u2588\u258a| 279/285 [00:03<00:00, 48.79batches/s]"
       ]
      },
      {
       "output_type": "stream",
       "stream": "stderr",
       "text": [
        "\r",
        "Epoch  5/30: 100%|\u2588\u2588\u2588\u2588\u2588\u2588\u2588\u2588\u2588\u2588| 285/285 [00:03<00:00, 81.01batches/s]"
       ]
      },
      {
       "output_type": "stream",
       "stream": "stderr",
       "text": [
        "\n",
        "\r",
        "Epoch  6/30:   0%|          | 0/285 [00:00<?, ?batches/s]"
       ]
      },
      {
       "output_type": "stream",
       "stream": "stderr",
       "text": [
        "\r",
        "Epoch  6/30:   0%|          | 1/285 [00:00<02:15,  2.09batches/s]"
       ]
      },
      {
       "output_type": "stream",
       "stream": "stderr",
       "text": [
        "\r",
        "Epoch  6/30:   6%|\u258c         | 17/285 [00:00<01:30,  2.97batches/s]"
       ]
      },
      {
       "output_type": "stream",
       "stream": "stderr",
       "text": [
        "\r",
        "Epoch  6/30:  11%|\u2588         | 32/285 [00:00<01:00,  4.21batches/s]"
       ]
      },
      {
       "output_type": "stream",
       "stream": "stderr",
       "text": [
        "\r",
        "Epoch  6/30:  16%|\u2588\u258c        | 46/285 [00:00<00:40,  5.94batches/s]"
       ]
      },
      {
       "output_type": "stream",
       "stream": "stderr",
       "text": [
        "\r",
        "Epoch  6/30:  20%|\u2588\u2589        | 56/285 [00:01<00:30,  7.44batches/s]"
       ]
      },
      {
       "output_type": "stream",
       "stream": "stderr",
       "text": [
        "\r",
        "Epoch  6/30:  26%|\u2588\u2588\u258c       | 73/285 [00:01<00:20, 10.41batches/s]"
       ]
      },
      {
       "output_type": "stream",
       "stream": "stderr",
       "text": [
        "\r",
        "Epoch  6/30:  31%|\u2588\u2588\u2588       | 88/285 [00:01<00:13, 14.39batches/s]"
       ]
      },
      {
       "output_type": "stream",
       "stream": "stderr",
       "text": [
        "\r",
        "Epoch  6/30:  35%|\u2588\u2588\u2588\u258c      | 101/285 [00:02<00:11, 16.50batches/s]"
       ]
      },
      {
       "output_type": "stream",
       "stream": "stderr",
       "text": [
        "\r",
        "Epoch  6/30:  46%|\u2588\u2588\u2588\u2588\u258c     | 130/285 [00:02<00:06, 23.00batches/s]"
       ]
      },
      {
       "output_type": "stream",
       "stream": "stderr",
       "text": [
        "\r",
        "Epoch  6/30:  51%|\u2588\u2588\u2588\u2588\u2588     | 145/285 [00:02<00:04, 30.49batches/s]"
       ]
      },
      {
       "output_type": "stream",
       "stream": "stderr",
       "text": [
        "\r",
        "Epoch  6/30:  56%|\u2588\u2588\u2588\u2588\u2588\u258c    | 159/285 [00:02<00:04, 28.23batches/s]"
       ]
      },
      {
       "output_type": "stream",
       "stream": "stderr",
       "text": [
        "\r",
        "Epoch  6/30:  64%|\u2588\u2588\u2588\u2588\u2588\u2588\u258d   | 183/285 [00:02<00:02, 38.36batches/s]"
       ]
      },
      {
       "output_type": "stream",
       "stream": "stderr",
       "text": [
        "\r",
        "Epoch  6/30:  71%|\u2588\u2588\u2588\u2588\u2588\u2588\u2588   | 201/285 [00:03<00:02, 40.27batches/s]"
       ]
      },
      {
       "output_type": "stream",
       "stream": "stderr",
       "text": [
        "\r",
        "Epoch  6/30:  80%|\u2588\u2588\u2588\u2588\u2588\u2588\u2588\u2588  | 228/285 [00:03<00:01, 54.06batches/s]"
       ]
      },
      {
       "output_type": "stream",
       "stream": "stderr",
       "text": [
        "\r",
        "Epoch  6/30:  88%|\u2588\u2588\u2588\u2588\u2588\u2588\u2588\u2588\u258a | 251/285 [00:03<00:00, 53.76batches/s]"
       ]
      },
      {
       "output_type": "stream",
       "stream": "stderr",
       "text": [
        "\r",
        "Epoch  6/30:  98%|\u2588\u2588\u2588\u2588\u2588\u2588\u2588\u2588\u2588\u258a| 280/285 [00:04<00:00, 71.07batches/s]"
       ]
      },
      {
       "output_type": "stream",
       "stream": "stderr",
       "text": [
        "\r",
        "Epoch  6/30: 100%|\u2588\u2588\u2588\u2588\u2588\u2588\u2588\u2588\u2588\u2588| 285/285 [00:04<00:00, 70.54batches/s]"
       ]
      },
      {
       "output_type": "stream",
       "stream": "stderr",
       "text": [
        "\n",
        "\r",
        "Epoch  7/30:   0%|          | 0/285 [00:00<?, ?batches/s]"
       ]
      },
      {
       "output_type": "stream",
       "stream": "stderr",
       "text": [
        "\r",
        "Epoch  7/30:   0%|          | 1/285 [00:00<01:45,  2.70batches/s]"
       ]
      },
      {
       "output_type": "stream",
       "stream": "stderr",
       "text": [
        "\r",
        "Epoch  7/30:  11%|\u2588         | 32/285 [00:00<01:05,  3.84batches/s]"
       ]
      },
      {
       "output_type": "stream",
       "stream": "stderr",
       "text": [
        "\r",
        "Epoch  7/30:  18%|\u2588\u258a        | 51/285 [00:00<00:44,  5.31batches/s]"
       ]
      },
      {
       "output_type": "stream",
       "stream": "stderr",
       "text": [
        "\r",
        "Epoch  7/30:  28%|\u2588\u2588\u258a       | 81/285 [00:00<00:27,  7.53batches/s]"
       ]
      },
      {
       "output_type": "stream",
       "stream": "stderr",
       "text": [
        "\r",
        "Epoch  7/30:  35%|\u2588\u2588\u2588\u258c      | 101/285 [00:01<00:18, 10.10batches/s]"
       ]
      },
      {
       "output_type": "stream",
       "stream": "stderr",
       "text": [
        "\r",
        "Epoch  7/30:  45%|\u2588\u2588\u2588\u2588\u258c     | 129/285 [00:01<00:10, 14.21batches/s]"
       ]
      },
      {
       "output_type": "stream",
       "stream": "stderr",
       "text": [
        "\r",
        "Epoch  7/30:  53%|\u2588\u2588\u2588\u2588\u2588\u258e    | 151/285 [00:01<00:07, 17.86batches/s]"
       ]
      },
      {
       "output_type": "stream",
       "stream": "stderr",
       "text": [
        "\r",
        "Epoch  7/30:  60%|\u2588\u2588\u2588\u2588\u2588\u2588    | 171/285 [00:02<00:04, 24.57batches/s]"
       ]
      },
      {
       "output_type": "stream",
       "stream": "stderr",
       "text": [
        "\r",
        "Epoch  7/30:  67%|\u2588\u2588\u2588\u2588\u2588\u2588\u258b   | 190/285 [00:02<00:02, 33.05batches/s]"
       ]
      },
      {
       "output_type": "stream",
       "stream": "stderr",
       "text": [
        "\r",
        "Epoch  7/30:  72%|\u2588\u2588\u2588\u2588\u2588\u2588\u2588\u258f  | 206/285 [00:03<00:03, 26.24batches/s]"
       ]
      },
      {
       "output_type": "stream",
       "stream": "stderr",
       "text": [
        "\r",
        "Epoch  7/30:  79%|\u2588\u2588\u2588\u2588\u2588\u2588\u2588\u2589  | 226/285 [00:03<00:01, 35.46batches/s]"
       ]
      },
      {
       "output_type": "stream",
       "stream": "stderr",
       "text": [
        "\r",
        "Epoch  7/30:  86%|\u2588\u2588\u2588\u2588\u2588\u2588\u2588\u2588\u258c | 245/285 [00:03<00:00, 46.78batches/s]"
       ]
      },
      {
       "output_type": "stream",
       "stream": "stderr",
       "text": [
        "\r",
        "Epoch  7/30:  92%|\u2588\u2588\u2588\u2588\u2588\u2588\u2588\u2588\u2588\u258f| 261/285 [00:03<00:00, 37.49batches/s]"
       ]
      },
      {
       "output_type": "stream",
       "stream": "stderr",
       "text": [
        "\r",
        "Epoch  7/30:  99%|\u2588\u2588\u2588\u2588\u2588\u2588\u2588\u2588\u2588\u2589| 282/285 [00:04<00:00, 49.75batches/s]"
       ]
      },
      {
       "output_type": "stream",
       "stream": "stderr",
       "text": [
        "\r",
        "Epoch  7/30: 100%|\u2588\u2588\u2588\u2588\u2588\u2588\u2588\u2588\u2588\u2588| 285/285 [00:04<00:00, 70.81batches/s]"
       ]
      },
      {
       "output_type": "stream",
       "stream": "stderr",
       "text": [
        "\n",
        "\r",
        "Epoch  8/30:   0%|          | 0/285 [00:00<?, ?batches/s]"
       ]
      },
      {
       "output_type": "stream",
       "stream": "stderr",
       "text": [
        "\r",
        "Epoch  8/30:   0%|          | 1/285 [00:00<02:18,  2.05batches/s]"
       ]
      },
      {
       "output_type": "stream",
       "stream": "stderr",
       "text": [
        "\r",
        "Epoch  8/30:  11%|\u2588         | 32/285 [00:00<01:26,  2.92batches/s]"
       ]
      },
      {
       "output_type": "stream",
       "stream": "stderr",
       "text": [
        "\r",
        "Epoch  8/30:  18%|\u2588\u258a        | 51/285 [00:01<00:57,  4.05batches/s]"
       ]
      },
      {
       "output_type": "stream",
       "stream": "stderr",
       "text": [
        "\r",
        "Epoch  8/30:  24%|\u2588\u2588\u258d       | 69/285 [00:01<00:37,  5.73batches/s]"
       ]
      },
      {
       "output_type": "stream",
       "stream": "stderr",
       "text": [
        "\r",
        "Epoch  8/30:  29%|\u2588\u2588\u2589       | 83/285 [00:01<00:25,  8.04batches/s]"
       ]
      },
      {
       "output_type": "stream",
       "stream": "stderr",
       "text": [
        "\r",
        "Epoch  8/30:  35%|\u2588\u2588\u2588\u258c      | 101/285 [00:01<00:17, 10.25batches/s]"
       ]
      },
      {
       "output_type": "stream",
       "stream": "stderr",
       "text": [
        "\r",
        "Epoch  8/30:  39%|\u2588\u2588\u2588\u2589      | 111/285 [00:01<00:12, 13.95batches/s]"
       ]
      },
      {
       "output_type": "stream",
       "stream": "stderr",
       "text": [
        "\r",
        "Epoch  8/30:  43%|\u2588\u2588\u2588\u2588\u258e     | 122/285 [00:02<00:08, 18.79batches/s]"
       ]
      },
      {
       "output_type": "stream",
       "stream": "stderr",
       "text": [
        "\r",
        "Epoch  8/30:  47%|\u2588\u2588\u2588\u2588\u258b     | 134/285 [00:02<00:06, 25.15batches/s]"
       ]
      },
      {
       "output_type": "stream",
       "stream": "stderr",
       "text": [
        "\r",
        "Epoch  8/30:  52%|\u2588\u2588\u2588\u2588\u2588\u258f    | 147/285 [00:02<00:04, 32.89batches/s]"
       ]
      },
      {
       "output_type": "stream",
       "stream": "stderr",
       "text": [
        "\r",
        "Epoch  8/30:  55%|\u2588\u2588\u2588\u2588\u2588\u258c    | 158/285 [00:03<00:05, 25.13batches/s]"
       ]
      },
      {
       "output_type": "stream",
       "stream": "stderr",
       "text": [
        "\r",
        "Epoch  8/30:  62%|\u2588\u2588\u2588\u2588\u2588\u2588\u258f   | 176/285 [00:03<00:03, 33.75batches/s]"
       ]
      },
      {
       "output_type": "stream",
       "stream": "stderr",
       "text": [
        "\r",
        "Epoch  8/30:  67%|\u2588\u2588\u2588\u2588\u2588\u2588\u258b   | 190/285 [00:03<00:02, 43.63batches/s]"
       ]
      },
      {
       "output_type": "stream",
       "stream": "stderr",
       "text": [
        "\r",
        "Epoch  8/30:  71%|\u2588\u2588\u2588\u2588\u2588\u2588\u2588   | 202/285 [00:03<00:02, 33.07batches/s]"
       ]
      },
      {
       "output_type": "stream",
       "stream": "stderr",
       "text": [
        "\r",
        "Epoch  8/30:  79%|\u2588\u2588\u2588\u2588\u2588\u2588\u2588\u2589  | 225/285 [00:03<00:01, 44.35batches/s]"
       ]
      },
      {
       "output_type": "stream",
       "stream": "stderr",
       "text": [
        "\r",
        "Epoch  8/30:  86%|\u2588\u2588\u2588\u2588\u2588\u2588\u2588\u2588\u258c | 244/285 [00:03<00:00, 57.47batches/s]"
       ]
      },
      {
       "output_type": "stream",
       "stream": "stderr",
       "text": [
        "\r",
        "Epoch  8/30:  91%|\u2588\u2588\u2588\u2588\u2588\u2588\u2588\u2588\u2588 | 259/285 [00:04<00:00, 45.32batches/s]"
       ]
      },
      {
       "output_type": "stream",
       "stream": "stderr",
       "text": [
        "\r",
        "Epoch  8/30:  97%|\u2588\u2588\u2588\u2588\u2588\u2588\u2588\u2588\u2588\u258b| 277/285 [00:04<00:00, 58.31batches/s]"
       ]
      },
      {
       "output_type": "stream",
       "stream": "stderr",
       "text": [
        "\r",
        "Epoch  8/30: 100%|\u2588\u2588\u2588\u2588\u2588\u2588\u2588\u2588\u2588\u2588| 285/285 [00:04<00:00, 61.76batches/s]"
       ]
      },
      {
       "output_type": "stream",
       "stream": "stderr",
       "text": [
        "\n",
        "\r",
        "Epoch  9/30:   0%|          | 0/285 [00:00<?, ?batches/s]"
       ]
      },
      {
       "output_type": "stream",
       "stream": "stderr",
       "text": [
        "\r",
        "Epoch  9/30:   0%|          | 1/285 [00:00<02:16,  2.09batches/s]"
       ]
      },
      {
       "output_type": "stream",
       "stream": "stderr",
       "text": [
        "\r",
        "Epoch  9/30:   8%|\u258a         | 23/285 [00:00<01:28,  2.97batches/s]"
       ]
      },
      {
       "output_type": "stream",
       "stream": "stderr",
       "text": [
        "\r",
        "Epoch  9/30:  14%|\u2588\u258d        | 40/285 [00:00<00:58,  4.21batches/s]"
       ]
      },
      {
       "output_type": "stream",
       "stream": "stderr",
       "text": [
        "\r",
        "Epoch  9/30:  18%|\u2588\u258a        | 51/285 [00:01<00:41,  5.63batches/s]"
       ]
      },
      {
       "output_type": "stream",
       "stream": "stderr",
       "text": [
        "\r",
        "Epoch  9/30:  28%|\u2588\u2588\u258a       | 80/285 [00:01<00:25,  7.97batches/s]"
       ]
      },
      {
       "output_type": "stream",
       "stream": "stderr",
       "text": [
        "\r",
        "Epoch  9/30:  35%|\u2588\u2588\u2588\u258c      | 101/285 [00:01<00:17, 10.69batches/s]"
       ]
      },
      {
       "output_type": "stream",
       "stream": "stderr",
       "text": [
        "\r",
        "Epoch  9/30:  45%|\u2588\u2588\u2588\u2588\u258c     | 129/285 [00:01<00:10, 15.02batches/s]"
       ]
      },
      {
       "output_type": "stream",
       "stream": "stderr",
       "text": [
        "\r",
        "Epoch  9/30:  52%|\u2588\u2588\u2588\u2588\u2588\u258f    | 147/285 [00:01<00:06, 20.68batches/s]"
       ]
      },
      {
       "output_type": "stream",
       "stream": "stderr",
       "text": [
        "\r",
        "Epoch  9/30:  58%|\u2588\u2588\u2588\u2588\u2588\u258a    | 164/285 [00:02<00:05, 23.48batches/s]"
       ]
      },
      {
       "output_type": "stream",
       "stream": "stderr",
       "text": [
        "\r",
        "Epoch  9/30:  65%|\u2588\u2588\u2588\u2588\u2588\u2588\u258c   | 186/285 [00:02<00:03, 32.03batches/s]"
       ]
      },
      {
       "output_type": "stream",
       "stream": "stderr",
       "text": [
        "\r",
        "Epoch  9/30:  71%|\u2588\u2588\u2588\u2588\u2588\u2588\u2588   | 202/285 [00:02<00:02, 34.40batches/s]"
       ]
      },
      {
       "output_type": "stream",
       "stream": "stderr",
       "text": [
        "\r",
        "Epoch  9/30:  81%|\u2588\u2588\u2588\u2588\u2588\u2588\u2588\u2588\u258f | 232/285 [00:02<00:01, 46.79batches/s]"
       ]
      },
      {
       "output_type": "stream",
       "stream": "stderr",
       "text": [
        "\r",
        "Epoch  9/30:  88%|\u2588\u2588\u2588\u2588\u2588\u2588\u2588\u2588\u258a | 251/285 [00:03<00:00, 45.10batches/s]"
       ]
      },
      {
       "output_type": "stream",
       "stream": "stderr",
       "text": [
        "\r",
        "Epoch  9/30:  99%|\u2588\u2588\u2588\u2588\u2588\u2588\u2588\u2588\u2588\u258a| 281/285 [00:03<00:00, 60.50batches/s]"
       ]
      },
      {
       "output_type": "stream",
       "stream": "stderr",
       "text": [
        "\r",
        "Epoch  9/30: 100%|\u2588\u2588\u2588\u2588\u2588\u2588\u2588\u2588\u2588\u2588| 285/285 [00:03<00:00, 81.77batches/s]"
       ]
      },
      {
       "output_type": "stream",
       "stream": "stderr",
       "text": [
        "\n",
        "\r",
        "Epoch 10/30:   0%|          | 0/285 [00:00<?, ?batches/s]"
       ]
      },
      {
       "output_type": "stream",
       "stream": "stderr",
       "text": [
        "\r",
        "Epoch 10/30:   0%|          | 1/285 [00:00<02:21,  2.00batches/s]"
       ]
      },
      {
       "output_type": "stream",
       "stream": "stderr",
       "text": [
        "\r",
        "Epoch 10/30:   5%|\u258c         | 15/285 [00:00<01:34,  2.84batches/s]"
       ]
      },
      {
       "output_type": "stream",
       "stream": "stderr",
       "text": [
        "\r",
        "Epoch 10/30:  14%|\u2588\u258d        | 41/285 [00:00<01:00,  4.04batches/s]"
       ]
      },
      {
       "output_type": "stream",
       "stream": "stderr",
       "text": [
        "\r",
        "Epoch 10/30:  18%|\u2588\u258a        | 52/285 [00:01<00:43,  5.37batches/s]"
       ]
      },
      {
       "output_type": "stream",
       "stream": "stderr",
       "text": [
        "\r",
        "Epoch 10/30:  28%|\u2588\u2588\u258a       | 81/285 [00:01<00:26,  7.61batches/s]"
       ]
      },
      {
       "output_type": "stream",
       "stream": "stderr",
       "text": [
        "\r",
        "Epoch 10/30:  35%|\u2588\u2588\u2588\u258c      | 101/285 [00:01<00:18, 10.21batches/s]"
       ]
      },
      {
       "output_type": "stream",
       "stream": "stderr",
       "text": [
        "\r",
        "Epoch 10/30:  46%|\u2588\u2588\u2588\u2588\u258c     | 130/285 [00:01<00:10, 14.37batches/s]"
       ]
      },
      {
       "output_type": "stream",
       "stream": "stderr",
       "text": [
        "\r",
        "Epoch 10/30:  53%|\u2588\u2588\u2588\u2588\u2588\u258e    | 151/285 [00:02<00:07, 18.24batches/s]"
       ]
      },
      {
       "output_type": "stream",
       "stream": "stderr",
       "text": [
        "\r",
        "Epoch 10/30:  60%|\u2588\u2588\u2588\u2588\u2588\u2588    | 172/285 [00:02<00:04, 25.11batches/s]"
       ]
      },
      {
       "output_type": "stream",
       "stream": "stderr",
       "text": [
        "\r",
        "Epoch 10/30:  68%|\u2588\u2588\u2588\u2588\u2588\u2588\u258a   | 194/285 [00:02<00:02, 34.09batches/s]"
       ]
      },
      {
       "output_type": "stream",
       "stream": "stderr",
       "text": [
        "\r",
        "Epoch 10/30:  74%|\u2588\u2588\u2588\u2588\u2588\u2588\u2588\u258d  | 211/285 [00:02<00:02, 36.04batches/s]"
       ]
      },
      {
       "output_type": "stream",
       "stream": "stderr",
       "text": [
        "\r",
        "Epoch 10/30:  84%|\u2588\u2588\u2588\u2588\u2588\u2588\u2588\u2588\u258d | 240/285 [00:02<00:00, 48.85batches/s]"
       ]
      },
      {
       "output_type": "stream",
       "stream": "stderr",
       "text": [
        "\r",
        "Epoch 10/30:  91%|\u2588\u2588\u2588\u2588\u2588\u2588\u2588\u2588\u2588 | 258/285 [00:03<00:00, 46.54batches/s]"
       ]
      },
      {
       "output_type": "stream",
       "stream": "stderr",
       "text": [
        "\r",
        "Epoch 10/30:  98%|\u2588\u2588\u2588\u2588\u2588\u2588\u2588\u2588\u2588\u258a| 279/285 [00:03<00:00, 60.38batches/s]"
       ]
      },
      {
       "output_type": "stream",
       "stream": "stderr",
       "text": [
        "\r",
        "Epoch 10/30: 100%|\u2588\u2588\u2588\u2588\u2588\u2588\u2588\u2588\u2588\u2588| 285/285 [00:03<00:00, 81.35batches/s]"
       ]
      },
      {
       "output_type": "stream",
       "stream": "stderr",
       "text": [
        "\n",
        "\r",
        "Epoch 11/30:   0%|          | 0/285 [00:00<?, ?batches/s]"
       ]
      },
      {
       "output_type": "stream",
       "stream": "stderr",
       "text": [
        "\r",
        "Epoch 11/30:   0%|          | 1/285 [00:00<02:03,  2.29batches/s]"
       ]
      },
      {
       "output_type": "stream",
       "stream": "stderr",
       "text": [
        "\r",
        "Epoch 11/30:   9%|\u2589         | 25/285 [00:00<01:19,  3.26batches/s]"
       ]
      },
      {
       "output_type": "stream",
       "stream": "stderr",
       "text": [
        "\r",
        "Epoch 11/30:  18%|\u2588\u258a        | 51/285 [00:00<00:51,  4.56batches/s]"
       ]
      },
      {
       "output_type": "stream",
       "stream": "stderr",
       "text": [
        "\r",
        "Epoch 11/30:  29%|\u2588\u2588\u2589       | 82/285 [00:01<00:31,  6.47batches/s]"
       ]
      },
      {
       "output_type": "stream",
       "stream": "stderr",
       "text": [
        "\r",
        "Epoch 11/30:  35%|\u2588\u2588\u2588\u258c      | 101/285 [00:01<00:21,  8.71batches/s]"
       ]
      },
      {
       "output_type": "stream",
       "stream": "stderr",
       "text": [
        "\r",
        "Epoch 11/30:  43%|\u2588\u2588\u2588\u2588\u258e     | 123/285 [00:01<00:13, 12.23batches/s]"
       ]
      },
      {
       "output_type": "stream",
       "stream": "stderr",
       "text": [
        "\r",
        "Epoch 11/30:  51%|\u2588\u2588\u2588\u2588\u2588     | 145/285 [00:01<00:08, 17.04batches/s]"
       ]
      },
      {
       "output_type": "stream",
       "stream": "stderr",
       "text": [
        "\r",
        "Epoch 11/30:  57%|\u2588\u2588\u2588\u2588\u2588\u258b    | 162/285 [00:02<00:06, 19.95batches/s]"
       ]
      },
      {
       "output_type": "stream",
       "stream": "stderr",
       "text": [
        "\r",
        "Epoch 11/30:  64%|\u2588\u2588\u2588\u2588\u2588\u2588\u258d   | 182/285 [00:02<00:03, 27.30batches/s]"
       ]
      },
      {
       "output_type": "stream",
       "stream": "stderr",
       "text": [
        "\r",
        "Epoch 11/30:  71%|\u2588\u2588\u2588\u2588\u2588\u2588\u2588   | 201/285 [00:02<00:02, 30.44batches/s]"
       ]
      },
      {
       "output_type": "stream",
       "stream": "stderr",
       "text": [
        "\r",
        "Epoch 11/30:  81%|\u2588\u2588\u2588\u2588\u2588\u2588\u2588\u2588\u258f | 232/285 [00:02<00:01, 41.72batches/s]"
       ]
      },
      {
       "output_type": "stream",
       "stream": "stderr",
       "text": [
        "\r",
        "Epoch 11/30:  88%|\u2588\u2588\u2588\u2588\u2588\u2588\u2588\u2588\u258a | 251/285 [00:03<00:00, 43.50batches/s]"
       ]
      },
      {
       "output_type": "stream",
       "stream": "stderr",
       "text": [
        "\r",
        "Epoch 11/30:  98%|\u2588\u2588\u2588\u2588\u2588\u2588\u2588\u2588\u2588\u258a| 279/285 [00:03<00:00, 58.25batches/s]"
       ]
      },
      {
       "output_type": "stream",
       "stream": "stderr",
       "text": [
        "\r",
        "Epoch 11/30: 100%|\u2588\u2588\u2588\u2588\u2588\u2588\u2588\u2588\u2588\u2588| 285/285 [00:03<00:00, 84.28batches/s]"
       ]
      },
      {
       "output_type": "stream",
       "stream": "stderr",
       "text": [
        "\n",
        "\r",
        "Epoch 12/30:   0%|          | 0/285 [00:00<?, ?batches/s]"
       ]
      },
      {
       "output_type": "stream",
       "stream": "stderr",
       "text": [
        "\r",
        "Epoch 12/30:   0%|          | 1/285 [00:00<01:44,  2.71batches/s]"
       ]
      },
      {
       "output_type": "stream",
       "stream": "stderr",
       "text": [
        "\r",
        "Epoch 12/30:  10%|\u2588         | 29/285 [00:00<01:06,  3.85batches/s]"
       ]
      },
      {
       "output_type": "stream",
       "stream": "stderr",
       "text": [
        "\r",
        "Epoch 12/30:  18%|\u2588\u258a        | 51/285 [00:00<00:44,  5.31batches/s]"
       ]
      },
      {
       "output_type": "stream",
       "stream": "stderr",
       "text": [
        "\r",
        "Epoch 12/30:  28%|\u2588\u2588\u258a       | 81/285 [00:01<00:27,  7.52batches/s]"
       ]
      },
      {
       "output_type": "stream",
       "stream": "stderr",
       "text": [
        "\r",
        "Epoch 12/30:  35%|\u2588\u2588\u2588\u258c      | 101/285 [00:01<00:18, 10.09batches/s]"
       ]
      },
      {
       "output_type": "stream",
       "stream": "stderr",
       "text": [
        "\r",
        "Epoch 12/30:  46%|\u2588\u2588\u2588\u2588\u258c     | 131/285 [00:01<00:10, 14.21batches/s]"
       ]
      },
      {
       "output_type": "stream",
       "stream": "stderr",
       "text": [
        "\r",
        "Epoch 12/30:  53%|\u2588\u2588\u2588\u2588\u2588\u258e    | 151/285 [00:01<00:07, 18.02batches/s]"
       ]
      },
      {
       "output_type": "stream",
       "stream": "stderr",
       "text": [
        "\r",
        "Epoch 12/30:  59%|\u2588\u2588\u2588\u2588\u2588\u258a    | 167/285 [00:02<00:04, 24.44batches/s]"
       ]
      },
      {
       "output_type": "stream",
       "stream": "stderr",
       "text": [
        "\r",
        "Epoch 12/30:  64%|\u2588\u2588\u2588\u2588\u2588\u2588\u258e   | 181/285 [00:02<00:03, 31.82batches/s]"
       ]
      },
      {
       "output_type": "stream",
       "stream": "stderr",
       "text": [
        "\r",
        "Epoch 12/30:  69%|\u2588\u2588\u2588\u2588\u2588\u2588\u2589   | 196/285 [00:02<00:02, 41.44batches/s]"
       ]
      },
      {
       "output_type": "stream",
       "stream": "stderr",
       "text": [
        "\r",
        "Epoch 12/30:  74%|\u2588\u2588\u2588\u2588\u2588\u2588\u2588\u258e  | 210/285 [00:02<00:01, 39.35batches/s]"
       ]
      },
      {
       "output_type": "stream",
       "stream": "stderr",
       "text": [
        "\r",
        "Epoch 12/30:  82%|\u2588\u2588\u2588\u2588\u2588\u2588\u2588\u2588\u258f | 235/285 [00:02<00:00, 52.65batches/s]"
       ]
      },
      {
       "output_type": "stream",
       "stream": "stderr",
       "text": [
        "\r",
        "Epoch 12/30:  88%|\u2588\u2588\u2588\u2588\u2588\u2588\u2588\u2588\u258a | 251/285 [00:03<00:00, 48.30batches/s]"
       ]
      },
      {
       "output_type": "stream",
       "stream": "stderr",
       "text": [
        "\r",
        "Epoch 12/30:  98%|\u2588\u2588\u2588\u2588\u2588\u2588\u2588\u2588\u2588\u258a| 279/285 [00:03<00:00, 64.22batches/s]"
       ]
      },
      {
       "output_type": "stream",
       "stream": "stderr",
       "text": [
        "\r",
        "Epoch 12/30: 100%|\u2588\u2588\u2588\u2588\u2588\u2588\u2588\u2588\u2588\u2588| 285/285 [00:03<00:00, 84.94batches/s]"
       ]
      },
      {
       "output_type": "stream",
       "stream": "stderr",
       "text": [
        "\n",
        "\r",
        "Epoch 13/30:   0%|          | 0/285 [00:00<?, ?batches/s]"
       ]
      },
      {
       "output_type": "stream",
       "stream": "stderr",
       "text": [
        "\r",
        "Epoch 13/30:   0%|          | 1/285 [00:00<01:43,  2.74batches/s]"
       ]
      },
      {
       "output_type": "stream",
       "stream": "stderr",
       "text": [
        "\r",
        "Epoch 13/30:  11%|\u2588         | 32/285 [00:00<01:04,  3.90batches/s]"
       ]
      },
      {
       "output_type": "stream",
       "stream": "stderr",
       "text": [
        "\r",
        "Epoch 13/30:  18%|\u2588\u258a        | 51/285 [00:00<00:43,  5.38batches/s]"
       ]
      },
      {
       "output_type": "stream",
       "stream": "stderr",
       "text": [
        "\r",
        "Epoch 13/30:  27%|\u2588\u2588\u258b       | 76/285 [00:00<00:27,  7.61batches/s]"
       ]
      },
      {
       "output_type": "stream",
       "stream": "stderr",
       "text": [
        "\r",
        "Epoch 13/30:  35%|\u2588\u2588\u2588\u258c      | 101/285 [00:01<00:17, 10.31batches/s]"
       ]
      },
      {
       "output_type": "stream",
       "stream": "stderr",
       "text": [
        "\r",
        "Epoch 13/30:  46%|\u2588\u2588\u2588\u2588\u258c     | 130/285 [00:01<00:10, 14.50batches/s]"
       ]
      },
      {
       "output_type": "stream",
       "stream": "stderr",
       "text": [
        "\r",
        "Epoch 13/30:  53%|\u2588\u2588\u2588\u2588\u2588\u258e    | 151/285 [00:01<00:07, 18.52batches/s]"
       ]
      },
      {
       "output_type": "stream",
       "stream": "stderr",
       "text": [
        "\r",
        "Epoch 13/30:  59%|\u2588\u2588\u2588\u2588\u2588\u2589    | 169/285 [00:01<00:04, 25.26batches/s]"
       ]
      },
      {
       "output_type": "stream",
       "stream": "stderr",
       "text": [
        "\r",
        "Epoch 13/30:  65%|\u2588\u2588\u2588\u2588\u2588\u2588\u258d   | 184/285 [00:02<00:03, 33.04batches/s]"
       ]
      },
      {
       "output_type": "stream",
       "stream": "stderr",
       "text": [
        "\r",
        "Epoch 13/30:  69%|\u2588\u2588\u2588\u2588\u2588\u2588\u2589   | 198/285 [00:02<00:02, 42.70batches/s]"
       ]
      },
      {
       "output_type": "stream",
       "stream": "stderr",
       "text": [
        "\r",
        "Epoch 13/30:  74%|\u2588\u2588\u2588\u2588\u2588\u2588\u2588\u258d  | 212/285 [00:02<00:02, 35.26batches/s]"
       ]
      },
      {
       "output_type": "stream",
       "stream": "stderr",
       "text": [
        "\r",
        "Epoch 13/30:  81%|\u2588\u2588\u2588\u2588\u2588\u2588\u2588\u2588  | 231/285 [00:02<00:01, 46.56batches/s]"
       ]
      },
      {
       "output_type": "stream",
       "stream": "stderr",
       "text": [
        "\r",
        "Epoch 13/30:  88%|\u2588\u2588\u2588\u2588\u2588\u2588\u2588\u2588\u258a | 251/285 [00:03<00:00, 42.90batches/s]"
       ]
      },
      {
       "output_type": "stream",
       "stream": "stderr",
       "text": [
        "\r",
        "Epoch 13/30:  97%|\u2588\u2588\u2588\u2588\u2588\u2588\u2588\u2588\u2588\u258b| 276/285 [00:03<00:00, 57.01batches/s]"
       ]
      },
      {
       "output_type": "stream",
       "stream": "stderr",
       "text": [
        "\r",
        "Epoch 13/30: 100%|\u2588\u2588\u2588\u2588\u2588\u2588\u2588\u2588\u2588\u2588| 285/285 [00:03<00:00, 79.09batches/s]"
       ]
      },
      {
       "output_type": "stream",
       "stream": "stderr",
       "text": [
        "\n",
        "\r",
        "Epoch 14/30:   0%|          | 0/285 [00:00<?, ?batches/s]"
       ]
      },
      {
       "output_type": "stream",
       "stream": "stderr",
       "text": [
        "\r",
        "Epoch 14/30:   0%|          | 1/285 [00:00<02:33,  1.86batches/s]"
       ]
      },
      {
       "output_type": "stream",
       "stream": "stderr",
       "text": [
        "\r",
        "Epoch 14/30:   8%|\u258a         | 22/285 [00:00<01:39,  2.64batches/s]"
       ]
      },
      {
       "output_type": "stream",
       "stream": "stderr",
       "text": [
        "\r",
        "Epoch 14/30:  15%|\u2588\u258c        | 44/285 [00:00<01:04,  3.75batches/s]"
       ]
      },
      {
       "output_type": "stream",
       "stream": "stderr",
       "text": [
        "\r",
        "Epoch 14/30:  19%|\u2588\u2589        | 55/285 [00:01<00:45,  5.03batches/s]"
       ]
      },
      {
       "output_type": "stream",
       "stream": "stderr",
       "text": [
        "\r",
        "Epoch 14/30:  29%|\u2588\u2588\u2589       | 83/285 [00:01<00:28,  7.13batches/s]"
       ]
      },
      {
       "output_type": "stream",
       "stream": "stderr",
       "text": [
        "\r",
        "Epoch 14/30:  35%|\u2588\u2588\u2588\u258c      | 101/285 [00:01<00:19,  9.53batches/s]"
       ]
      },
      {
       "output_type": "stream",
       "stream": "stderr",
       "text": [
        "\r",
        "Epoch 14/30:  46%|\u2588\u2588\u2588\u2588\u258c     | 130/285 [00:01<00:11, 13.42batches/s]"
       ]
      },
      {
       "output_type": "stream",
       "stream": "stderr",
       "text": [
        "\r",
        "Epoch 14/30:  53%|\u2588\u2588\u2588\u2588\u2588\u258e    | 151/285 [00:02<00:07, 17.21batches/s]"
       ]
      },
      {
       "output_type": "stream",
       "stream": "stderr",
       "text": [
        "\r",
        "Epoch 14/30:  63%|\u2588\u2588\u2588\u2588\u2588\u2588\u258e   | 180/285 [00:02<00:04, 23.96batches/s]"
       ]
      },
      {
       "output_type": "stream",
       "stream": "stderr",
       "text": [
        "\r",
        "Epoch 14/30:  71%|\u2588\u2588\u2588\u2588\u2588\u2588\u2588   | 201/285 [00:02<00:02, 28.50batches/s]"
       ]
      },
      {
       "output_type": "stream",
       "stream": "stderr",
       "text": [
        "\r",
        "Epoch 14/30:  81%|\u2588\u2588\u2588\u2588\u2588\u2588\u2588\u2588  | 231/285 [00:02<00:01, 39.09batches/s]"
       ]
      },
      {
       "output_type": "stream",
       "stream": "stderr",
       "text": [
        "\r",
        "Epoch 14/30:  88%|\u2588\u2588\u2588\u2588\u2588\u2588\u2588\u2588\u258a | 251/285 [00:03<00:00, 41.20batches/s]"
       ]
      },
      {
       "output_type": "stream",
       "stream": "stderr",
       "text": [
        "\r",
        "Epoch 14/30:  98%|\u2588\u2588\u2588\u2588\u2588\u2588\u2588\u2588\u2588\u258a| 280/285 [00:03<00:00, 55.44batches/s]"
       ]
      },
      {
       "output_type": "stream",
       "stream": "stderr",
       "text": [
        "\r",
        "Epoch 14/30: 100%|\u2588\u2588\u2588\u2588\u2588\u2588\u2588\u2588\u2588\u2588| 285/285 [00:03<00:00, 84.19batches/s]"
       ]
      },
      {
       "output_type": "stream",
       "stream": "stderr",
       "text": [
        "\n",
        "\r",
        "Epoch 15/30:   0%|          | 0/285 [00:00<?, ?batches/s]"
       ]
      },
      {
       "output_type": "stream",
       "stream": "stderr",
       "text": [
        "\r",
        "Epoch 15/30:   0%|          | 1/285 [00:00<01:55,  2.45batches/s]"
       ]
      },
      {
       "output_type": "stream",
       "stream": "stderr",
       "text": [
        "\r",
        "Epoch 15/30:   8%|\u258a         | 24/285 [00:00<01:14,  3.49batches/s]"
       ]
      },
      {
       "output_type": "stream",
       "stream": "stderr",
       "text": [
        "\r",
        "Epoch 15/30:  18%|\u2588\u258a        | 51/285 [00:00<00:48,  4.87batches/s]"
       ]
      },
      {
       "output_type": "stream",
       "stream": "stderr",
       "text": [
        "\r",
        "Epoch 15/30:  27%|\u2588\u2588\u258b       | 78/285 [00:01<00:29,  6.90batches/s]"
       ]
      },
      {
       "output_type": "stream",
       "stream": "stderr",
       "text": [
        "\r",
        "Epoch 15/30:  35%|\u2588\u2588\u2588\u258c      | 101/285 [00:01<00:19,  9.33batches/s]"
       ]
      },
      {
       "output_type": "stream",
       "stream": "stderr",
       "text": [
        "\r",
        "Epoch 15/30:  46%|\u2588\u2588\u2588\u2588\u258c     | 130/285 [00:01<00:11, 13.14batches/s]"
       ]
      },
      {
       "output_type": "stream",
       "stream": "stderr",
       "text": [
        "\r",
        "Epoch 15/30:  53%|\u2588\u2588\u2588\u2588\u2588\u258e    | 151/285 [00:02<00:07, 16.82batches/s]"
       ]
      },
      {
       "output_type": "stream",
       "stream": "stderr",
       "text": [
        "\r",
        "Epoch 15/30:  64%|\u2588\u2588\u2588\u2588\u2588\u2588\u258e   | 181/285 [00:02<00:04, 23.46batches/s]"
       ]
      },
      {
       "output_type": "stream",
       "stream": "stderr",
       "text": [
        "\r",
        "Epoch 15/30:  71%|\u2588\u2588\u2588\u2588\u2588\u2588\u2588   | 201/285 [00:02<00:03, 27.51batches/s]"
       ]
      },
      {
       "output_type": "stream",
       "stream": "stderr",
       "text": [
        "\r",
        "Epoch 15/30:  81%|\u2588\u2588\u2588\u2588\u2588\u2588\u2588\u2588  | 231/285 [00:02<00:01, 37.81batches/s]"
       ]
      },
      {
       "output_type": "stream",
       "stream": "stderr",
       "text": [
        "\r",
        "Epoch 15/30:  88%|\u2588\u2588\u2588\u2588\u2588\u2588\u2588\u2588\u258a | 251/285 [00:03<00:00, 38.08batches/s]"
       ]
      },
      {
       "output_type": "stream",
       "stream": "stderr",
       "text": [
        "\r",
        "Epoch 15/30:  93%|\u2588\u2588\u2588\u2588\u2588\u2588\u2588\u2588\u2588\u258e| 266/285 [00:03<00:00, 48.35batches/s]"
       ]
      },
      {
       "output_type": "stream",
       "stream": "stderr",
       "text": [
        "\r",
        "Epoch 15/30:  98%|\u2588\u2588\u2588\u2588\u2588\u2588\u2588\u2588\u2588\u258a| 280/285 [00:03<00:00, 59.32batches/s]"
       ]
      },
      {
       "output_type": "stream",
       "stream": "stderr",
       "text": [
        "\r",
        "Epoch 15/30: 100%|\u2588\u2588\u2588\u2588\u2588\u2588\u2588\u2588\u2588\u2588| 285/285 [00:03<00:00, 82.96batches/s]"
       ]
      },
      {
       "output_type": "stream",
       "stream": "stderr",
       "text": [
        "\n",
        "\r",
        "Epoch 16/30:   0%|          | 0/285 [00:00<?, ?batches/s]"
       ]
      },
      {
       "output_type": "stream",
       "stream": "stderr",
       "text": [
        "\r",
        "Epoch 16/30:   0%|          | 1/285 [00:00<02:52,  1.65batches/s]"
       ]
      },
      {
       "output_type": "stream",
       "stream": "stderr",
       "text": [
        "\r",
        "Epoch 16/30:   9%|\u2589         | 27/285 [00:00<01:49,  2.35batches/s]"
       ]
      },
      {
       "output_type": "stream",
       "stream": "stderr",
       "text": [
        "\r",
        "Epoch 16/30:  18%|\u2588\u258a        | 51/285 [00:01<01:11,  3.28batches/s]"
       ]
      },
      {
       "output_type": "stream",
       "stream": "stderr",
       "text": [
        "\r",
        "Epoch 16/30:  27%|\u2588\u2588\u258b       | 76/285 [00:01<00:44,  4.67batches/s]"
       ]
      },
      {
       "output_type": "stream",
       "stream": "stderr",
       "text": [
        "\r",
        "Epoch 16/30:  35%|\u2588\u2588\u2588\u258c      | 101/285 [00:01<00:28,  6.45batches/s]"
       ]
      },
      {
       "output_type": "stream",
       "stream": "stderr",
       "text": [
        "\r",
        "Epoch 16/30:  46%|\u2588\u2588\u2588\u2588\u258c     | 130/285 [00:01<00:16,  9.12batches/s]"
       ]
      },
      {
       "output_type": "stream",
       "stream": "stderr",
       "text": [
        "\r",
        "Epoch 16/30:  53%|\u2588\u2588\u2588\u2588\u2588\u258e    | 151/285 [00:02<00:11, 11.83batches/s]"
       ]
      },
      {
       "output_type": "stream",
       "stream": "stderr",
       "text": [
        "\r",
        "Epoch 16/30:  61%|\u2588\u2588\u2588\u2588\u2588\u2588    | 173/285 [00:02<00:06, 16.50batches/s]"
       ]
      },
      {
       "output_type": "stream",
       "stream": "stderr",
       "text": [
        "\r",
        "Epoch 16/30:  66%|\u2588\u2588\u2588\u2588\u2588\u2588\u258b   | 189/285 [00:02<00:04, 22.28batches/s]"
       ]
      },
      {
       "output_type": "stream",
       "stream": "stderr",
       "text": [
        "\r",
        "Epoch 16/30:  72%|\u2588\u2588\u2588\u2588\u2588\u2588\u2588\u258f  | 204/285 [00:03<00:03, 21.77batches/s]"
       ]
      },
      {
       "output_type": "stream",
       "stream": "stderr",
       "text": [
        "\r",
        "Epoch 16/30:  78%|\u2588\u2588\u2588\u2588\u2588\u2588\u2588\u258a  | 223/285 [00:03<00:02, 29.64batches/s]"
       ]
      },
      {
       "output_type": "stream",
       "stream": "stderr",
       "text": [
        "\r",
        "Epoch 16/30:  83%|\u2588\u2588\u2588\u2588\u2588\u2588\u2588\u2588\u258e | 237/285 [00:03<00:01, 38.52batches/s]"
       ]
      },
      {
       "output_type": "stream",
       "stream": "stderr",
       "text": [
        "\r",
        "Epoch 16/30:  88%|\u2588\u2588\u2588\u2588\u2588\u2588\u2588\u2588\u258a | 251/285 [00:04<00:01, 32.53batches/s]"
       ]
      },
      {
       "output_type": "stream",
       "stream": "stderr",
       "text": [
        "\r",
        "Epoch 16/30:  96%|\u2588\u2588\u2588\u2588\u2588\u2588\u2588\u2588\u2588\u258c| 273/285 [00:04<00:00, 43.64batches/s]"
       ]
      },
      {
       "output_type": "stream",
       "stream": "stderr",
       "text": [
        "\r",
        "Epoch 16/30: 100%|\u2588\u2588\u2588\u2588\u2588\u2588\u2588\u2588\u2588\u2588| 285/285 [00:04<00:00, 65.41batches/s]"
       ]
      },
      {
       "output_type": "stream",
       "stream": "stderr",
       "text": [
        "\n",
        "\r",
        "Epoch 17/30:   0%|          | 0/285 [00:00<?, ?batches/s]"
       ]
      },
      {
       "output_type": "stream",
       "stream": "stderr",
       "text": [
        "\r",
        "Epoch 17/30:   0%|          | 1/285 [00:00<02:10,  2.18batches/s]"
       ]
      },
      {
       "output_type": "stream",
       "stream": "stderr",
       "text": [
        "\r",
        "Epoch 17/30:  10%|\u2589         | 28/285 [00:00<01:22,  3.10batches/s]"
       ]
      },
      {
       "output_type": "stream",
       "stream": "stderr",
       "text": [
        "\r",
        "Epoch 17/30:  18%|\u2588\u258a        | 51/285 [00:00<00:54,  4.32batches/s]"
       ]
      },
      {
       "output_type": "stream",
       "stream": "stderr",
       "text": [
        "\r",
        "Epoch 17/30:  26%|\u2588\u2588\u258b       | 75/285 [00:01<00:34,  6.13batches/s]"
       ]
      },
      {
       "output_type": "stream",
       "stream": "stderr",
       "text": [
        "\r",
        "Epoch 17/30:  35%|\u2588\u2588\u2588\u258c      | 101/285 [00:01<00:21,  8.39batches/s]"
       ]
      },
      {
       "output_type": "stream",
       "stream": "stderr",
       "text": [
        "\r",
        "Epoch 17/30:  46%|\u2588\u2588\u2588\u2588\u258c     | 131/285 [00:01<00:13, 11.85batches/s]"
       ]
      },
      {
       "output_type": "stream",
       "stream": "stderr",
       "text": [
        "\r",
        "Epoch 17/30:  53%|\u2588\u2588\u2588\u2588\u2588\u258e    | 151/285 [00:02<00:08, 15.33batches/s]"
       ]
      },
      {
       "output_type": "stream",
       "stream": "stderr",
       "text": [
        "\r",
        "Epoch 17/30:  61%|\u2588\u2588\u2588\u2588\u2588\u2588\u258f   | 175/285 [00:02<00:05, 21.29batches/s]"
       ]
      },
      {
       "output_type": "stream",
       "stream": "stderr",
       "text": [
        "\r",
        "Epoch 17/30:  71%|\u2588\u2588\u2588\u2588\u2588\u2588\u2588   | 201/285 [00:02<00:03, 26.49batches/s]"
       ]
      },
      {
       "output_type": "stream",
       "stream": "stderr",
       "text": [
        "\r",
        "Epoch 17/30:  80%|\u2588\u2588\u2588\u2588\u2588\u2588\u2588\u2588  | 229/285 [00:02<00:01, 36.36batches/s]"
       ]
      },
      {
       "output_type": "stream",
       "stream": "stderr",
       "text": [
        "\r",
        "Epoch 17/30:  88%|\u2588\u2588\u2588\u2588\u2588\u2588\u2588\u2588\u258a | 251/285 [00:03<00:00, 40.21batches/s]"
       ]
      },
      {
       "output_type": "stream",
       "stream": "stderr",
       "text": [
        "\r",
        "Epoch 17/30:  98%|\u2588\u2588\u2588\u2588\u2588\u2588\u2588\u2588\u2588\u258a| 280/285 [00:03<00:00, 54.17batches/s]"
       ]
      },
      {
       "output_type": "stream",
       "stream": "stderr",
       "text": [
        "\r",
        "Epoch 17/30: 100%|\u2588\u2588\u2588\u2588\u2588\u2588\u2588\u2588\u2588\u2588| 285/285 [00:03<00:00, 89.06batches/s]"
       ]
      },
      {
       "output_type": "stream",
       "stream": "stderr",
       "text": [
        "\n",
        "\r",
        "Epoch 18/30:   0%|          | 0/285 [00:00<?, ?batches/s]"
       ]
      },
      {
       "output_type": "stream",
       "stream": "stderr",
       "text": [
        "\r",
        "Epoch 18/30:   0%|          | 1/285 [00:00<02:08,  2.22batches/s]"
       ]
      },
      {
       "output_type": "stream",
       "stream": "stderr",
       "text": [
        "\r",
        "Epoch 18/30:  11%|\u2588         | 30/285 [00:00<01:20,  3.15batches/s]"
       ]
      },
      {
       "output_type": "stream",
       "stream": "stderr",
       "text": [
        "\r",
        "Epoch 18/30:  18%|\u2588\u258a        | 51/285 [00:00<00:53,  4.39batches/s]"
       ]
      },
      {
       "output_type": "stream",
       "stream": "stderr",
       "text": [
        "\r",
        "Epoch 18/30:  27%|\u2588\u2588\u258b       | 76/285 [00:01<00:33,  6.22batches/s]"
       ]
      },
      {
       "output_type": "stream",
       "stream": "stderr",
       "text": [
        "\r",
        "Epoch 18/30:  35%|\u2588\u2588\u2588\u258c      | 101/285 [00:01<00:21,  8.51batches/s]"
       ]
      },
      {
       "output_type": "stream",
       "stream": "stderr",
       "text": [
        "\r",
        "Epoch 18/30:  44%|\u2588\u2588\u2588\u2588\u258d     | 125/285 [00:01<00:13, 11.97batches/s]"
       ]
      },
      {
       "output_type": "stream",
       "stream": "stderr",
       "text": [
        "\r",
        "Epoch 18/30:  53%|\u2588\u2588\u2588\u2588\u2588\u258e    | 151/285 [00:02<00:08, 15.67batches/s]"
       ]
      },
      {
       "output_type": "stream",
       "stream": "stderr",
       "text": [
        "\r",
        "Epoch 18/30:  61%|\u2588\u2588\u2588\u2588\u2588\u2588\u258f   | 175/285 [00:02<00:05, 21.76batches/s]"
       ]
      },
      {
       "output_type": "stream",
       "stream": "stderr",
       "text": [
        "\r",
        "Epoch 18/30:  71%|\u2588\u2588\u2588\u2588\u2588\u2588\u2588   | 201/285 [00:02<00:03, 27.02batches/s]"
       ]
      },
      {
       "output_type": "stream",
       "stream": "stderr",
       "text": [
        "\r",
        "Epoch 18/30:  79%|\u2588\u2588\u2588\u2588\u2588\u2588\u2588\u258a  | 224/285 [00:02<00:01, 36.71batches/s]"
       ]
      },
      {
       "output_type": "stream",
       "stream": "stderr",
       "text": [
        "\r",
        "Epoch 18/30:  88%|\u2588\u2588\u2588\u2588\u2588\u2588\u2588\u2588\u258a | 251/285 [00:03<00:00, 42.26batches/s]"
       ]
      },
      {
       "output_type": "stream",
       "stream": "stderr",
       "text": [
        "\r",
        "Epoch 18/30:  98%|\u2588\u2588\u2588\u2588\u2588\u2588\u2588\u2588\u2588\u258a| 280/285 [00:03<00:00, 56.75batches/s]"
       ]
      },
      {
       "output_type": "stream",
       "stream": "stderr",
       "text": [
        "\r",
        "Epoch 18/30: 100%|\u2588\u2588\u2588\u2588\u2588\u2588\u2588\u2588\u2588\u2588| 285/285 [00:03<00:00, 88.61batches/s]"
       ]
      },
      {
       "output_type": "stream",
       "stream": "stderr",
       "text": [
        "\n",
        "\r",
        "Epoch 19/30:   0%|          | 0/285 [00:00<?, ?batches/s]"
       ]
      },
      {
       "output_type": "stream",
       "stream": "stderr",
       "text": [
        "\r",
        "Epoch 19/30:   0%|          | 1/285 [00:00<01:44,  2.72batches/s]"
       ]
      },
      {
       "output_type": "stream",
       "stream": "stderr",
       "text": [
        "\r",
        "Epoch 19/30:  11%|\u2588         | 30/285 [00:00<01:05,  3.87batches/s]"
       ]
      },
      {
       "output_type": "stream",
       "stream": "stderr",
       "text": [
        "\r",
        "Epoch 19/30:  18%|\u2588\u258a        | 51/285 [00:00<00:44,  5.31batches/s]"
       ]
      },
      {
       "output_type": "stream",
       "stream": "stderr",
       "text": [
        "\r",
        "Epoch 19/30:  26%|\u2588\u2588\u258b       | 75/285 [00:01<00:27,  7.52batches/s]"
       ]
      },
      {
       "output_type": "stream",
       "stream": "stderr",
       "text": [
        "\r",
        "Epoch 19/30:  35%|\u2588\u2588\u2588\u258c      | 101/285 [00:01<00:18, 10.20batches/s]"
       ]
      },
      {
       "output_type": "stream",
       "stream": "stderr",
       "text": [
        "\r",
        "Epoch 19/30:  45%|\u2588\u2588\u2588\u2588\u258d     | 128/285 [00:01<00:10, 14.34batches/s]"
       ]
      },
      {
       "output_type": "stream",
       "stream": "stderr",
       "text": [
        "\r",
        "Epoch 19/30:  53%|\u2588\u2588\u2588\u2588\u2588\u258e    | 151/285 [00:02<00:07, 18.40batches/s]"
       ]
      },
      {
       "output_type": "stream",
       "stream": "stderr",
       "text": [
        "\r",
        "Epoch 19/30:  63%|\u2588\u2588\u2588\u2588\u2588\u2588\u258e   | 180/285 [00:02<00:04, 25.58batches/s]"
       ]
      },
      {
       "output_type": "stream",
       "stream": "stderr",
       "text": [
        "\r",
        "Epoch 19/30:  71%|\u2588\u2588\u2588\u2588\u2588\u2588\u2588   | 201/285 [00:02<00:02, 30.15batches/s]"
       ]
      },
      {
       "output_type": "stream",
       "stream": "stderr",
       "text": [
        "\r",
        "Epoch 19/30:  81%|\u2588\u2588\u2588\u2588\u2588\u2588\u2588\u2588  | 230/285 [00:02<00:01, 41.20batches/s]"
       ]
      },
      {
       "output_type": "stream",
       "stream": "stderr",
       "text": [
        "\r",
        "Epoch 19/30:  88%|\u2588\u2588\u2588\u2588\u2588\u2588\u2588\u2588\u258a | 251/285 [00:03<00:00, 43.84batches/s]"
       ]
      },
      {
       "output_type": "stream",
       "stream": "stderr",
       "text": [
        "\r",
        "Epoch 19/30:  96%|\u2588\u2588\u2588\u2588\u2588\u2588\u2588\u2588\u2588\u258b| 275/285 [00:03<00:00, 58.06batches/s]"
       ]
      },
      {
       "output_type": "stream",
       "stream": "stderr",
       "text": [
        "\r",
        "Epoch 19/30: 100%|\u2588\u2588\u2588\u2588\u2588\u2588\u2588\u2588\u2588\u2588| 285/285 [00:03<00:00, 88.80batches/s]"
       ]
      },
      {
       "output_type": "stream",
       "stream": "stderr",
       "text": [
        "\n",
        "\r",
        "Epoch 20/30:   0%|          | 0/285 [00:00<?, ?batches/s]"
       ]
      },
      {
       "output_type": "stream",
       "stream": "stderr",
       "text": [
        "\r",
        "Epoch 20/30:   0%|          | 1/285 [00:00<01:44,  2.71batches/s]"
       ]
      },
      {
       "output_type": "stream",
       "stream": "stderr",
       "text": [
        "\r",
        "Epoch 20/30:   9%|\u2589         | 27/285 [00:00<01:07,  3.85batches/s]"
       ]
      },
      {
       "output_type": "stream",
       "stream": "stderr",
       "text": [
        "\r",
        "Epoch 20/30:  18%|\u2588\u258a        | 51/285 [00:00<00:43,  5.34batches/s]"
       ]
      },
      {
       "output_type": "stream",
       "stream": "stderr",
       "text": [
        "\r",
        "Epoch 20/30:  23%|\u2588\u2588\u258e       | 65/285 [00:00<00:29,  7.51batches/s]"
       ]
      },
      {
       "output_type": "stream",
       "stream": "stderr",
       "text": [
        "\r",
        "Epoch 20/30:  28%|\u2588\u2588\u258a       | 79/285 [00:01<00:19, 10.48batches/s]"
       ]
      },
      {
       "output_type": "stream",
       "stream": "stderr",
       "text": [
        "\r",
        "Epoch 20/30:  34%|\u2588\u2588\u2588\u258e      | 96/285 [00:01<00:12, 14.54batches/s]"
       ]
      },
      {
       "output_type": "stream",
       "stream": "stderr",
       "text": [
        "\r",
        "Epoch 20/30:  38%|\u2588\u2588\u2588\u258a      | 108/285 [00:01<00:10, 17.14batches/s]"
       ]
      },
      {
       "output_type": "stream",
       "stream": "stderr",
       "text": [
        "\r",
        "Epoch 20/30:  48%|\u2588\u2588\u2588\u2588\u258a     | 136/285 [00:01<00:06, 23.85batches/s]"
       ]
      },
      {
       "output_type": "stream",
       "stream": "stderr",
       "text": [
        "\r",
        "Epoch 20/30:  53%|\u2588\u2588\u2588\u2588\u2588\u258e    | 151/285 [00:02<00:05, 26.71batches/s]"
       ]
      },
      {
       "output_type": "stream",
       "stream": "stderr",
       "text": [
        "\r",
        "Epoch 20/30:  64%|\u2588\u2588\u2588\u2588\u2588\u2588\u258e   | 181/285 [00:02<00:02, 36.75batches/s]"
       ]
      },
      {
       "output_type": "stream",
       "stream": "stderr",
       "text": [
        "\r",
        "Epoch 20/30:  71%|\u2588\u2588\u2588\u2588\u2588\u2588\u2588   | 201/285 [00:02<00:02, 39.70batches/s]"
       ]
      },
      {
       "output_type": "stream",
       "stream": "stderr",
       "text": [
        "\r",
        "Epoch 20/30:  80%|\u2588\u2588\u2588\u2588\u2588\u2588\u2588\u2589  | 227/285 [00:02<00:01, 53.17batches/s]"
       ]
      },
      {
       "output_type": "stream",
       "stream": "stderr",
       "text": [
        "\r",
        "Epoch 20/30:  88%|\u2588\u2588\u2588\u2588\u2588\u2588\u2588\u2588\u258a | 251/285 [00:03<00:00, 54.35batches/s]"
       ]
      },
      {
       "output_type": "stream",
       "stream": "stderr",
       "text": [
        "\r",
        "Epoch 20/30:  99%|\u2588\u2588\u2588\u2588\u2588\u2588\u2588\u2588\u2588\u258a| 281/285 [00:03<00:00, 72.01batches/s]"
       ]
      },
      {
       "output_type": "stream",
       "stream": "stderr",
       "text": [
        "\r",
        "Epoch 20/30: 100%|\u2588\u2588\u2588\u2588\u2588\u2588\u2588\u2588\u2588\u2588| 285/285 [00:03<00:00, 86.67batches/s]"
       ]
      },
      {
       "output_type": "stream",
       "stream": "stderr",
       "text": [
        "\n",
        "\r",
        "Epoch 21/30:   0%|          | 0/285 [00:00<?, ?batches/s]"
       ]
      },
      {
       "output_type": "stream",
       "stream": "stderr",
       "text": [
        "\r",
        "Epoch 21/30:   0%|          | 1/285 [00:00<01:44,  2.73batches/s]"
       ]
      },
      {
       "output_type": "stream",
       "stream": "stderr",
       "text": [
        "\r",
        "Epoch 21/30:  11%|\u2588         | 30/285 [00:00<01:05,  3.88batches/s]"
       ]
      },
      {
       "output_type": "stream",
       "stream": "stderr",
       "text": [
        "\r",
        "Epoch 21/30:  18%|\u2588\u258a        | 51/285 [00:00<00:43,  5.37batches/s]"
       ]
      },
      {
       "output_type": "stream",
       "stream": "stderr",
       "text": [
        "\r",
        "Epoch 21/30:  28%|\u2588\u2588\u258a       | 80/285 [00:00<00:26,  7.61batches/s]"
       ]
      },
      {
       "output_type": "stream",
       "stream": "stderr",
       "text": [
        "\r",
        "Epoch 21/30:  35%|\u2588\u2588\u2588\u258c      | 101/285 [00:01<00:18, 10.19batches/s]"
       ]
      },
      {
       "output_type": "stream",
       "stream": "stderr",
       "text": [
        "\r",
        "Epoch 21/30:  43%|\u2588\u2588\u2588\u2588\u258e     | 123/285 [00:01<00:11, 14.27batches/s]"
       ]
      },
      {
       "output_type": "stream",
       "stream": "stderr",
       "text": [
        "\r",
        "Epoch 21/30:  53%|\u2588\u2588\u2588\u2588\u2588\u258e    | 150/285 [00:01<00:06, 19.93batches/s]"
       ]
      },
      {
       "output_type": "stream",
       "stream": "stderr",
       "text": [
        "\r",
        "Epoch 21/30:  59%|\u2588\u2588\u2588\u2588\u2588\u2589    | 168/285 [00:02<00:04, 23.67batches/s]"
       ]
      },
      {
       "output_type": "stream",
       "stream": "stderr",
       "text": [
        "\r",
        "Epoch 21/30:  69%|\u2588\u2588\u2588\u2588\u2588\u2588\u2589   | 197/285 [00:02<00:02, 32.66batches/s]"
       ]
      },
      {
       "output_type": "stream",
       "stream": "stderr",
       "text": [
        "\r",
        "Epoch 21/30:  76%|\u2588\u2588\u2588\u2588\u2588\u2588\u2588\u258c  | 216/285 [00:02<00:01, 35.84batches/s]"
       ]
      },
      {
       "output_type": "stream",
       "stream": "stderr",
       "text": [
        "\r",
        "Epoch 21/30:  86%|\u2588\u2588\u2588\u2588\u2588\u2588\u2588\u2588\u258c | 244/285 [00:02<00:00, 48.52batches/s]"
       ]
      },
      {
       "output_type": "stream",
       "stream": "stderr",
       "text": [
        "\r",
        "Epoch 21/30:  92%|\u2588\u2588\u2588\u2588\u2588\u2588\u2588\u2588\u2588\u258f| 263/285 [00:03<00:00, 42.65batches/s]"
       ]
      },
      {
       "output_type": "stream",
       "stream": "stderr",
       "text": [
        "\r",
        "Epoch 21/30:  97%|\u2588\u2588\u2588\u2588\u2588\u2588\u2588\u2588\u2588\u258b| 277/285 [00:03<00:00, 53.74batches/s]"
       ]
      },
      {
       "output_type": "stream",
       "stream": "stderr",
       "text": [
        "\r",
        "Epoch 21/30: 100%|\u2588\u2588\u2588\u2588\u2588\u2588\u2588\u2588\u2588\u2588| 285/285 [00:03<00:00, 84.49batches/s]"
       ]
      },
      {
       "output_type": "stream",
       "stream": "stderr",
       "text": [
        "\n",
        "\r",
        "Epoch 22/30:   0%|          | 0/285 [00:00<?, ?batches/s]"
       ]
      },
      {
       "output_type": "stream",
       "stream": "stderr",
       "text": [
        "\r",
        "Epoch 22/30:   0%|          | 1/285 [00:00<03:15,  1.45batches/s]"
       ]
      },
      {
       "output_type": "stream",
       "stream": "stderr",
       "text": [
        "\r",
        "Epoch 22/30:   7%|\u258b         | 20/285 [00:00<02:08,  2.06batches/s]"
       ]
      },
      {
       "output_type": "stream",
       "stream": "stderr",
       "text": [
        "\r",
        "Epoch 22/30:  12%|\u2588\u258f        | 33/285 [00:00<01:26,  2.93batches/s]"
       ]
      },
      {
       "output_type": "stream",
       "stream": "stderr",
       "text": [
        "\r",
        "Epoch 22/30:  15%|\u2588\u258c        | 44/285 [00:01<00:58,  4.13batches/s]"
       ]
      },
      {
       "output_type": "stream",
       "stream": "stderr",
       "text": [
        "\r",
        "Epoch 22/30:  19%|\u2588\u258a        | 53/285 [00:01<00:42,  5.47batches/s]"
       ]
      },
      {
       "output_type": "stream",
       "stream": "stderr",
       "text": [
        "\r",
        "Epoch 22/30:  26%|\u2588\u2588\u258c       | 73/285 [00:01<00:27,  7.71batches/s]"
       ]
      },
      {
       "output_type": "stream",
       "stream": "stderr",
       "text": [
        "\r",
        "Epoch 22/30:  30%|\u2588\u2588\u2589       | 85/285 [00:01<00:18, 10.68batches/s]"
       ]
      },
      {
       "output_type": "stream",
       "stream": "stderr",
       "text": [
        "\r",
        "Epoch 22/30:  35%|\u2588\u2588\u2588\u258c      | 101/285 [00:02<00:14, 12.80batches/s]"
       ]
      },
      {
       "output_type": "stream",
       "stream": "stderr",
       "text": [
        "\r",
        "Epoch 22/30:  44%|\u2588\u2588\u2588\u2588\u258d     | 125/285 [00:02<00:08, 17.88batches/s]"
       ]
      },
      {
       "output_type": "stream",
       "stream": "stderr",
       "text": [
        "\r",
        "Epoch 22/30:  52%|\u2588\u2588\u2588\u2588\u2588\u258f    | 148/285 [00:02<00:05, 24.70batches/s]"
       ]
      },
      {
       "output_type": "stream",
       "stream": "stderr",
       "text": [
        "\r",
        "Epoch 22/30:  58%|\u2588\u2588\u2588\u2588\u2588\u258a    | 164/285 [00:03<00:04, 25.70batches/s]"
       ]
      },
      {
       "output_type": "stream",
       "stream": "stderr",
       "text": [
        "\r",
        "Epoch 22/30:  66%|\u2588\u2588\u2588\u2588\u2588\u2588\u258c   | 188/285 [00:03<00:02, 34.96batches/s]"
       ]
      },
      {
       "output_type": "stream",
       "stream": "stderr",
       "text": [
        "\r",
        "Epoch 22/30:  71%|\u2588\u2588\u2588\u2588\u2588\u2588\u2588   | 203/285 [00:03<00:02, 33.07batches/s]"
       ]
      },
      {
       "output_type": "stream",
       "stream": "stderr",
       "text": [
        "\r",
        "Epoch 22/30:  80%|\u2588\u2588\u2588\u2588\u2588\u2588\u2588\u2588  | 229/285 [00:03<00:01, 44.70batches/s]"
       ]
      },
      {
       "output_type": "stream",
       "stream": "stderr",
       "text": [
        "\r",
        "Epoch 22/30:  86%|\u2588\u2588\u2588\u2588\u2588\u2588\u2588\u2588\u258c | 245/285 [00:03<00:00, 55.27batches/s]"
       ]
      },
      {
       "output_type": "stream",
       "stream": "stderr",
       "text": [
        "\r",
        "Epoch 22/30:  91%|\u2588\u2588\u2588\u2588\u2588\u2588\u2588\u2588\u2588 | 260/285 [00:04<00:00, 47.83batches/s]"
       ]
      },
      {
       "output_type": "stream",
       "stream": "stderr",
       "text": [
        "\r",
        "Epoch 22/30:  96%|\u2588\u2588\u2588\u2588\u2588\u2588\u2588\u2588\u2588\u258b| 275/285 [00:04<00:00, 59.80batches/s]"
       ]
      },
      {
       "output_type": "stream",
       "stream": "stderr",
       "text": [
        "\r",
        "Epoch 22/30: 100%|\u2588\u2588\u2588\u2588\u2588\u2588\u2588\u2588\u2588\u2588| 285/285 [00:04<00:00, 62.53batches/s]"
       ]
      },
      {
       "output_type": "stream",
       "stream": "stderr",
       "text": [
        "\n",
        "\r",
        "Epoch 23/30:   0%|          | 0/285 [00:00<?, ?batches/s]"
       ]
      },
      {
       "output_type": "stream",
       "stream": "stderr",
       "text": [
        "\r",
        "Epoch 23/30:   0%|          | 1/285 [00:00<02:30,  1.88batches/s]"
       ]
      },
      {
       "output_type": "stream",
       "stream": "stderr",
       "text": [
        "\r",
        "Epoch 23/30:   8%|\u258a         | 24/285 [00:00<01:37,  2.68batches/s]"
       ]
      },
      {
       "output_type": "stream",
       "stream": "stderr",
       "text": [
        "\r",
        "Epoch 23/30:  16%|\u2588\u258c        | 46/285 [00:00<01:02,  3.80batches/s]"
       ]
      },
      {
       "output_type": "stream",
       "stream": "stderr",
       "text": [
        "\r",
        "Epoch 23/30:  20%|\u2588\u2588        | 58/285 [00:01<00:44,  5.12batches/s]"
       ]
      },
      {
       "output_type": "stream",
       "stream": "stderr",
       "text": [
        "\r",
        "Epoch 23/30:  27%|\u2588\u2588\u258b       | 77/285 [00:01<00:28,  7.22batches/s]"
       ]
      },
      {
       "output_type": "stream",
       "stream": "stderr",
       "text": [
        "\r",
        "Epoch 23/30:  31%|\u2588\u2588\u2588       | 89/285 [00:01<00:19,  9.99batches/s]"
       ]
      },
      {
       "output_type": "stream",
       "stream": "stderr",
       "text": [
        "\r",
        "Epoch 23/30:  35%|\u2588\u2588\u2588\u258c      | 101/285 [00:02<00:15, 11.83batches/s]"
       ]
      },
      {
       "output_type": "stream",
       "stream": "stderr",
       "text": [
        "\r",
        "Epoch 23/30:  43%|\u2588\u2588\u2588\u2588\u258e     | 123/285 [00:02<00:09, 16.50batches/s]"
       ]
      },
      {
       "output_type": "stream",
       "stream": "stderr",
       "text": [
        "\r",
        "Epoch 23/30:  48%|\u2588\u2588\u2588\u2588\u258a     | 136/285 [00:02<00:06, 22.22batches/s]"
       ]
      },
      {
       "output_type": "stream",
       "stream": "stderr",
       "text": [
        "\r",
        "Epoch 23/30:  53%|\u2588\u2588\u2588\u2588\u2588\u258e    | 151/285 [00:02<00:05, 23.68batches/s]"
       ]
      },
      {
       "output_type": "stream",
       "stream": "stderr",
       "text": [
        "\r",
        "Epoch 23/30:  58%|\u2588\u2588\u2588\u2588\u2588\u258a    | 164/285 [00:02<00:03, 31.19batches/s]"
       ]
      },
      {
       "output_type": "stream",
       "stream": "stderr",
       "text": [
        "\r",
        "Epoch 23/30:  62%|\u2588\u2588\u2588\u2588\u2588\u2588\u258f   | 178/285 [00:02<00:02, 40.61batches/s]"
       ]
      },
      {
       "output_type": "stream",
       "stream": "stderr",
       "text": [
        "\r",
        "Epoch 23/30:  71%|\u2588\u2588\u2588\u2588\u2588\u2588\u2588   | 201/285 [00:03<00:01, 44.11batches/s]"
       ]
      },
      {
       "output_type": "stream",
       "stream": "stderr",
       "text": [
        "\r",
        "Epoch 23/30:  80%|\u2588\u2588\u2588\u2588\u2588\u2588\u2588\u2588  | 229/285 [00:03<00:00, 59.02batches/s]"
       ]
      },
      {
       "output_type": "stream",
       "stream": "stderr",
       "text": [
        "\r",
        "Epoch 23/30:  88%|\u2588\u2588\u2588\u2588\u2588\u2588\u2588\u2588\u258a | 251/285 [00:03<00:00, 56.91batches/s]"
       ]
      },
      {
       "output_type": "stream",
       "stream": "stderr",
       "text": [
        "\r",
        "Epoch 23/30:  99%|\u2588\u2588\u2588\u2588\u2588\u2588\u2588\u2588\u2588\u258a| 281/285 [00:04<00:00, 75.09batches/s]"
       ]
      },
      {
       "output_type": "stream",
       "stream": "stderr",
       "text": [
        "\r",
        "Epoch 23/30: 100%|\u2588\u2588\u2588\u2588\u2588\u2588\u2588\u2588\u2588\u2588| 285/285 [00:04<00:00, 70.60batches/s]"
       ]
      },
      {
       "output_type": "stream",
       "stream": "stderr",
       "text": [
        "\n",
        "\r",
        "Epoch 24/30:   0%|          | 0/285 [00:00<?, ?batches/s]"
       ]
      },
      {
       "output_type": "stream",
       "stream": "stderr",
       "text": [
        "\r",
        "Epoch 24/30:   0%|          | 1/285 [00:00<01:43,  2.75batches/s]"
       ]
      },
      {
       "output_type": "stream",
       "stream": "stderr",
       "text": [
        "\r",
        "Epoch 24/30:  11%|\u2588         | 30/285 [00:00<01:05,  3.92batches/s]"
       ]
      },
      {
       "output_type": "stream",
       "stream": "stderr",
       "text": [
        "\r",
        "Epoch 24/30:  18%|\u2588\u258a        | 51/285 [00:00<00:43,  5.42batches/s]"
       ]
      },
      {
       "output_type": "stream",
       "stream": "stderr",
       "text": [
        "\r",
        "Epoch 24/30:  28%|\u2588\u2588\u258a       | 81/285 [00:00<00:26,  7.68batches/s]"
       ]
      },
      {
       "output_type": "stream",
       "stream": "stderr",
       "text": [
        "\r",
        "Epoch 24/30:  35%|\u2588\u2588\u2588\u258c      | 101/285 [00:01<00:17, 10.27batches/s]"
       ]
      },
      {
       "output_type": "stream",
       "stream": "stderr",
       "text": [
        "\r",
        "Epoch 24/30:  46%|\u2588\u2588\u2588\u2588\u258c     | 131/285 [00:01<00:10, 14.46batches/s]"
       ]
      },
      {
       "output_type": "stream",
       "stream": "stderr",
       "text": [
        "\r",
        "Epoch 24/30:  53%|\u2588\u2588\u2588\u2588\u2588\u258e    | 151/285 [00:01<00:07, 18.34batches/s]"
       ]
      },
      {
       "output_type": "stream",
       "stream": "stderr",
       "text": [
        "\r",
        "Epoch 24/30:  63%|\u2588\u2588\u2588\u2588\u2588\u2588\u258e   | 180/285 [00:02<00:04, 25.49batches/s]"
       ]
      },
      {
       "output_type": "stream",
       "stream": "stderr",
       "text": [
        "\r",
        "Epoch 24/30:  71%|\u2588\u2588\u2588\u2588\u2588\u2588\u2588   | 201/285 [00:02<00:02, 28.12batches/s]"
       ]
      },
      {
       "output_type": "stream",
       "stream": "stderr",
       "text": [
        "\r",
        "Epoch 24/30:  75%|\u2588\u2588\u2588\u2588\u2588\u2588\u2588\u258c  | 215/285 [00:02<00:01, 36.25batches/s]"
       ]
      },
      {
       "output_type": "stream",
       "stream": "stderr",
       "text": [
        "\r",
        "Epoch 24/30:  81%|\u2588\u2588\u2588\u2588\u2588\u2588\u2588\u2588  | 230/285 [00:02<00:01, 46.91batches/s]"
       ]
      },
      {
       "output_type": "stream",
       "stream": "stderr",
       "text": [
        "\r",
        "Epoch 24/30:  88%|\u2588\u2588\u2588\u2588\u2588\u2588\u2588\u2588\u258a | 251/285 [00:03<00:00, 48.54batches/s]"
       ]
      },
      {
       "output_type": "stream",
       "stream": "stderr",
       "text": [
        "\r",
        "Epoch 24/30:  99%|\u2588\u2588\u2588\u2588\u2588\u2588\u2588\u2588\u2588\u2589| 282/285 [00:03<00:00, 64.89batches/s]"
       ]
      },
      {
       "output_type": "stream",
       "stream": "stderr",
       "text": [
        "\r",
        "Epoch 24/30: 100%|\u2588\u2588\u2588\u2588\u2588\u2588\u2588\u2588\u2588\u2588| 285/285 [00:03<00:00, 86.24batches/s]"
       ]
      },
      {
       "output_type": "stream",
       "stream": "stderr",
       "text": [
        "\n",
        "\r",
        "Epoch 25/30:   0%|          | 0/285 [00:00<?, ?batches/s]"
       ]
      },
      {
       "output_type": "stream",
       "stream": "stderr",
       "text": [
        "\r",
        "Epoch 25/30:   0%|          | 1/285 [00:00<01:43,  2.75batches/s]"
       ]
      },
      {
       "output_type": "stream",
       "stream": "stderr",
       "text": [
        "\r",
        "Epoch 25/30:  11%|\u2588         | 32/285 [00:00<01:04,  3.91batches/s]"
       ]
      },
      {
       "output_type": "stream",
       "stream": "stderr",
       "text": [
        "\r",
        "Epoch 25/30:  18%|\u2588\u258a        | 51/285 [00:00<00:43,  5.37batches/s]"
       ]
      },
      {
       "output_type": "stream",
       "stream": "stderr",
       "text": [
        "\r",
        "Epoch 25/30:  27%|\u2588\u2588\u258b       | 78/285 [00:01<00:27,  7.60batches/s]"
       ]
      },
      {
       "output_type": "stream",
       "stream": "stderr",
       "text": [
        "\r",
        "Epoch 25/30:  35%|\u2588\u2588\u2588\u258c      | 100/285 [00:01<00:17, 10.69batches/s]"
       ]
      },
      {
       "output_type": "stream",
       "stream": "stderr",
       "text": [
        "\r",
        "Epoch 25/30:  41%|\u2588\u2588\u2588\u2588      | 116/285 [00:01<00:12, 13.26batches/s]"
       ]
      },
      {
       "output_type": "stream",
       "stream": "stderr",
       "text": [
        "\r",
        "Epoch 25/30:  49%|\u2588\u2588\u2588\u2588\u2589     | 139/285 [00:01<00:07, 18.48batches/s]"
       ]
      },
      {
       "output_type": "stream",
       "stream": "stderr",
       "text": [
        "\r",
        "Epoch 25/30:  54%|\u2588\u2588\u2588\u2588\u2588\u258d    | 155/285 [00:02<00:06, 21.31batches/s]"
       ]
      },
      {
       "output_type": "stream",
       "stream": "stderr",
       "text": [
        "\r",
        "Epoch 25/30:  63%|\u2588\u2588\u2588\u2588\u2588\u2588\u258e   | 179/285 [00:02<00:03, 29.30batches/s]"
       ]
      },
      {
       "output_type": "stream",
       "stream": "stderr",
       "text": [
        "\r",
        "Epoch 25/30:  70%|\u2588\u2588\u2588\u2588\u2588\u2588\u2588   | 200/285 [00:02<00:02, 39.47batches/s]"
       ]
      },
      {
       "output_type": "stream",
       "stream": "stderr",
       "text": [
        "\r",
        "Epoch 25/30:  76%|\u2588\u2588\u2588\u2588\u2588\u2588\u2588\u258c  | 217/285 [00:02<00:01, 37.97batches/s]"
       ]
      },
      {
       "output_type": "stream",
       "stream": "stderr",
       "text": [
        "\r",
        "Epoch 25/30:  86%|\u2588\u2588\u2588\u2588\u2588\u2588\u2588\u2588\u258b | 246/285 [00:03<00:00, 51.32batches/s]"
       ]
      },
      {
       "output_type": "stream",
       "stream": "stderr",
       "text": [
        "\r",
        "Epoch 25/30:  93%|\u2588\u2588\u2588\u2588\u2588\u2588\u2588\u2588\u2588\u258e| 264/285 [00:03<00:00, 49.18batches/s]"
       ]
      },
      {
       "output_type": "stream",
       "stream": "stderr",
       "text": [
        "\r",
        "Epoch 25/30: 100%|\u2588\u2588\u2588\u2588\u2588\u2588\u2588\u2588\u2588\u2588| 285/285 [00:03<00:00, 81.04batches/s]"
       ]
      },
      {
       "output_type": "stream",
       "stream": "stderr",
       "text": [
        "\n",
        "\r",
        "Epoch 26/30:   0%|          | 0/285 [00:00<?, ?batches/s]"
       ]
      },
      {
       "output_type": "stream",
       "stream": "stderr",
       "text": [
        "\r",
        "Epoch 26/30:   0%|          | 1/285 [00:00<01:46,  2.67batches/s]"
       ]
      },
      {
       "output_type": "stream",
       "stream": "stderr",
       "text": [
        "\r",
        "Epoch 26/30:  11%|\u2588         | 31/285 [00:00<01:06,  3.80batches/s]"
       ]
      },
      {
       "output_type": "stream",
       "stream": "stderr",
       "text": [
        "\r",
        "Epoch 26/30:  18%|\u2588\u258a        | 51/285 [00:00<00:44,  5.26batches/s]"
       ]
      },
      {
       "output_type": "stream",
       "stream": "stderr",
       "text": [
        "\r",
        "Epoch 26/30:  29%|\u2588\u2588\u2589       | 82/285 [00:00<00:27,  7.45batches/s]"
       ]
      },
      {
       "output_type": "stream",
       "stream": "stderr",
       "text": [
        "\r",
        "Epoch 26/30:  35%|\u2588\u2588\u2588\u258c      | 101/285 [00:01<00:18,  9.99batches/s]"
       ]
      },
      {
       "output_type": "stream",
       "stream": "stderr",
       "text": [
        "\r",
        "Epoch 26/30:  46%|\u2588\u2588\u2588\u2588\u258c     | 131/285 [00:01<00:10, 14.07batches/s]"
       ]
      },
      {
       "output_type": "stream",
       "stream": "stderr",
       "text": [
        "\r",
        "Epoch 26/30:  53%|\u2588\u2588\u2588\u2588\u2588\u258e    | 151/285 [00:02<00:07, 17.20batches/s]"
       ]
      },
      {
       "output_type": "stream",
       "stream": "stderr",
       "text": [
        "\r",
        "Epoch 26/30:  64%|\u2588\u2588\u2588\u2588\u2588\u2588\u258d   | 182/285 [00:02<00:04, 23.99batches/s]"
       ]
      },
      {
       "output_type": "stream",
       "stream": "stderr",
       "text": [
        "\r",
        "Epoch 26/30:  71%|\u2588\u2588\u2588\u2588\u2588\u2588\u2588   | 201/285 [00:02<00:02, 28.31batches/s]"
       ]
      },
      {
       "output_type": "stream",
       "stream": "stderr",
       "text": [
        "\r",
        "Epoch 26/30:  81%|\u2588\u2588\u2588\u2588\u2588\u2588\u2588\u2588  | 231/285 [00:02<00:01, 38.84batches/s]"
       ]
      },
      {
       "output_type": "stream",
       "stream": "stderr",
       "text": [
        "\r",
        "Epoch 26/30:  88%|\u2588\u2588\u2588\u2588\u2588\u2588\u2588\u2588\u258a | 251/285 [00:03<00:00, 40.84batches/s]"
       ]
      },
      {
       "output_type": "stream",
       "stream": "stderr",
       "text": [
        "\r",
        "Epoch 26/30:  96%|\u2588\u2588\u2588\u2588\u2588\u2588\u2588\u2588\u2588\u258b| 275/285 [00:03<00:00, 54.28batches/s]"
       ]
      },
      {
       "output_type": "stream",
       "stream": "stderr",
       "text": [
        "\r",
        "Epoch 26/30: 100%|\u2588\u2588\u2588\u2588\u2588\u2588\u2588\u2588\u2588\u2588| 285/285 [00:03<00:00, 88.57batches/s]"
       ]
      },
      {
       "output_type": "stream",
       "stream": "stderr",
       "text": [
        "\n",
        "\r",
        "Epoch 27/30:   0%|          | 0/285 [00:00<?, ?batches/s]"
       ]
      },
      {
       "output_type": "stream",
       "stream": "stderr",
       "text": [
        "\r",
        "Epoch 27/30:   0%|          | 1/285 [00:00<02:43,  1.74batches/s]"
       ]
      },
      {
       "output_type": "stream",
       "stream": "stderr",
       "text": [
        "\r",
        "Epoch 27/30:  11%|\u2588         | 30/285 [00:00<01:42,  2.48batches/s]"
       ]
      },
      {
       "output_type": "stream",
       "stream": "stderr",
       "text": [
        "\r",
        "Epoch 27/30:  18%|\u2588\u258a        | 51/285 [00:01<01:07,  3.46batches/s]"
       ]
      },
      {
       "output_type": "stream",
       "stream": "stderr",
       "text": [
        "\r",
        "Epoch 27/30:  22%|\u2588\u2588\u258f       | 64/285 [00:01<00:45,  4.89batches/s]"
       ]
      },
      {
       "output_type": "stream",
       "stream": "stderr",
       "text": [
        "\r",
        "Epoch 27/30:  27%|\u2588\u2588\u258b       | 77/285 [00:01<00:30,  6.86batches/s]"
       ]
      },
      {
       "output_type": "stream",
       "stream": "stderr",
       "text": [
        "\r",
        "Epoch 27/30:  35%|\u2588\u2588\u2588\u258c      | 101/285 [00:01<00:19,  9.32batches/s]"
       ]
      },
      {
       "output_type": "stream",
       "stream": "stderr",
       "text": [
        "\r",
        "Epoch 27/30:  46%|\u2588\u2588\u2588\u2588\u258c     | 131/285 [00:01<00:11, 13.13batches/s]"
       ]
      },
      {
       "output_type": "stream",
       "stream": "stderr",
       "text": [
        "\r",
        "Epoch 27/30:  53%|\u2588\u2588\u2588\u2588\u2588\u258e    | 151/285 [00:02<00:07, 16.82batches/s]"
       ]
      },
      {
       "output_type": "stream",
       "stream": "stderr",
       "text": [
        "\r",
        "Epoch 27/30:  63%|\u2588\u2588\u2588\u2588\u2588\u2588\u258e   | 179/285 [00:02<00:04, 23.42batches/s]"
       ]
      },
      {
       "output_type": "stream",
       "stream": "stderr",
       "text": [
        "\r",
        "Epoch 27/30:  71%|\u2588\u2588\u2588\u2588\u2588\u2588\u2588   | 201/285 [00:02<00:02, 28.13batches/s]"
       ]
      },
      {
       "output_type": "stream",
       "stream": "stderr",
       "text": [
        "\r",
        "Epoch 27/30:  80%|\u2588\u2588\u2588\u2588\u2588\u2588\u2588\u2588  | 228/285 [00:02<00:01, 38.45batches/s]"
       ]
      },
      {
       "output_type": "stream",
       "stream": "stderr",
       "text": [
        "\r",
        "Epoch 27/30:  88%|\u2588\u2588\u2588\u2588\u2588\u2588\u2588\u2588\u258a | 251/285 [00:03<00:00, 42.20batches/s]"
       ]
      },
      {
       "output_type": "stream",
       "stream": "stderr",
       "text": [
        "\r",
        "Epoch 27/30:  99%|\u2588\u2588\u2588\u2588\u2588\u2588\u2588\u2588\u2588\u258a| 281/285 [00:03<00:00, 56.79batches/s]"
       ]
      },
      {
       "output_type": "stream",
       "stream": "stderr",
       "text": [
        "\r",
        "Epoch 27/30: 100%|\u2588\u2588\u2588\u2588\u2588\u2588\u2588\u2588\u2588\u2588| 285/285 [00:03<00:00, 82.11batches/s]"
       ]
      },
      {
       "output_type": "stream",
       "stream": "stderr",
       "text": [
        "\n",
        "\r",
        "Epoch 28/30:   0%|          | 0/285 [00:00<?, ?batches/s]"
       ]
      },
      {
       "output_type": "stream",
       "stream": "stderr",
       "text": [
        "\r",
        "Epoch 28/30:   0%|          | 1/285 [00:00<01:44,  2.71batches/s]"
       ]
      },
      {
       "output_type": "stream",
       "stream": "stderr",
       "text": [
        "\r",
        "Epoch 28/30:  11%|\u2588         | 30/285 [00:00<01:06,  3.85batches/s]"
       ]
      },
      {
       "output_type": "stream",
       "stream": "stderr",
       "text": [
        "\r",
        "Epoch 28/30:  18%|\u2588\u258a        | 51/285 [00:00<00:43,  5.33batches/s]"
       ]
      },
      {
       "output_type": "stream",
       "stream": "stderr",
       "text": [
        "\r",
        "Epoch 28/30:  28%|\u2588\u2588\u258a       | 80/285 [00:00<00:27,  7.56batches/s]"
       ]
      },
      {
       "output_type": "stream",
       "stream": "stderr",
       "text": [
        "\r",
        "Epoch 28/30:  35%|\u2588\u2588\u2588\u258c      | 101/285 [00:01<00:18, 10.15batches/s]"
       ]
      },
      {
       "output_type": "stream",
       "stream": "stderr",
       "text": [
        "\r",
        "Epoch 28/30:  46%|\u2588\u2588\u2588\u2588\u258c     | 130/285 [00:01<00:10, 14.28batches/s]"
       ]
      },
      {
       "output_type": "stream",
       "stream": "stderr",
       "text": [
        "\r",
        "Epoch 28/30:  53%|\u2588\u2588\u2588\u2588\u2588\u258e    | 151/285 [00:01<00:07, 18.20batches/s]"
       ]
      },
      {
       "output_type": "stream",
       "stream": "stderr",
       "text": [
        "\r",
        "Epoch 28/30:  64%|\u2588\u2588\u2588\u2588\u2588\u2588\u258e   | 181/285 [00:02<00:04, 25.33batches/s]"
       ]
      },
      {
       "output_type": "stream",
       "stream": "stderr",
       "text": [
        "\r",
        "Epoch 28/30:  71%|\u2588\u2588\u2588\u2588\u2588\u2588\u2588   | 201/285 [00:02<00:02, 29.60batches/s]"
       ]
      },
      {
       "output_type": "stream",
       "stream": "stderr",
       "text": [
        "\r",
        "Epoch 28/30:  81%|\u2588\u2588\u2588\u2588\u2588\u2588\u2588\u2588  | 230/285 [00:02<00:01, 40.48batches/s]"
       ]
      },
      {
       "output_type": "stream",
       "stream": "stderr",
       "text": [
        "\r",
        "Epoch 28/30:  88%|\u2588\u2588\u2588\u2588\u2588\u2588\u2588\u2588\u258a | 251/285 [00:02<00:00, 43.20batches/s]"
       ]
      },
      {
       "output_type": "stream",
       "stream": "stderr",
       "text": [
        "\r",
        "Epoch 28/30:  99%|\u2588\u2588\u2588\u2588\u2588\u2588\u2588\u2588\u2588\u258a| 281/285 [00:03<00:00, 58.08batches/s]"
       ]
      },
      {
       "output_type": "stream",
       "stream": "stderr",
       "text": [
        "\r",
        "Epoch 28/30: 100%|\u2588\u2588\u2588\u2588\u2588\u2588\u2588\u2588\u2588\u2588| 285/285 [00:03<00:00, 92.86batches/s]"
       ]
      },
      {
       "output_type": "stream",
       "stream": "stderr",
       "text": [
        "\n",
        "\r",
        "Epoch 29/30:   0%|          | 0/285 [00:00<?, ?batches/s]"
       ]
      },
      {
       "output_type": "stream",
       "stream": "stderr",
       "text": [
        "\r",
        "Epoch 29/30:   0%|          | 1/285 [00:00<01:45,  2.70batches/s]"
       ]
      },
      {
       "output_type": "stream",
       "stream": "stderr",
       "text": [
        "\r",
        "Epoch 29/30:  10%|\u2588         | 29/285 [00:00<01:06,  3.84batches/s]"
       ]
      },
      {
       "output_type": "stream",
       "stream": "stderr",
       "text": [
        "\r",
        "Epoch 29/30:  18%|\u2588\u258a        | 51/285 [00:00<00:43,  5.33batches/s]"
       ]
      },
      {
       "output_type": "stream",
       "stream": "stderr",
       "text": [
        "\r",
        "Epoch 29/30:  28%|\u2588\u2588\u258a       | 80/285 [00:00<00:27,  7.55batches/s]"
       ]
      },
      {
       "output_type": "stream",
       "stream": "stderr",
       "text": [
        "\r",
        "Epoch 29/30:  35%|\u2588\u2588\u2588\u258c      | 101/285 [00:01<00:18, 10.15batches/s]"
       ]
      },
      {
       "output_type": "stream",
       "stream": "stderr",
       "text": [
        "\r",
        "Epoch 29/30:  46%|\u2588\u2588\u2588\u2588\u258c     | 131/285 [00:01<00:10, 14.29batches/s]"
       ]
      },
      {
       "output_type": "stream",
       "stream": "stderr",
       "text": [
        "\r",
        "Epoch 29/30:  53%|\u2588\u2588\u2588\u2588\u2588\u258e    | 151/285 [00:01<00:07, 18.14batches/s]"
       ]
      },
      {
       "output_type": "stream",
       "stream": "stderr",
       "text": [
        "\r",
        "Epoch 29/30:  63%|\u2588\u2588\u2588\u2588\u2588\u2588\u258e   | 179/285 [00:02<00:04, 25.21batches/s]"
       ]
      },
      {
       "output_type": "stream",
       "stream": "stderr",
       "text": [
        "\r",
        "Epoch 29/30:  71%|\u2588\u2588\u2588\u2588\u2588\u2588\u2588   | 201/285 [00:02<00:02, 29.87batches/s]"
       ]
      },
      {
       "output_type": "stream",
       "stream": "stderr",
       "text": [
        "\r",
        "Epoch 29/30:  79%|\u2588\u2588\u2588\u2588\u2588\u2588\u2588\u2589  | 225/285 [00:02<00:01, 40.50batches/s]"
       ]
      },
      {
       "output_type": "stream",
       "stream": "stderr",
       "text": [
        "\r",
        "Epoch 29/30:  88%|\u2588\u2588\u2588\u2588\u2588\u2588\u2588\u2588\u258a | 251/285 [00:02<00:00, 45.13batches/s]"
       ]
      },
      {
       "output_type": "stream",
       "stream": "stderr",
       "text": [
        "\r",
        "Epoch 29/30:  98%|\u2588\u2588\u2588\u2588\u2588\u2588\u2588\u2588\u2588\u258a| 279/285 [00:03<00:00, 60.25batches/s]"
       ]
      },
      {
       "output_type": "stream",
       "stream": "stderr",
       "text": [
        "\r",
        "Epoch 29/30: 100%|\u2588\u2588\u2588\u2588\u2588\u2588\u2588\u2588\u2588\u2588| 285/285 [00:03<00:00, 92.44batches/s]"
       ]
      },
      {
       "output_type": "stream",
       "stream": "stderr",
       "text": [
        "\n",
        "\r",
        "Epoch 30/30:   0%|          | 0/285 [00:00<?, ?batches/s]"
       ]
      },
      {
       "output_type": "stream",
       "stream": "stderr",
       "text": [
        "\r",
        "Epoch 30/30:   0%|          | 1/285 [00:00<02:03,  2.30batches/s]"
       ]
      },
      {
       "output_type": "stream",
       "stream": "stderr",
       "text": [
        "\r",
        "Epoch 30/30:  11%|\u2588         | 31/285 [00:00<01:17,  3.27batches/s]"
       ]
      },
      {
       "output_type": "stream",
       "stream": "stderr",
       "text": [
        "\r",
        "Epoch 30/30:  18%|\u2588\u258a        | 51/285 [00:00<00:51,  4.54batches/s]"
       ]
      },
      {
       "output_type": "stream",
       "stream": "stderr",
       "text": [
        "\r",
        "Epoch 30/30:  28%|\u2588\u2588\u258a       | 79/285 [00:01<00:31,  6.44batches/s]"
       ]
      },
      {
       "output_type": "stream",
       "stream": "stderr",
       "text": [
        "\r",
        "Epoch 30/30:  35%|\u2588\u2588\u2588\u258c      | 101/285 [00:01<00:21,  8.74batches/s]"
       ]
      },
      {
       "output_type": "stream",
       "stream": "stderr",
       "text": [
        "\r",
        "Epoch 30/30:  46%|\u2588\u2588\u2588\u2588\u258c     | 130/285 [00:01<00:12, 12.33batches/s]"
       ]
      },
      {
       "output_type": "stream",
       "stream": "stderr",
       "text": [
        "\r",
        "Epoch 30/30:  53%|\u2588\u2588\u2588\u2588\u2588\u258e    | 151/285 [00:01<00:08, 15.95batches/s]"
       ]
      },
      {
       "output_type": "stream",
       "stream": "stderr",
       "text": [
        "\r",
        "Epoch 30/30:  63%|\u2588\u2588\u2588\u2588\u2588\u2588\u258e   | 180/285 [00:02<00:04, 22.25batches/s]"
       ]
      },
      {
       "output_type": "stream",
       "stream": "stderr",
       "text": [
        "\r",
        "Epoch 30/30:  71%|\u2588\u2588\u2588\u2588\u2588\u2588\u2588   | 201/285 [00:02<00:03, 26.19batches/s]"
       ]
      },
      {
       "output_type": "stream",
       "stream": "stderr",
       "text": [
        "\r",
        "Epoch 30/30:  81%|\u2588\u2588\u2588\u2588\u2588\u2588\u2588\u2588  | 231/285 [00:02<00:01, 36.05batches/s]"
       ]
      },
      {
       "output_type": "stream",
       "stream": "stderr",
       "text": [
        "\r",
        "Epoch 30/30:  88%|\u2588\u2588\u2588\u2588\u2588\u2588\u2588\u2588\u258a | 251/285 [00:03<00:00, 39.19batches/s]"
       ]
      },
      {
       "output_type": "stream",
       "stream": "stderr",
       "text": [
        "\r",
        "Epoch 30/30:  98%|\u2588\u2588\u2588\u2588\u2588\u2588\u2588\u2588\u2588\u258a| 279/285 [00:03<00:00, 52.80batches/s]"
       ]
      },
      {
       "output_type": "stream",
       "stream": "stderr",
       "text": [
        "\r",
        "Epoch 30/30: 100%|\u2588\u2588\u2588\u2588\u2588\u2588\u2588\u2588\u2588\u2588| 285/285 [00:03<00:00, 89.33batches/s]"
       ]
      },
      {
       "output_type": "stream",
       "stream": "stderr",
       "text": [
        "\n"
       ]
      },
      {
       "metadata": {},
       "output_type": "display_data",
       "png": "[encoded data removed]",
       "text": [
        "<matplotlib.figure.Figure at 0x7f649a272400>"
       ]
      },
      {
       "output_type": "stream",
       "stream": "stdout",
       "text": [
        "Validation accuracy at 0.7328000068664551\n"
       ]
      }
     ],
     "prompt_number": 18
    },
    {
     "cell_type": "markdown",
     "metadata": {},
     "source": [
      "## Test\n",
      "Set the epochs, batch_size, and learning_rate with the best learning parameters you discovered in problem 3.  You're going to test your model against your hold out dataset/testing data.  This will give you a good indicator of how well the model will do in the real world.  You should have a test accuracy of at least 80%."
     ]
    },
    {
     "cell_type": "code",
     "collapsed": false,
     "input": [
      "# TODO: Set the epochs, batch_size, and learning_rate with the best parameters from problem 3\n",
      "epochs = 30 \n",
      "batch_size = 500 \n",
      "learning_rate = 0.01 \n",
      "\n",
      "\n",
      "### DON'T MODIFY ANYTHING BELOW ###\n",
      "# The accuracy measured against the test set\n",
      "test_accuracy = 0.0\n",
      "\n",
      "with tf.Session() as session:\n",
      "    \n",
      "    session.run(init)\n",
      "    batch_count = int(math.ceil(len(train_features)/batch_size))\n",
      "\n",
      "    for epoch_i in range(epochs):\n",
      "        \n",
      "        # Progress bar\n",
      "        batches_pbar = tqdm(range(batch_count), desc='Epoch {:>2}/{}'.format(epoch_i+1, epochs), unit='batches')\n",
      "        \n",
      "        # The training cycle\n",
      "        for batch_i in batches_pbar:\n",
      "            # Get a batch of training features and labels\n",
      "            batch_start = batch_i*batch_size\n",
      "            batch_features = train_features[batch_start:batch_start + batch_size]\n",
      "            batch_labels = train_labels[batch_start:batch_start + batch_size]\n",
      "\n",
      "            # Run optimizer\n",
      "            _ = session.run(optimizer, feed_dict={features: batch_features, labels: batch_labels})\n",
      "\n",
      "        # Check accuracy against Test data\n",
      "        test_accuracy = session.run(accuracy, feed_dict=test_feed_dict)\n",
      "\n",
      "\n",
      "assert test_accuracy >= 0.80, 'Test accuracy at {}, should be equal to or greater than 0.80'.format(test_accuracy)\n",
      "print('Nice Job! Test Accuracy is {}'.format(test_accuracy))"
     ],
     "language": "python",
     "metadata": {},
     "outputs": [
      {
       "output_type": "stream",
       "stream": "stderr",
       "text": [
        "\r",
        "Epoch  1/30:   0%|          | 0/285 [00:00<?, ?batches/s]"
       ]
      },
      {
       "output_type": "stream",
       "stream": "stderr",
       "text": [
        "\r",
        "Epoch  1/30:   4%|\u258d         | 12/285 [00:00<00:02, 114.28batches/s]"
       ]
      },
      {
       "output_type": "stream",
       "stream": "stderr",
       "text": [
        "\r",
        "Epoch  1/30:  12%|\u2588\u258f        | 33/285 [00:00<00:01, 131.88batches/s]"
       ]
      },
      {
       "output_type": "stream",
       "stream": "stderr",
       "text": [
        "\r",
        "Epoch  1/30:  22%|\u2588\u2588\u258f       | 64/285 [00:00<00:01, 159.22batches/s]"
       ]
      },
      {
       "output_type": "stream",
       "stream": "stderr",
       "text": [
        "\r",
        "Epoch  1/30:  34%|\u2588\u2588\u2588\u258e      | 96/285 [00:00<00:01, 186.75batches/s]"
       ]
      },
      {
       "output_type": "stream",
       "stream": "stderr",
       "text": [
        "\r",
        "Epoch  1/30:  45%|\u2588\u2588\u2588\u2588\u258c     | 129/285 [00:00<00:00, 213.80batches/s]"
       ]
      },
      {
       "output_type": "stream",
       "stream": "stderr",
       "text": [
        "\r",
        "Epoch  1/30:  56%|\u2588\u2588\u2588\u2588\u2588\u258c    | 159/285 [00:00<00:00, 233.75batches/s]"
       ]
      },
      {
       "output_type": "stream",
       "stream": "stderr",
       "text": [
        "\r",
        "Epoch  1/30:  67%|\u2588\u2588\u2588\u2588\u2588\u2588\u258b   | 191/285 [00:00<00:00, 253.66batches/s]"
       ]
      },
      {
       "output_type": "stream",
       "stream": "stderr",
       "text": [
        "\r",
        "Epoch  1/30:  78%|\u2588\u2588\u2588\u2588\u2588\u2588\u2588\u258a  | 222/285 [00:00<00:00, 267.75batches/s]"
       ]
      },
      {
       "output_type": "stream",
       "stream": "stderr",
       "text": [
        "\r",
        "Epoch  1/30:  89%|\u2588\u2588\u2588\u2588\u2588\u2588\u2588\u2588\u2589 | 254/285 [00:00<00:00, 280.28batches/s]"
       ]
      },
      {
       "output_type": "stream",
       "stream": "stderr",
       "text": [
        "\r",
        "Epoch  1/30: 100%|\u2588\u2588\u2588\u2588\u2588\u2588\u2588\u2588\u2588\u2588| 285/285 [00:01<00:00, 287.56batches/s]"
       ]
      },
      {
       "output_type": "stream",
       "stream": "stderr",
       "text": [
        "\n",
        "\r",
        "Epoch  2/30:   0%|          | 0/285 [00:00<?, ?batches/s]"
       ]
      },
      {
       "output_type": "stream",
       "stream": "stderr",
       "text": [
        "\r",
        "Epoch  2/30:   7%|\u258b         | 20/285 [00:00<00:01, 199.94batches/s]"
       ]
      },
      {
       "output_type": "stream",
       "stream": "stderr",
       "text": [
        "\r",
        "Epoch  2/30:  15%|\u2588\u258d        | 42/285 [00:00<00:01, 204.74batches/s]"
       ]
      },
      {
       "output_type": "stream",
       "stream": "stderr",
       "text": [
        "\r",
        "Epoch  2/30:  22%|\u2588\u2588\u258f       | 63/285 [00:00<00:01, 204.63batches/s]"
       ]
      },
      {
       "output_type": "stream",
       "stream": "stderr",
       "text": [
        "\r",
        "Epoch  2/30:  29%|\u2588\u2588\u2589       | 83/285 [00:00<00:00, 202.13batches/s]"
       ]
      },
      {
       "output_type": "stream",
       "stream": "stderr",
       "text": [
        "\r",
        "Epoch  2/30:  37%|\u2588\u2588\u2588\u258b      | 105/285 [00:00<00:00, 206.43batches/s]"
       ]
      },
      {
       "output_type": "stream",
       "stream": "stderr",
       "text": [
        "\r",
        "Epoch  2/30:  46%|\u2588\u2588\u2588\u2588\u258b     | 132/285 [00:00<00:00, 221.57batches/s]"
       ]
      },
      {
       "output_type": "stream",
       "stream": "stderr",
       "text": [
        "\r",
        "Epoch  2/30:  58%|\u2588\u2588\u2588\u2588\u2588\u258a    | 164/285 [00:00<00:00, 243.63batches/s]"
       ]
      },
      {
       "output_type": "stream",
       "stream": "stderr",
       "text": [
        "\r",
        "Epoch  2/30:  67%|\u2588\u2588\u2588\u2588\u2588\u2588\u258b   | 192/285 [00:00<00:00, 252.45batches/s]"
       ]
      },
      {
       "output_type": "stream",
       "stream": "stderr",
       "text": [
        "\r",
        "Epoch  2/30:  76%|\u2588\u2588\u2588\u2588\u2588\u2588\u2588\u258c  | 217/285 [00:00<00:00, 242.04batches/s]"
       ]
      },
      {
       "output_type": "stream",
       "stream": "stderr",
       "text": [
        "\r",
        "Epoch  2/30:  85%|\u2588\u2588\u2588\u2588\u2588\u2588\u2588\u2588\u258d | 241/285 [00:01<00:00, 231.02batches/s]"
       ]
      },
      {
       "output_type": "stream",
       "stream": "stderr",
       "text": [
        "\r",
        "Epoch  2/30:  93%|\u2588\u2588\u2588\u2588\u2588\u2588\u2588\u2588\u2588\u258e| 265/285 [00:01<00:00, 232.04batches/s]"
       ]
      },
      {
       "output_type": "stream",
       "stream": "stderr",
       "text": [
        "\r",
        "Epoch  2/30: 100%|\u2588\u2588\u2588\u2588\u2588\u2588\u2588\u2588\u2588\u2588| 285/285 [00:01<00:00, 234.63batches/s]"
       ]
      },
      {
       "output_type": "stream",
       "stream": "stderr",
       "text": [
        "\n",
        "\r",
        "Epoch  3/30:   0%|          | 0/285 [00:00<?, ?batches/s]"
       ]
      },
      {
       "output_type": "stream",
       "stream": "stderr",
       "text": [
        "\r",
        "Epoch  3/30:   8%|\u258a         | 24/285 [00:00<00:01, 239.03batches/s]"
       ]
      },
      {
       "output_type": "stream",
       "stream": "stderr",
       "text": [
        "\r",
        "Epoch  3/30:  18%|\u2588\u258a        | 51/285 [00:00<00:00, 247.31batches/s]"
       ]
      },
      {
       "output_type": "stream",
       "stream": "stderr",
       "text": [
        "\r",
        "Epoch  3/30:  29%|\u2588\u2588\u2589       | 83/285 [00:00<00:00, 264.02batches/s]"
       ]
      },
      {
       "output_type": "stream",
       "stream": "stderr",
       "text": [
        "\r",
        "Epoch  3/30:  40%|\u2588\u2588\u2588\u2588      | 115/285 [00:00<00:00, 277.05batches/s]"
       ]
      },
      {
       "output_type": "stream",
       "stream": "stderr",
       "text": [
        "\r",
        "Epoch  3/30:  51%|\u2588\u2588\u2588\u2588\u2588     | 145/285 [00:00<00:00, 283.40batches/s]"
       ]
      },
      {
       "output_type": "stream",
       "stream": "stderr",
       "text": [
        "\r",
        "Epoch  3/30:  62%|\u2588\u2588\u2588\u2588\u2588\u2588\u258f   | 176/285 [00:00<00:00, 290.53batches/s]"
       ]
      },
      {
       "output_type": "stream",
       "stream": "stderr",
       "text": [
        "\r",
        "Epoch  3/30:  73%|\u2588\u2588\u2588\u2588\u2588\u2588\u2588\u258e  | 207/285 [00:00<00:00, 295.20batches/s]"
       ]
      },
      {
       "output_type": "stream",
       "stream": "stderr",
       "text": [
        "\r",
        "Epoch  3/30:  84%|\u2588\u2588\u2588\u2588\u2588\u2588\u2588\u2588\u258e | 238/285 [00:00<00:00, 299.25batches/s]"
       ]
      },
      {
       "output_type": "stream",
       "stream": "stderr",
       "text": [
        "\r",
        "Epoch  3/30:  94%|\u2588\u2588\u2588\u2588\u2588\u2588\u2588\u2588\u2588\u258d| 268/285 [00:00<00:00, 298.72batches/s]"
       ]
      },
      {
       "output_type": "stream",
       "stream": "stderr",
       "text": [
        "\r",
        "Epoch  3/30: 100%|\u2588\u2588\u2588\u2588\u2588\u2588\u2588\u2588\u2588\u2588| 285/285 [00:00<00:00, 291.38batches/s]"
       ]
      },
      {
       "output_type": "stream",
       "stream": "stderr",
       "text": [
        "\n",
        "\r",
        "Epoch  4/30:   0%|          | 0/285 [00:00<?, ?batches/s]"
       ]
      },
      {
       "output_type": "stream",
       "stream": "stderr",
       "text": [
        "\r",
        "Epoch  4/30:   9%|\u2589         | 25/285 [00:00<00:01, 248.16batches/s]"
       ]
      },
      {
       "output_type": "stream",
       "stream": "stderr",
       "text": [
        "\r",
        "Epoch  4/30:  20%|\u2588\u2588        | 57/285 [00:00<00:00, 264.71batches/s]"
       ]
      },
      {
       "output_type": "stream",
       "stream": "stderr",
       "text": [
        "\r",
        "Epoch  4/30:  30%|\u2588\u2588\u2588       | 86/285 [00:00<00:00, 271.79batches/s]"
       ]
      },
      {
       "output_type": "stream",
       "stream": "stderr",
       "text": [
        "\r",
        "Epoch  4/30:  40%|\u2588\u2588\u2588\u2588      | 115/285 [00:00<00:00, 276.72batches/s]"
       ]
      },
      {
       "output_type": "stream",
       "stream": "stderr",
       "text": [
        "\r",
        "Epoch  4/30:  49%|\u2588\u2588\u2588\u2588\u2589     | 140/285 [00:00<00:00, 265.29batches/s]"
       ]
      },
      {
       "output_type": "stream",
       "stream": "stderr",
       "text": [
        "\r",
        "Epoch  4/30:  57%|\u2588\u2588\u2588\u2588\u2588\u258b    | 163/285 [00:00<00:00, 199.87batches/s]"
       ]
      },
      {
       "output_type": "stream",
       "stream": "stderr",
       "text": [
        "\r",
        "Epoch  4/30:  66%|\u2588\u2588\u2588\u2588\u2588\u2588\u258c   | 187/285 [00:00<00:00, 210.19batches/s]"
       ]
      },
      {
       "output_type": "stream",
       "stream": "stderr",
       "text": [
        "\r",
        "Epoch  4/30:  74%|\u2588\u2588\u2588\u2588\u2588\u2588\u2588\u258e  | 210/285 [00:00<00:00, 214.62batches/s]"
       ]
      },
      {
       "output_type": "stream",
       "stream": "stderr",
       "text": [
        "\r",
        "Epoch  4/30:  85%|\u2588\u2588\u2588\u2588\u2588\u2588\u2588\u2588\u258d | 241/285 [00:00<00:00, 235.18batches/s]"
       ]
      },
      {
       "output_type": "stream",
       "stream": "stderr",
       "text": [
        "\r",
        "Epoch  4/30:  96%|\u2588\u2588\u2588\u2588\u2588\u2588\u2588\u2588\u2588\u258c| 273/285 [00:01<00:00, 254.75batches/s]"
       ]
      },
      {
       "output_type": "stream",
       "stream": "stderr",
       "text": [
        "\r",
        "Epoch  4/30: 100%|\u2588\u2588\u2588\u2588\u2588\u2588\u2588\u2588\u2588\u2588| 285/285 [00:01<00:00, 250.46batches/s]"
       ]
      },
      {
       "output_type": "stream",
       "stream": "stderr",
       "text": [
        "\n",
        "\r",
        "Epoch  5/30:   0%|          | 0/285 [00:00<?, ?batches/s]"
       ]
      },
      {
       "output_type": "stream",
       "stream": "stderr",
       "text": [
        "\r",
        "Epoch  5/30:   9%|\u2589         | 25/285 [00:00<00:01, 249.44batches/s]"
       ]
      },
      {
       "output_type": "stream",
       "stream": "stderr",
       "text": [
        "\r",
        "Epoch  5/30:  20%|\u2588\u2589        | 56/285 [00:00<00:00, 263.38batches/s]"
       ]
      },
      {
       "output_type": "stream",
       "stream": "stderr",
       "text": [
        "\r",
        "Epoch  5/30:  31%|\u2588\u2588\u2588       | 87/285 [00:00<00:00, 275.13batches/s]"
       ]
      },
      {
       "output_type": "stream",
       "stream": "stderr",
       "text": [
        "\r",
        "Epoch  5/30:  41%|\u2588\u2588\u2588\u2588\u258f     | 118/285 [00:00<00:00, 283.94batches/s]"
       ]
      },
      {
       "output_type": "stream",
       "stream": "stderr",
       "text": [
        "\r",
        "Epoch  5/30:  52%|\u2588\u2588\u2588\u2588\u2588\u258f    | 148/285 [00:00<00:00, 285.93batches/s]"
       ]
      },
      {
       "output_type": "stream",
       "stream": "stderr",
       "text": [
        "\r",
        "Epoch  5/30:  62%|\u2588\u2588\u2588\u2588\u2588\u2588\u258f   | 178/285 [00:00<00:00, 288.50batches/s]"
       ]
      },
      {
       "output_type": "stream",
       "stream": "stderr",
       "text": [
        "\r",
        "Epoch  5/30:  74%|\u2588\u2588\u2588\u2588\u2588\u2588\u2588\u258e  | 210/285 [00:00<00:00, 297.13batches/s]"
       ]
      },
      {
       "output_type": "stream",
       "stream": "stderr",
       "text": [
        "\r",
        "Epoch  5/30:  85%|\u2588\u2588\u2588\u2588\u2588\u2588\u2588\u2588\u258d | 242/285 [00:00<00:00, 302.01batches/s]"
       ]
      },
      {
       "output_type": "stream",
       "stream": "stderr",
       "text": [
        "\r",
        "Epoch  5/30:  95%|\u2588\u2588\u2588\u2588\u2588\u2588\u2588\u2588\u2588\u258c| 272/285 [00:00<00:00, 300.68batches/s]"
       ]
      },
      {
       "output_type": "stream",
       "stream": "stderr",
       "text": [
        "\r",
        "Epoch  5/30: 100%|\u2588\u2588\u2588\u2588\u2588\u2588\u2588\u2588\u2588\u2588| 285/285 [00:00<00:00, 292.82batches/s]"
       ]
      },
      {
       "output_type": "stream",
       "stream": "stderr",
       "text": [
        "\n",
        "\r",
        "Epoch  6/30:   0%|          | 0/285 [00:00<?, ?batches/s]"
       ]
      },
      {
       "output_type": "stream",
       "stream": "stderr",
       "text": [
        "\r",
        "Epoch  6/30:   8%|\u258a         | 24/285 [00:00<00:01, 237.41batches/s]"
       ]
      },
      {
       "output_type": "stream",
       "stream": "stderr",
       "text": [
        "\r",
        "Epoch  6/30:  20%|\u2588\u2589        | 56/285 [00:00<00:00, 255.87batches/s]"
       ]
      },
      {
       "output_type": "stream",
       "stream": "stderr",
       "text": [
        "\r",
        "Epoch  6/30:  31%|\u2588\u2588\u2588       | 87/285 [00:00<00:00, 269.97batches/s]"
       ]
      },
      {
       "output_type": "stream",
       "stream": "stderr",
       "text": [
        "\r",
        "Epoch  6/30:  41%|\u2588\u2588\u2588\u2588\u258f     | 118/285 [00:00<00:00, 280.82batches/s]"
       ]
      },
      {
       "output_type": "stream",
       "stream": "stderr",
       "text": [
        "\r",
        "Epoch  6/30:  52%|\u2588\u2588\u2588\u2588\u2588\u258f    | 148/285 [00:00<00:00, 284.95batches/s]"
       ]
      },
      {
       "output_type": "stream",
       "stream": "stderr",
       "text": [
        "\r",
        "Epoch  6/30:  62%|\u2588\u2588\u2588\u2588\u2588\u2588\u258f   | 178/285 [00:00<00:00, 288.74batches/s]"
       ]
      },
      {
       "output_type": "stream",
       "stream": "stderr",
       "text": [
        "\r",
        "Epoch  6/30:  74%|\u2588\u2588\u2588\u2588\u2588\u2588\u2588\u258e  | 210/285 [00:00<00:00, 296.64batches/s]"
       ]
      },
      {
       "output_type": "stream",
       "stream": "stderr",
       "text": [
        "\r",
        "Epoch  6/30:  84%|\u2588\u2588\u2588\u2588\u2588\u2588\u2588\u2588\u258e | 238/285 [00:00<00:00, 282.49batches/s]"
       ]
      },
      {
       "output_type": "stream",
       "stream": "stderr",
       "text": [
        "\r",
        "Epoch  6/30:  93%|\u2588\u2588\u2588\u2588\u2588\u2588\u2588\u2588\u2588\u258e| 266/285 [00:01<00:00, 211.71batches/s]"
       ]
      },
      {
       "output_type": "stream",
       "stream": "stderr",
       "text": [
        "\r",
        "Epoch  6/30: 100%|\u2588\u2588\u2588\u2588\u2588\u2588\u2588\u2588\u2588\u2588| 285/285 [00:01<00:00, 246.56batches/s]"
       ]
      },
      {
       "output_type": "stream",
       "stream": "stderr",
       "text": [
        "\n",
        "\r",
        "Epoch  7/30:   0%|          | 0/285 [00:00<?, ?batches/s]"
       ]
      },
      {
       "output_type": "stream",
       "stream": "stderr",
       "text": [
        "\r",
        "Epoch  7/30:   9%|\u2589         | 26/285 [00:00<00:01, 256.50batches/s]"
       ]
      },
      {
       "output_type": "stream",
       "stream": "stderr",
       "text": [
        "\r",
        "Epoch  7/30:  19%|\u2588\u2589        | 55/285 [00:00<00:00, 265.36batches/s]"
       ]
      },
      {
       "output_type": "stream",
       "stream": "stderr",
       "text": [
        "\r",
        "Epoch  7/30:  30%|\u2588\u2588\u2589       | 85/285 [00:00<00:00, 274.61batches/s]"
       ]
      },
      {
       "output_type": "stream",
       "stream": "stderr",
       "text": [
        "\r",
        "Epoch  7/30:  40%|\u2588\u2588\u2588\u2588      | 114/285 [00:00<00:00, 278.74batches/s]"
       ]
      },
      {
       "output_type": "stream",
       "stream": "stderr",
       "text": [
        "\r",
        "Epoch  7/30:  51%|\u2588\u2588\u2588\u2588\u2588     | 144/285 [00:00<00:00, 282.77batches/s]"
       ]
      },
      {
       "output_type": "stream",
       "stream": "stderr",
       "text": [
        "\r",
        "Epoch  7/30:  59%|\u2588\u2588\u2588\u2588\u2588\u2589    | 169/285 [00:00<00:00, 268.33batches/s]"
       ]
      },
      {
       "output_type": "stream",
       "stream": "stderr",
       "text": [
        "\r",
        "Epoch  7/30:  68%|\u2588\u2588\u2588\u2588\u2588\u2588\u258a   | 194/285 [00:00<00:00, 202.45batches/s]"
       ]
      },
      {
       "output_type": "stream",
       "stream": "stderr",
       "text": [
        "\r",
        "Epoch  7/30:  75%|\u2588\u2588\u2588\u2588\u2588\u2588\u2588\u258c  | 215/285 [00:00<00:00, 181.58batches/s]"
       ]
      },
      {
       "output_type": "stream",
       "stream": "stderr",
       "text": [
        "\r",
        "Epoch  7/30:  86%|\u2588\u2588\u2588\u2588\u2588\u2588\u2588\u2588\u258b | 246/285 [00:01<00:00, 206.96batches/s]"
       ]
      },
      {
       "output_type": "stream",
       "stream": "stderr",
       "text": [
        "\r",
        "Epoch  7/30:  95%|\u2588\u2588\u2588\u2588\u2588\u2588\u2588\u2588\u2588\u258d| 270/285 [00:01<00:00, 209.77batches/s]"
       ]
      },
      {
       "output_type": "stream",
       "stream": "stderr",
       "text": [
        "\r",
        "Epoch  7/30: 100%|\u2588\u2588\u2588\u2588\u2588\u2588\u2588\u2588\u2588\u2588| 285/285 [00:01<00:00, 224.47batches/s]"
       ]
      },
      {
       "output_type": "stream",
       "stream": "stderr",
       "text": [
        "\n",
        "\r",
        "Epoch  8/30:   0%|          | 0/285 [00:00<?, ?batches/s]"
       ]
      },
      {
       "output_type": "stream",
       "stream": "stderr",
       "text": [
        "\r",
        "Epoch  8/30:   5%|\u258d         | 13/285 [00:00<00:02, 128.94batches/s]"
       ]
      },
      {
       "output_type": "stream",
       "stream": "stderr",
       "text": [
        "\r",
        "Epoch  8/30:  16%|\u2588\u258c        | 45/285 [00:00<00:01, 156.56batches/s]"
       ]
      },
      {
       "output_type": "stream",
       "stream": "stderr",
       "text": [
        "\r",
        "Epoch  8/30:  27%|\u2588\u2588\u258b       | 77/285 [00:00<00:01, 184.37batches/s]"
       ]
      },
      {
       "output_type": "stream",
       "stream": "stderr",
       "text": [
        "\r",
        "Epoch  8/30:  38%|\u2588\u2588\u2588\u258a      | 109/285 [00:00<00:00, 210.36batches/s]"
       ]
      },
      {
       "output_type": "stream",
       "stream": "stderr",
       "text": [
        "\r",
        "Epoch  8/30:  49%|\u2588\u2588\u2588\u2588\u2589     | 139/285 [00:00<00:00, 229.90batches/s]"
       ]
      },
      {
       "output_type": "stream",
       "stream": "stderr",
       "text": [
        "\r",
        "Epoch  8/30:  59%|\u2588\u2588\u2588\u2588\u2588\u2589    | 168/285 [00:00<00:00, 244.53batches/s]"
       ]
      },
      {
       "output_type": "stream",
       "stream": "stderr",
       "text": [
        "\r",
        "Epoch  8/30:  69%|\u2588\u2588\u2588\u2588\u2588\u2588\u2589   | 198/285 [00:00<00:00, 258.08batches/s]"
       ]
      },
      {
       "output_type": "stream",
       "stream": "stderr",
       "text": [
        "\r",
        "Epoch  8/30:  81%|\u2588\u2588\u2588\u2588\u2588\u2588\u2588\u2588  | 230/285 [00:00<00:00, 273.62batches/s]"
       ]
      },
      {
       "output_type": "stream",
       "stream": "stderr",
       "text": [
        "\r",
        "Epoch  8/30:  92%|\u2588\u2588\u2588\u2588\u2588\u2588\u2588\u2588\u2588\u258f| 261/285 [00:00<00:00, 282.03batches/s]"
       ]
      },
      {
       "output_type": "stream",
       "stream": "stderr",
       "text": [
        "\r",
        "Epoch  8/30: 100%|\u2588\u2588\u2588\u2588\u2588\u2588\u2588\u2588\u2588\u2588| 285/285 [00:00<00:00, 286.07batches/s]"
       ]
      },
      {
       "output_type": "stream",
       "stream": "stderr",
       "text": [
        "\n",
        "\r",
        "Epoch  9/30:   0%|          | 0/285 [00:00<?, ?batches/s]"
       ]
      },
      {
       "output_type": "stream",
       "stream": "stderr",
       "text": [
        "\r",
        "Epoch  9/30:   9%|\u2589         | 26/285 [00:00<00:01, 257.76batches/s]"
       ]
      },
      {
       "output_type": "stream",
       "stream": "stderr",
       "text": [
        "\r",
        "Epoch  9/30:  20%|\u2588\u2588        | 58/285 [00:00<00:00, 272.44batches/s]"
       ]
      },
      {
       "output_type": "stream",
       "stream": "stderr",
       "text": [
        "\r",
        "Epoch  9/30:  31%|\u2588\u2588\u2588       | 88/285 [00:00<00:00, 279.02batches/s]"
       ]
      },
      {
       "output_type": "stream",
       "stream": "stderr",
       "text": [
        "\r",
        "Epoch  9/30:  41%|\u2588\u2588\u2588\u2588      | 117/285 [00:00<00:00, 281.12batches/s]"
       ]
      },
      {
       "output_type": "stream",
       "stream": "stderr",
       "text": [
        "\r",
        "Epoch  9/30:  52%|\u2588\u2588\u2588\u2588\u2588\u258f    | 148/285 [00:00<00:00, 288.26batches/s]"
       ]
      },
      {
       "output_type": "stream",
       "stream": "stderr",
       "text": [
        "\r",
        "Epoch  9/30:  63%|\u2588\u2588\u2588\u2588\u2588\u2588\u258e   | 179/285 [00:00<00:00, 294.38batches/s]"
       ]
      },
      {
       "output_type": "stream",
       "stream": "stderr",
       "text": [
        "\r",
        "Epoch  9/30:  74%|\u2588\u2588\u2588\u2588\u2588\u2588\u2588\u258e  | 210/285 [00:00<00:00, 297.86batches/s]"
       ]
      },
      {
       "output_type": "stream",
       "stream": "stderr",
       "text": [
        "\r",
        "Epoch  9/30:  84%|\u2588\u2588\u2588\u2588\u2588\u2588\u2588\u2588\u258d | 240/285 [00:00<00:00, 298.38batches/s]"
       ]
      },
      {
       "output_type": "stream",
       "stream": "stderr",
       "text": [
        "\r",
        "Epoch  9/30:  95%|\u2588\u2588\u2588\u2588\u2588\u2588\u2588\u2588\u2588\u258d| 270/285 [00:00<00:00, 297.62batches/s]"
       ]
      },
      {
       "output_type": "stream",
       "stream": "stderr",
       "text": [
        "\r",
        "Epoch  9/30: 100%|\u2588\u2588\u2588\u2588\u2588\u2588\u2588\u2588\u2588\u2588| 285/285 [00:00<00:00, 292.25batches/s]"
       ]
      },
      {
       "output_type": "stream",
       "stream": "stderr",
       "text": [
        "\n",
        "\r",
        "Epoch 10/30:   0%|          | 0/285 [00:00<?, ?batches/s]"
       ]
      },
      {
       "output_type": "stream",
       "stream": "stderr",
       "text": [
        "\r",
        "Epoch 10/30:   9%|\u2589         | 27/285 [00:00<00:00, 266.70batches/s]"
       ]
      },
      {
       "output_type": "stream",
       "stream": "stderr",
       "text": [
        "\r",
        "Epoch 10/30:  20%|\u2588\u2588        | 58/285 [00:00<00:00, 277.95batches/s]"
       ]
      },
      {
       "output_type": "stream",
       "stream": "stderr",
       "text": [
        "\r",
        "Epoch 10/30:  31%|\u2588\u2588\u2588       | 87/285 [00:00<00:00, 280.24batches/s]"
       ]
      },
      {
       "output_type": "stream",
       "stream": "stderr",
       "text": [
        "\r",
        "Epoch 10/30:  37%|\u2588\u2588\u2588\u258b      | 106/285 [00:00<00:00, 229.95batches/s]"
       ]
      },
      {
       "output_type": "stream",
       "stream": "stderr",
       "text": [
        "\r",
        "Epoch 10/30:  44%|\u2588\u2588\u2588\u2588\u258d     | 125/285 [00:00<00:00, 176.27batches/s]"
       ]
      },
      {
       "output_type": "stream",
       "stream": "stderr",
       "text": [
        "\r",
        "Epoch 10/30:  50%|\u2588\u2588\u2588\u2588\u2588     | 143/285 [00:00<00:00, 177.26batches/s]"
       ]
      },
      {
       "output_type": "stream",
       "stream": "stderr",
       "text": [
        "\r",
        "Epoch 10/30:  60%|\u2588\u2588\u2588\u2588\u2588\u2588    | 172/285 [00:00<00:00, 200.10batches/s]"
       ]
      },
      {
       "output_type": "stream",
       "stream": "stderr",
       "text": [
        "\r",
        "Epoch 10/30:  71%|\u2588\u2588\u2588\u2588\u2588\u2588\u2588   | 201/285 [00:00<00:00, 219.47batches/s]"
       ]
      },
      {
       "output_type": "stream",
       "stream": "stderr",
       "text": [
        "\r",
        "Epoch 10/30:  79%|\u2588\u2588\u2588\u2588\u2588\u2588\u2588\u258a  | 224/285 [00:01<00:00, 215.66batches/s]"
       ]
      },
      {
       "output_type": "stream",
       "stream": "stderr",
       "text": [
        "\r",
        "Epoch 10/30:  87%|\u2588\u2588\u2588\u2588\u2588\u2588\u2588\u2588\u258b | 247/285 [00:01<00:00, 175.32batches/s]"
       ]
      },
      {
       "output_type": "stream",
       "stream": "stderr",
       "text": [
        "\r",
        "Epoch 10/30:  96%|\u2588\u2588\u2588\u2588\u2588\u2588\u2588\u2588\u2588\u258c| 274/285 [00:01<00:00, 194.96batches/s]"
       ]
      },
      {
       "output_type": "stream",
       "stream": "stderr",
       "text": [
        "\r",
        "Epoch 10/30: 100%|\u2588\u2588\u2588\u2588\u2588\u2588\u2588\u2588\u2588\u2588| 285/285 [00:01<00:00, 211.00batches/s]"
       ]
      },
      {
       "output_type": "stream",
       "stream": "stderr",
       "text": [
        "\n",
        "\r",
        "Epoch 11/30:   0%|          | 0/285 [00:00<?, ?batches/s]"
       ]
      },
      {
       "output_type": "stream",
       "stream": "stderr",
       "text": [
        "\r",
        "Epoch 11/30:   7%|\u258b         | 20/285 [00:00<00:01, 195.15batches/s]"
       ]
      },
      {
       "output_type": "stream",
       "stream": "stderr",
       "text": [
        "\r",
        "Epoch 11/30:  13%|\u2588\u258e        | 36/285 [00:00<00:01, 179.44batches/s]"
       ]
      },
      {
       "output_type": "stream",
       "stream": "stderr",
       "text": [
        "\r",
        "Epoch 11/30:  23%|\u2588\u2588\u258e       | 65/285 [00:00<00:01, 202.05batches/s]"
       ]
      },
      {
       "output_type": "stream",
       "stream": "stderr",
       "text": [
        "\r",
        "Epoch 11/30:  31%|\u2588\u2588\u2588       | 87/285 [00:00<00:00, 205.94batches/s]"
       ]
      },
      {
       "output_type": "stream",
       "stream": "stderr",
       "text": [
        "\r",
        "Epoch 11/30:  36%|\u2588\u2588\u2588\u258b      | 104/285 [00:00<00:01, 172.78batches/s]"
       ]
      },
      {
       "output_type": "stream",
       "stream": "stderr",
       "text": [
        "\r",
        "Epoch 11/30:  44%|\u2588\u2588\u2588\u2588\u258d     | 125/285 [00:00<00:00, 180.76batches/s]"
       ]
      },
      {
       "output_type": "stream",
       "stream": "stderr",
       "text": [
        "\r",
        "Epoch 11/30:  50%|\u2588\u2588\u2588\u2588\u2589     | 142/285 [00:00<00:00, 162.16batches/s]"
       ]
      },
      {
       "output_type": "stream",
       "stream": "stderr",
       "text": [
        "\r",
        "Epoch 11/30:  55%|\u2588\u2588\u2588\u2588\u2588\u258c    | 158/285 [00:00<00:00, 155.12batches/s]"
       ]
      },
      {
       "output_type": "stream",
       "stream": "stderr",
       "text": [
        "\r",
        "Epoch 11/30:  62%|\u2588\u2588\u2588\u2588\u2588\u2588\u258f   | 176/285 [00:00<00:00, 160.15batches/s]"
       ]
      },
      {
       "output_type": "stream",
       "stream": "stderr",
       "text": [
        "\r",
        "Epoch 11/30:  67%|\u2588\u2588\u2588\u2588\u2588\u2588\u258b   | 192/285 [00:01<00:00, 150.46batches/s]"
       ]
      },
      {
       "output_type": "stream",
       "stream": "stderr",
       "text": [
        "\r",
        "Epoch 11/30:  78%|\u2588\u2588\u2588\u2588\u2588\u2588\u2588\u258a  | 223/285 [00:01<00:00, 177.34batches/s]"
       ]
      },
      {
       "output_type": "stream",
       "stream": "stderr",
       "text": [
        "\r",
        "Epoch 11/30:  86%|\u2588\u2588\u2588\u2588\u2588\u2588\u2588\u2588\u258b | 246/285 [00:01<00:00, 189.93batches/s]"
       ]
      },
      {
       "output_type": "stream",
       "stream": "stderr",
       "text": [
        "\r",
        "Epoch 11/30:  94%|\u2588\u2588\u2588\u2588\u2588\u2588\u2588\u2588\u2588\u258e| 267/285 [00:01<00:00, 159.38batches/s]"
       ]
      },
      {
       "output_type": "stream",
       "stream": "stderr",
       "text": [
        "\r",
        "Epoch 11/30: 100%|\u2588\u2588\u2588\u2588\u2588\u2588\u2588\u2588\u2588\u2588| 285/285 [00:01<00:00, 150.23batches/s]"
       ]
      },
      {
       "output_type": "stream",
       "stream": "stderr",
       "text": [
        "\n",
        "\r",
        "Epoch 12/30:   0%|          | 0/285 [00:00<?, ?batches/s]"
       ]
      },
      {
       "output_type": "stream",
       "stream": "stderr",
       "text": [
        "\r",
        "Epoch 12/30:   8%|\u258a         | 24/285 [00:00<00:01, 235.06batches/s]"
       ]
      },
      {
       "output_type": "stream",
       "stream": "stderr",
       "text": [
        "\r",
        "Epoch 12/30:  13%|\u2588\u258e        | 36/285 [00:00<00:01, 181.28batches/s]"
       ]
      },
      {
       "output_type": "stream",
       "stream": "stderr",
       "text": [
        "\r",
        "Epoch 12/30:  20%|\u2588\u2589        | 56/285 [00:00<00:01, 185.68batches/s]"
       ]
      },
      {
       "output_type": "stream",
       "stream": "stderr",
       "text": [
        "\r",
        "Epoch 12/30:  27%|\u2588\u2588\u258b       | 76/285 [00:00<00:01, 189.21batches/s]"
       ]
      },
      {
       "output_type": "stream",
       "stream": "stderr",
       "text": [
        "\r",
        "Epoch 12/30:  34%|\u2588\u2588\u2588\u258e      | 96/285 [00:00<00:00, 192.18batches/s]"
       ]
      },
      {
       "output_type": "stream",
       "stream": "stderr",
       "text": [
        "\r",
        "Epoch 12/30:  41%|\u2588\u2588\u2588\u2588      | 117/285 [00:00<00:00, 196.52batches/s]"
       ]
      },
      {
       "output_type": "stream",
       "stream": "stderr",
       "text": [
        "\r",
        "Epoch 12/30:  48%|\u2588\u2588\u2588\u2588\u258a     | 138/285 [00:00<00:00, 199.30batches/s]"
       ]
      },
      {
       "output_type": "stream",
       "stream": "stderr",
       "text": [
        "\r",
        "Epoch 12/30:  55%|\u2588\u2588\u2588\u2588\u2588\u258c    | 158/285 [00:00<00:00, 198.26batches/s]"
       ]
      },
      {
       "output_type": "stream",
       "stream": "stderr",
       "text": [
        "\r",
        "Epoch 12/30:  63%|\u2588\u2588\u2588\u2588\u2588\u2588\u258e   | 179/285 [00:00<00:00, 200.34batches/s]"
       ]
      },
      {
       "output_type": "stream",
       "stream": "stderr",
       "text": [
        "\r",
        "Epoch 12/30:  70%|\u2588\u2588\u2588\u2588\u2588\u2588\u2588   | 200/285 [00:01<00:00, 202.92batches/s]"
       ]
      },
      {
       "output_type": "stream",
       "stream": "stderr",
       "text": [
        "\r",
        "Epoch 12/30:  78%|\u2588\u2588\u2588\u2588\u2588\u2588\u2588\u258a  | 221/285 [00:01<00:00, 203.38batches/s]"
       ]
      },
      {
       "output_type": "stream",
       "stream": "stderr",
       "text": [
        "\r",
        "Epoch 12/30:  85%|\u2588\u2588\u2588\u2588\u2588\u2588\u2588\u2588\u258d | 241/285 [00:01<00:00, 197.53batches/s]"
       ]
      },
      {
       "output_type": "stream",
       "stream": "stderr",
       "text": [
        "\r",
        "Epoch 12/30:  92%|\u2588\u2588\u2588\u2588\u2588\u2588\u2588\u2588\u2588\u258f| 261/285 [00:01<00:00, 197.23batches/s]"
       ]
      },
      {
       "output_type": "stream",
       "stream": "stderr",
       "text": [
        "\r",
        "Epoch 12/30:  99%|\u2588\u2588\u2588\u2588\u2588\u2588\u2588\u2588\u2588\u258a| 281/285 [00:01<00:00, 183.34batches/s]"
       ]
      },
      {
       "output_type": "stream",
       "stream": "stderr",
       "text": [
        "\r",
        "Epoch 12/30: 100%|\u2588\u2588\u2588\u2588\u2588\u2588\u2588\u2588\u2588\u2588| 285/285 [00:01<00:00, 191.37batches/s]"
       ]
      },
      {
       "output_type": "stream",
       "stream": "stderr",
       "text": [
        "\n",
        "\r",
        "Epoch 13/30:   0%|          | 0/285 [00:00<?, ?batches/s]"
       ]
      },
      {
       "output_type": "stream",
       "stream": "stderr",
       "text": [
        "\r",
        "Epoch 13/30:   5%|\u258d         | 13/285 [00:00<00:02, 124.98batches/s]"
       ]
      },
      {
       "output_type": "stream",
       "stream": "stderr",
       "text": [
        "\r",
        "Epoch 13/30:   8%|\u258a         | 24/285 [00:00<00:02, 119.54batches/s]"
       ]
      },
      {
       "output_type": "stream",
       "stream": "stderr",
       "text": [
        "\r",
        "Epoch 13/30:  16%|\u2588\u258c        | 46/285 [00:00<00:01, 136.46batches/s]"
       ]
      },
      {
       "output_type": "stream",
       "stream": "stderr",
       "text": [
        "\r",
        "Epoch 13/30:  26%|\u2588\u2588\u258c       | 73/285 [00:00<00:01, 159.96batches/s]"
       ]
      },
      {
       "output_type": "stream",
       "stream": "stderr",
       "text": [
        "\r",
        "Epoch 13/30:  37%|\u2588\u2588\u2588\u258b      | 105/285 [00:00<00:00, 188.15batches/s]"
       ]
      },
      {
       "output_type": "stream",
       "stream": "stderr",
       "text": [
        "\r",
        "Epoch 13/30:  44%|\u2588\u2588\u2588\u2588\u258d     | 126/285 [00:00<00:00, 189.13batches/s]"
       ]
      },
      {
       "output_type": "stream",
       "stream": "stderr",
       "text": [
        "\r",
        "Epoch 13/30:  51%|\u2588\u2588\u2588\u2588\u2588     | 146/285 [00:00<00:00, 174.01batches/s]"
       ]
      },
      {
       "output_type": "stream",
       "stream": "stderr",
       "text": [
        "\r",
        "Epoch 13/30:  60%|\u2588\u2588\u2588\u2588\u2588\u2588    | 172/285 [00:00<00:00, 192.99batches/s]"
       ]
      },
      {
       "output_type": "stream",
       "stream": "stderr",
       "text": [
        "\r",
        "Epoch 13/30:  68%|\u2588\u2588\u2588\u2588\u2588\u2588\u258a   | 193/285 [00:00<00:00, 190.80batches/s]"
       ]
      },
      {
       "output_type": "stream",
       "stream": "stderr",
       "text": [
        "\r",
        "Epoch 13/30:  76%|\u2588\u2588\u2588\u2588\u2588\u2588\u2588\u258c  | 216/285 [00:01<00:00, 200.43batches/s]"
       ]
      },
      {
       "output_type": "stream",
       "stream": "stderr",
       "text": [
        "\r",
        "Epoch 13/30:  85%|\u2588\u2588\u2588\u2588\u2588\u2588\u2588\u2588\u258c | 243/285 [00:01<00:00, 217.07batches/s]"
       ]
      },
      {
       "output_type": "stream",
       "stream": "stderr",
       "text": [
        "\r",
        "Epoch 13/30:  95%|\u2588\u2588\u2588\u2588\u2588\u2588\u2588\u2588\u2588\u258d| 270/285 [00:01<00:00, 229.48batches/s]"
       ]
      },
      {
       "output_type": "stream",
       "stream": "stderr",
       "text": [
        "\r",
        "Epoch 13/30: 100%|\u2588\u2588\u2588\u2588\u2588\u2588\u2588\u2588\u2588\u2588| 285/285 [00:01<00:00, 211.88batches/s]"
       ]
      },
      {
       "output_type": "stream",
       "stream": "stderr",
       "text": [
        "\n",
        "\r",
        "Epoch 14/30:   0%|          | 0/285 [00:00<?, ?batches/s]"
       ]
      },
      {
       "output_type": "stream",
       "stream": "stderr",
       "text": [
        "\r",
        "Epoch 14/30:   8%|\u258a         | 22/285 [00:00<00:01, 217.68batches/s]"
       ]
      },
      {
       "output_type": "stream",
       "stream": "stderr",
       "text": [
        "\r",
        "Epoch 14/30:  16%|\u2588\u258c        | 46/285 [00:00<00:01, 223.89batches/s]"
       ]
      },
      {
       "output_type": "stream",
       "stream": "stderr",
       "text": [
        "\r",
        "Epoch 14/30:  26%|\u2588\u2588\u258c       | 73/285 [00:00<00:00, 234.74batches/s]"
       ]
      },
      {
       "output_type": "stream",
       "stream": "stderr",
       "text": [
        "\r",
        "Epoch 14/30:  35%|\u2588\u2588\u2588\u258c      | 101/285 [00:00<00:00, 246.16batches/s]"
       ]
      },
      {
       "output_type": "stream",
       "stream": "stderr",
       "text": [
        "\r",
        "Epoch 14/30:  43%|\u2588\u2588\u2588\u2588\u258e     | 123/285 [00:00<00:00, 236.47batches/s]"
       ]
      },
      {
       "output_type": "stream",
       "stream": "stderr",
       "text": [
        "\r",
        "Epoch 14/30:  54%|\u2588\u2588\u2588\u2588\u2588\u258d    | 155/285 [00:00<00:00, 255.52batches/s]"
       ]
      },
      {
       "output_type": "stream",
       "stream": "stderr",
       "text": [
        "\r",
        "Epoch 14/30:  64%|\u2588\u2588\u2588\u2588\u2588\u2588\u258d   | 182/285 [00:00<00:00, 259.18batches/s]"
       ]
      },
      {
       "output_type": "stream",
       "stream": "stderr",
       "text": [
        "\r",
        "Epoch 14/30:  74%|\u2588\u2588\u2588\u2588\u2588\u2588\u2588\u258d  | 211/285 [00:00<00:00, 267.46batches/s]"
       ]
      },
      {
       "output_type": "stream",
       "stream": "stderr",
       "text": [
        "\r",
        "Epoch 14/30:  85%|\u2588\u2588\u2588\u2588\u2588\u2588\u2588\u2588\u258d | 241/285 [00:00<00:00, 275.57batches/s]"
       ]
      },
      {
       "output_type": "stream",
       "stream": "stderr",
       "text": [
        "\r",
        "Epoch 14/30:  95%|\u2588\u2588\u2588\u2588\u2588\u2588\u2588\u2588\u2588\u258c| 272/285 [00:01<00:00, 284.80batches/s]"
       ]
      },
      {
       "output_type": "stream",
       "stream": "stderr",
       "text": [
        "\r",
        "Epoch 14/30: 100%|\u2588\u2588\u2588\u2588\u2588\u2588\u2588\u2588\u2588\u2588| 285/285 [00:01<00:00, 266.32batches/s]"
       ]
      },
      {
       "output_type": "stream",
       "stream": "stderr",
       "text": [
        "\n",
        "\r",
        "Epoch 15/30:   0%|          | 0/285 [00:00<?, ?batches/s]"
       ]
      },
      {
       "output_type": "stream",
       "stream": "stderr",
       "text": [
        "\r",
        "Epoch 15/30:   9%|\u2589         | 27/285 [00:00<00:00, 269.07batches/s]"
       ]
      },
      {
       "output_type": "stream",
       "stream": "stderr",
       "text": [
        "\r",
        "Epoch 15/30:  18%|\u2588\u258a        | 52/285 [00:00<00:00, 262.83batches/s]"
       ]
      },
      {
       "output_type": "stream",
       "stream": "stderr",
       "text": [
        "\r",
        "Epoch 15/30:  29%|\u2588\u2588\u2589       | 82/285 [00:00<00:00, 272.15batches/s]"
       ]
      },
      {
       "output_type": "stream",
       "stream": "stderr",
       "text": [
        "\r",
        "Epoch 15/30:  39%|\u2588\u2588\u2588\u2589      | 112/285 [00:00<00:00, 279.63batches/s]"
       ]
      },
      {
       "output_type": "stream",
       "stream": "stderr",
       "text": [
        "\r",
        "Epoch 15/30:  50%|\u2588\u2588\u2588\u2588\u2589     | 142/285 [00:00<00:00, 283.62batches/s]"
       ]
      },
      {
       "output_type": "stream",
       "stream": "stderr",
       "text": [
        "\r",
        "Epoch 15/30:  60%|\u2588\u2588\u2588\u2588\u2588\u2588    | 172/285 [00:00<00:00, 288.05batches/s]"
       ]
      },
      {
       "output_type": "stream",
       "stream": "stderr",
       "text": [
        "\r",
        "Epoch 15/30:  70%|\u2588\u2588\u2588\u2588\u2588\u2588\u2589   | 199/285 [00:00<00:00, 279.19batches/s]"
       ]
      },
      {
       "output_type": "stream",
       "stream": "stderr",
       "text": [
        "\r",
        "Epoch 15/30:  79%|\u2588\u2588\u2588\u2588\u2588\u2588\u2588\u2589  | 225/285 [00:00<00:00, 273.10batches/s]"
       ]
      },
      {
       "output_type": "stream",
       "stream": "stderr",
       "text": [
        "\r",
        "Epoch 15/30:  90%|\u2588\u2588\u2588\u2588\u2588\u2588\u2588\u2588\u2588 | 257/285 [00:00<00:00, 284.91batches/s]"
       ]
      },
      {
       "output_type": "stream",
       "stream": "stderr",
       "text": [
        "\r",
        "Epoch 15/30: 100%|\u2588\u2588\u2588\u2588\u2588\u2588\u2588\u2588\u2588\u2588| 285/285 [00:01<00:00, 281.30batches/s]"
       ]
      },
      {
       "output_type": "stream",
       "stream": "stderr",
       "text": [
        "\n",
        "\r",
        "Epoch 16/30:   0%|          | 0/285 [00:00<?, ?batches/s]"
       ]
      },
      {
       "output_type": "stream",
       "stream": "stderr",
       "text": [
        "\r",
        "Epoch 16/30:   7%|\u258b         | 19/285 [00:00<00:01, 189.87batches/s]"
       ]
      },
      {
       "output_type": "stream",
       "stream": "stderr",
       "text": [
        "\r",
        "Epoch 16/30:  17%|\u2588\u258b        | 49/285 [00:00<00:01, 212.23batches/s]"
       ]
      },
      {
       "output_type": "stream",
       "stream": "stderr",
       "text": [
        "\r",
        "Epoch 16/30:  28%|\u2588\u2588\u258a       | 79/285 [00:00<00:00, 232.34batches/s]"
       ]
      },
      {
       "output_type": "stream",
       "stream": "stderr",
       "text": [
        "\r",
        "Epoch 16/30:  39%|\u2588\u2588\u2588\u258a      | 110/285 [00:00<00:00, 250.94batches/s]"
       ]
      },
      {
       "output_type": "stream",
       "stream": "stderr",
       "text": [
        "\r",
        "Epoch 16/30:  48%|\u2588\u2588\u2588\u2588\u258a     | 138/285 [00:00<00:00, 257.52batches/s]"
       ]
      },
      {
       "output_type": "stream",
       "stream": "stderr",
       "text": [
        "\r",
        "Epoch 16/30:  59%|\u2588\u2588\u2588\u2588\u2588\u2589    | 168/285 [00:00<00:00, 268.94batches/s]"
       ]
      },
      {
       "output_type": "stream",
       "stream": "stderr",
       "text": [
        "\r",
        "Epoch 16/30:  69%|\u2588\u2588\u2588\u2588\u2588\u2588\u2589   | 196/285 [00:00<00:00, 272.03batches/s]"
       ]
      },
      {
       "output_type": "stream",
       "stream": "stderr",
       "text": [
        "\r",
        "Epoch 16/30:  79%|\u2588\u2588\u2588\u2588\u2588\u2588\u2588\u2589  | 225/285 [00:00<00:00, 275.72batches/s]"
       ]
      },
      {
       "output_type": "stream",
       "stream": "stderr",
       "text": [
        "\r",
        "Epoch 16/30:  89%|\u2588\u2588\u2588\u2588\u2588\u2588\u2588\u2588\u2589 | 255/285 [00:00<00:00, 280.85batches/s]"
       ]
      },
      {
       "output_type": "stream",
       "stream": "stderr",
       "text": [
        "\r",
        "Epoch 16/30:  99%|\u2588\u2588\u2588\u2588\u2588\u2588\u2588\u2588\u2588\u2589| 283/285 [00:01<00:00, 271.10batches/s]"
       ]
      },
      {
       "output_type": "stream",
       "stream": "stderr",
       "text": [
        "\r",
        "Epoch 16/30: 100%|\u2588\u2588\u2588\u2588\u2588\u2588\u2588\u2588\u2588\u2588| 285/285 [00:01<00:00, 276.61batches/s]"
       ]
      },
      {
       "output_type": "stream",
       "stream": "stderr",
       "text": [
        "\n",
        "\r",
        "Epoch 17/30:   0%|          | 0/285 [00:00<?, ?batches/s]"
       ]
      },
      {
       "output_type": "stream",
       "stream": "stderr",
       "text": [
        "\r",
        "Epoch 17/30:   7%|\u258b         | 19/285 [00:00<00:01, 189.93batches/s]"
       ]
      },
      {
       "output_type": "stream",
       "stream": "stderr",
       "text": [
        "\r",
        "Epoch 17/30:  15%|\u2588\u258c        | 44/285 [00:00<00:01, 204.63batches/s]"
       ]
      },
      {
       "output_type": "stream",
       "stream": "stderr",
       "text": [
        "\r",
        "Epoch 17/30:  25%|\u2588\u2588\u258d       | 70/285 [00:00<00:00, 217.72batches/s]"
       ]
      },
      {
       "output_type": "stream",
       "stream": "stderr",
       "text": [
        "\r",
        "Epoch 17/30:  35%|\u2588\u2588\u2588\u258c      | 100/285 [00:00<00:00, 237.08batches/s]"
       ]
      },
      {
       "output_type": "stream",
       "stream": "stderr",
       "text": [
        "\r",
        "Epoch 17/30:  46%|\u2588\u2588\u2588\u2588\u258c     | 130/285 [00:00<00:00, 252.00batches/s]"
       ]
      },
      {
       "output_type": "stream",
       "stream": "stderr",
       "text": [
        "\r",
        "Epoch 17/30:  56%|\u2588\u2588\u2588\u2588\u2588\u258b    | 161/285 [00:00<00:00, 266.77batches/s]"
       ]
      },
      {
       "output_type": "stream",
       "stream": "stderr",
       "text": [
        "\r",
        "Epoch 17/30:  66%|\u2588\u2588\u2588\u2588\u2588\u2588\u258c   | 187/285 [00:00<00:00, 257.29batches/s]"
       ]
      },
      {
       "output_type": "stream",
       "stream": "stderr",
       "text": [
        "\r",
        "Epoch 17/30:  76%|\u2588\u2588\u2588\u2588\u2588\u2588\u2588\u258c  | 217/285 [00:00<00:00, 268.34batches/s]"
       ]
      },
      {
       "output_type": "stream",
       "stream": "stderr",
       "text": [
        "\r",
        "Epoch 17/30:  87%|\u2588\u2588\u2588\u2588\u2588\u2588\u2588\u2588\u258b | 247/285 [00:00<00:00, 276.21batches/s]"
       ]
      },
      {
       "output_type": "stream",
       "stream": "stderr",
       "text": [
        "\r",
        "Epoch 17/30:  98%|\u2588\u2588\u2588\u2588\u2588\u2588\u2588\u2588\u2588\u258a| 279/285 [00:01<00:00, 287.38batches/s]"
       ]
      },
      {
       "output_type": "stream",
       "stream": "stderr",
       "text": [
        "\r",
        "Epoch 17/30: 100%|\u2588\u2588\u2588\u2588\u2588\u2588\u2588\u2588\u2588\u2588| 285/285 [00:01<00:00, 273.24batches/s]"
       ]
      },
      {
       "output_type": "stream",
       "stream": "stderr",
       "text": [
        "\n",
        "\r",
        "Epoch 18/30:   0%|          | 0/285 [00:00<?, ?batches/s]"
       ]
      },
      {
       "output_type": "stream",
       "stream": "stderr",
       "text": [
        "\r",
        "Epoch 18/30:   9%|\u2589         | 27/285 [00:00<00:00, 268.97batches/s]"
       ]
      },
      {
       "output_type": "stream",
       "stream": "stderr",
       "text": [
        "\r",
        "Epoch 18/30:  19%|\u2588\u2589        | 55/285 [00:00<00:00, 271.58batches/s]"
       ]
      },
      {
       "output_type": "stream",
       "stream": "stderr",
       "text": [
        "\r",
        "Epoch 18/30:  30%|\u2588\u2588\u2588       | 86/285 [00:00<00:00, 280.65batches/s]"
       ]
      },
      {
       "output_type": "stream",
       "stream": "stderr",
       "text": [
        "\r",
        "Epoch 18/30:  39%|\u2588\u2588\u2588\u2589      | 111/285 [00:00<00:00, 268.69batches/s]"
       ]
      },
      {
       "output_type": "stream",
       "stream": "stderr",
       "text": [
        "\r",
        "Epoch 18/30:  50%|\u2588\u2588\u2588\u2588\u2588     | 143/285 [00:00<00:00, 280.81batches/s]"
       ]
      },
      {
       "output_type": "stream",
       "stream": "stderr",
       "text": [
        "\r",
        "Epoch 18/30:  61%|\u2588\u2588\u2588\u2588\u2588\u2588\u258f   | 175/285 [00:00<00:00, 289.90batches/s]"
       ]
      },
      {
       "output_type": "stream",
       "stream": "stderr",
       "text": [
        "\r",
        "Epoch 18/30:  72%|\u2588\u2588\u2588\u2588\u2588\u2588\u2588\u258f  | 206/285 [00:00<00:00, 294.23batches/s]"
       ]
      },
      {
       "output_type": "stream",
       "stream": "stderr",
       "text": [
        "\r",
        "Epoch 18/30:  84%|\u2588\u2588\u2588\u2588\u2588\u2588\u2588\u2588\u258e | 238/285 [00:00<00:00, 300.00batches/s]"
       ]
      },
      {
       "output_type": "stream",
       "stream": "stderr",
       "text": [
        "\r",
        "Epoch 18/30:  94%|\u2588\u2588\u2588\u2588\u2588\u2588\u2588\u2588\u2588\u258d| 269/285 [00:00<00:00, 302.74batches/s]"
       ]
      },
      {
       "output_type": "stream",
       "stream": "stderr",
       "text": [
        "\r",
        "Epoch 18/30: 100%|\u2588\u2588\u2588\u2588\u2588\u2588\u2588\u2588\u2588\u2588| 285/285 [00:00<00:00, 290.89batches/s]"
       ]
      },
      {
       "output_type": "stream",
       "stream": "stderr",
       "text": [
        "\n",
        "\r",
        "Epoch 19/30:   0%|          | 0/285 [00:00<?, ?batches/s]"
       ]
      },
      {
       "output_type": "stream",
       "stream": "stderr",
       "text": [
        "\r",
        "Epoch 19/30:   9%|\u2589         | 25/285 [00:00<00:01, 244.97batches/s]"
       ]
      },
      {
       "output_type": "stream",
       "stream": "stderr",
       "text": [
        "\r",
        "Epoch 19/30:  20%|\u2588\u2588        | 57/285 [00:00<00:00, 263.07batches/s]"
       ]
      },
      {
       "output_type": "stream",
       "stream": "stderr",
       "text": [
        "\r",
        "Epoch 19/30:  31%|\u2588\u2588\u2588       | 88/285 [00:00<00:00, 273.56batches/s]"
       ]
      },
      {
       "output_type": "stream",
       "stream": "stderr",
       "text": [
        "\r",
        "Epoch 19/30:  41%|\u2588\u2588\u2588\u2588\u258f     | 118/285 [00:00<00:00, 280.73batches/s]"
       ]
      },
      {
       "output_type": "stream",
       "stream": "stderr",
       "text": [
        "\r",
        "Epoch 19/30:  53%|\u2588\u2588\u2588\u2588\u2588\u258e    | 150/285 [00:00<00:00, 281.71batches/s]"
       ]
      },
      {
       "output_type": "stream",
       "stream": "stderr",
       "text": [
        "\r",
        "Epoch 19/30:  64%|\u2588\u2588\u2588\u2588\u2588\u2588\u258d   | 182/285 [00:00<00:00, 290.59batches/s]"
       ]
      },
      {
       "output_type": "stream",
       "stream": "stderr",
       "text": [
        "\r",
        "Epoch 19/30:  75%|\u2588\u2588\u2588\u2588\u2588\u2588\u2588\u258d  | 213/285 [00:00<00:00, 295.16batches/s]"
       ]
      },
      {
       "output_type": "stream",
       "stream": "stderr",
       "text": [
        "\r",
        "Epoch 19/30:  86%|\u2588\u2588\u2588\u2588\u2588\u2588\u2588\u2588\u258c | 245/285 [00:00<00:00, 301.56batches/s]"
       ]
      },
      {
       "output_type": "stream",
       "stream": "stderr",
       "text": [
        "\r",
        "Epoch 19/30:  97%|\u2588\u2588\u2588\u2588\u2588\u2588\u2588\u2588\u2588\u258b| 276/285 [00:00<00:00, 303.06batches/s]"
       ]
      },
      {
       "output_type": "stream",
       "stream": "stderr",
       "text": [
        "\r",
        "Epoch 19/30: 100%|\u2588\u2588\u2588\u2588\u2588\u2588\u2588\u2588\u2588\u2588| 285/285 [00:00<00:00, 294.07batches/s]"
       ]
      },
      {
       "output_type": "stream",
       "stream": "stderr",
       "text": [
        "\n",
        "\r",
        "Epoch 20/30:   0%|          | 0/285 [00:00<?, ?batches/s]"
       ]
      },
      {
       "output_type": "stream",
       "stream": "stderr",
       "text": [
        "\r",
        "Epoch 20/30:   9%|\u2589         | 26/285 [00:00<00:01, 257.34batches/s]"
       ]
      },
      {
       "output_type": "stream",
       "stream": "stderr",
       "text": [
        "\r",
        "Epoch 20/30:  20%|\u2588\u2589        | 56/285 [00:00<00:00, 267.18batches/s]"
       ]
      },
      {
       "output_type": "stream",
       "stream": "stderr",
       "text": [
        "\r",
        "Epoch 20/30:  31%|\u2588\u2588\u2588       | 88/285 [00:00<00:00, 279.99batches/s]"
       ]
      },
      {
       "output_type": "stream",
       "stream": "stderr",
       "text": [
        "\r",
        "Epoch 20/30:  42%|\u2588\u2588\u2588\u2588\u258f     | 119/285 [00:00<00:00, 287.00batches/s]"
       ]
      },
      {
       "output_type": "stream",
       "stream": "stderr",
       "text": [
        "\r",
        "Epoch 20/30:  53%|\u2588\u2588\u2588\u2588\u2588\u258e    | 151/285 [00:00<00:00, 294.85batches/s]"
       ]
      },
      {
       "output_type": "stream",
       "stream": "stderr",
       "text": [
        "\r",
        "Epoch 20/30:  64%|\u2588\u2588\u2588\u2588\u2588\u2588\u258d   | 183/285 [00:00<00:00, 300.43batches/s]"
       ]
      },
      {
       "output_type": "stream",
       "stream": "stderr",
       "text": [
        "\r",
        "Epoch 20/30:  75%|\u2588\u2588\u2588\u2588\u2588\u2588\u2588\u258c  | 215/285 [00:00<00:00, 305.33batches/s]"
       ]
      },
      {
       "output_type": "stream",
       "stream": "stderr",
       "text": [
        "\r",
        "Epoch 20/30:  86%|\u2588\u2588\u2588\u2588\u2588\u2588\u2588\u2588\u258c | 244/285 [00:00<00:00, 299.16batches/s]"
       ]
      },
      {
       "output_type": "stream",
       "stream": "stderr",
       "text": [
        "\r",
        "Epoch 20/30:  97%|\u2588\u2588\u2588\u2588\u2588\u2588\u2588\u2588\u2588\u258b| 276/285 [00:00<00:00, 303.89batches/s]"
       ]
      },
      {
       "output_type": "stream",
       "stream": "stderr",
       "text": [
        "\r",
        "Epoch 20/30: 100%|\u2588\u2588\u2588\u2588\u2588\u2588\u2588\u2588\u2588\u2588| 285/285 [00:00<00:00, 300.40batches/s]"
       ]
      },
      {
       "output_type": "stream",
       "stream": "stderr",
       "text": [
        "\n",
        "\r",
        "Epoch 21/30:   0%|          | 0/285 [00:00<?, ?batches/s]"
       ]
      },
      {
       "output_type": "stream",
       "stream": "stderr",
       "text": [
        "\r",
        "Epoch 21/30:  10%|\u2588         | 29/285 [00:00<00:00, 287.29batches/s]"
       ]
      },
      {
       "output_type": "stream",
       "stream": "stderr",
       "text": [
        "\r",
        "Epoch 21/30:  21%|\u2588\u2588        | 59/285 [00:00<00:00, 290.48batches/s]"
       ]
      },
      {
       "output_type": "stream",
       "stream": "stderr",
       "text": [
        "\r",
        "Epoch 21/30:  31%|\u2588\u2588\u2588       | 88/285 [00:00<00:00, 289.99batches/s]"
       ]
      },
      {
       "output_type": "stream",
       "stream": "stderr",
       "text": [
        "\r",
        "Epoch 21/30:  41%|\u2588\u2588\u2588\u2588      | 116/285 [00:00<00:00, 286.27batches/s]"
       ]
      },
      {
       "output_type": "stream",
       "stream": "stderr",
       "text": [
        "\r",
        "Epoch 21/30:  52%|\u2588\u2588\u2588\u2588\u2588\u258f    | 148/285 [00:00<00:00, 294.12batches/s]"
       ]
      },
      {
       "output_type": "stream",
       "stream": "stderr",
       "text": [
        "\r",
        "Epoch 21/30:  63%|\u2588\u2588\u2588\u2588\u2588\u2588\u258e   | 179/285 [00:00<00:00, 298.09batches/s]"
       ]
      },
      {
       "output_type": "stream",
       "stream": "stderr",
       "text": [
        "\r",
        "Epoch 21/30:  74%|\u2588\u2588\u2588\u2588\u2588\u2588\u2588\u258d  | 211/285 [00:00<00:00, 302.66batches/s]"
       ]
      },
      {
       "output_type": "stream",
       "stream": "stderr",
       "text": [
        "\r",
        "Epoch 21/30:  85%|\u2588\u2588\u2588\u2588\u2588\u2588\u2588\u2588\u258c | 243/285 [00:00<00:00, 306.71batches/s]"
       ]
      },
      {
       "output_type": "stream",
       "stream": "stderr",
       "text": [
        "\r",
        "Epoch 21/30:  96%|\u2588\u2588\u2588\u2588\u2588\u2588\u2588\u2588\u2588\u258b| 275/285 [00:00<00:00, 309.11batches/s]"
       ]
      },
      {
       "output_type": "stream",
       "stream": "stderr",
       "text": [
        "\r",
        "Epoch 21/30: 100%|\u2588\u2588\u2588\u2588\u2588\u2588\u2588\u2588\u2588\u2588| 285/285 [00:00<00:00, 294.89batches/s]"
       ]
      },
      {
       "output_type": "stream",
       "stream": "stderr",
       "text": [
        "\n",
        "\r",
        "Epoch 22/30:   0%|          | 0/285 [00:00<?, ?batches/s]"
       ]
      },
      {
       "output_type": "stream",
       "stream": "stderr",
       "text": [
        "\r",
        "Epoch 22/30:   9%|\u2589         | 26/285 [00:00<00:01, 255.22batches/s]"
       ]
      },
      {
       "output_type": "stream",
       "stream": "stderr",
       "text": [
        "\r",
        "Epoch 22/30:  20%|\u2588\u2589        | 56/285 [00:00<00:00, 266.16batches/s]"
       ]
      },
      {
       "output_type": "stream",
       "stream": "stderr",
       "text": [
        "\r",
        "Epoch 22/30:  31%|\u2588\u2588\u2588       | 87/285 [00:00<00:00, 276.33batches/s]"
       ]
      },
      {
       "output_type": "stream",
       "stream": "stderr",
       "text": [
        "\r",
        "Epoch 22/30:  42%|\u2588\u2588\u2588\u2588\u258f     | 119/285 [00:00<00:00, 287.21batches/s]"
       ]
      },
      {
       "output_type": "stream",
       "stream": "stderr",
       "text": [
        "\r",
        "Epoch 22/30:  53%|\u2588\u2588\u2588\u2588\u2588\u258e    | 150/285 [00:00<00:00, 293.40batches/s]"
       ]
      },
      {
       "output_type": "stream",
       "stream": "stderr",
       "text": [
        "\r",
        "Epoch 22/30:  62%|\u2588\u2588\u2588\u2588\u2588\u2588\u258f   | 178/285 [00:00<00:00, 287.09batches/s]"
       ]
      },
      {
       "output_type": "stream",
       "stream": "stderr",
       "text": [
        "\r",
        "Epoch 22/30:  73%|\u2588\u2588\u2588\u2588\u2588\u2588\u2588\u258e  | 209/285 [00:00<00:00, 292.04batches/s]"
       ]
      },
      {
       "output_type": "stream",
       "stream": "stderr",
       "text": [
        "\r",
        "Epoch 22/30:  84%|\u2588\u2588\u2588\u2588\u2588\u2588\u2588\u2588\u258d | 240/285 [00:00<00:00, 296.73batches/s]"
       ]
      },
      {
       "output_type": "stream",
       "stream": "stderr",
       "text": [
        "\r",
        "Epoch 22/30:  95%|\u2588\u2588\u2588\u2588\u2588\u2588\u2588\u2588\u2588\u258c| 272/285 [00:00<00:00, 301.49batches/s]"
       ]
      },
      {
       "output_type": "stream",
       "stream": "stderr",
       "text": [
        "\r",
        "Epoch 22/30: 100%|\u2588\u2588\u2588\u2588\u2588\u2588\u2588\u2588\u2588\u2588| 285/285 [00:00<00:00, 293.58batches/s]"
       ]
      },
      {
       "output_type": "stream",
       "stream": "stderr",
       "text": [
        "\n",
        "\r",
        "Epoch 23/30:   0%|          | 0/285 [00:00<?, ?batches/s]"
       ]
      },
      {
       "output_type": "stream",
       "stream": "stderr",
       "text": [
        "\r",
        "Epoch 23/30:   9%|\u2589         | 26/285 [00:00<00:01, 254.89batches/s]"
       ]
      },
      {
       "output_type": "stream",
       "stream": "stderr",
       "text": [
        "\r",
        "Epoch 23/30:  20%|\u2588\u2589        | 56/285 [00:00<00:00, 265.64batches/s]"
       ]
      },
      {
       "output_type": "stream",
       "stream": "stderr",
       "text": [
        "\r",
        "Epoch 23/30:  30%|\u2588\u2588\u2588       | 86/285 [00:00<00:00, 274.45batches/s]"
       ]
      },
      {
       "output_type": "stream",
       "stream": "stderr",
       "text": [
        "\r",
        "Epoch 23/30:  41%|\u2588\u2588\u2588\u2588\u258f     | 118/285 [00:00<00:00, 286.24batches/s]"
       ]
      },
      {
       "output_type": "stream",
       "stream": "stderr",
       "text": [
        "\r",
        "Epoch 23/30:  52%|\u2588\u2588\u2588\u2588\u2588\u258f    | 147/285 [00:00<00:00, 287.23batches/s]"
       ]
      },
      {
       "output_type": "stream",
       "stream": "stderr",
       "text": [
        "\r",
        "Epoch 23/30:  63%|\u2588\u2588\u2588\u2588\u2588\u2588\u258e   | 179/285 [00:00<00:00, 294.50batches/s]"
       ]
      },
      {
       "output_type": "stream",
       "stream": "stderr",
       "text": [
        "\r",
        "Epoch 23/30:  73%|\u2588\u2588\u2588\u2588\u2588\u2588\u2588\u258e  | 209/285 [00:00<00:00, 295.26batches/s]"
       ]
      },
      {
       "output_type": "stream",
       "stream": "stderr",
       "text": [
        "\r",
        "Epoch 23/30:  83%|\u2588\u2588\u2588\u2588\u2588\u2588\u2588\u2588\u258e | 237/285 [00:00<00:00, 289.20batches/s]"
       ]
      },
      {
       "output_type": "stream",
       "stream": "stderr",
       "text": [
        "\r",
        "Epoch 23/30:  94%|\u2588\u2588\u2588\u2588\u2588\u2588\u2588\u2588\u2588\u258e| 267/285 [00:00<00:00, 291.87batches/s]"
       ]
      },
      {
       "output_type": "stream",
       "stream": "stderr",
       "text": [
        "\r",
        "Epoch 23/30: 100%|\u2588\u2588\u2588\u2588\u2588\u2588\u2588\u2588\u2588\u2588| 285/285 [00:00<00:00, 290.96batches/s]"
       ]
      },
      {
       "output_type": "stream",
       "stream": "stderr",
       "text": [
        "\n",
        "\r",
        "Epoch 24/30:   0%|          | 0/285 [00:00<?, ?batches/s]"
       ]
      },
      {
       "output_type": "stream",
       "stream": "stderr",
       "text": [
        "\r",
        "Epoch 24/30:   9%|\u2589         | 25/285 [00:00<00:01, 245.38batches/s]"
       ]
      },
      {
       "output_type": "stream",
       "stream": "stderr",
       "text": [
        "\r",
        "Epoch 24/30:  19%|\u2588\u2589        | 55/285 [00:00<00:00, 258.97batches/s]"
       ]
      },
      {
       "output_type": "stream",
       "stream": "stderr",
       "text": [
        "\r",
        "Epoch 24/30:  30%|\u2588\u2588\u2589       | 85/285 [00:00<00:00, 269.13batches/s]"
       ]
      },
      {
       "output_type": "stream",
       "stream": "stderr",
       "text": [
        "\r",
        "Epoch 24/30:  40%|\u2588\u2588\u2588\u2588      | 115/285 [00:00<00:00, 276.11batches/s]"
       ]
      },
      {
       "output_type": "stream",
       "stream": "stderr",
       "text": [
        "\r",
        "Epoch 24/30:  51%|\u2588\u2588\u2588\u2588\u2588     | 146/285 [00:00<00:00, 284.31batches/s]"
       ]
      },
      {
       "output_type": "stream",
       "stream": "stderr",
       "text": [
        "\r",
        "Epoch 24/30:  62%|\u2588\u2588\u2588\u2588\u2588\u2588\u258f   | 178/285 [00:00<00:00, 293.97batches/s]"
       ]
      },
      {
       "output_type": "stream",
       "stream": "stderr",
       "text": [
        "\r",
        "Epoch 24/30:  73%|\u2588\u2588\u2588\u2588\u2588\u2588\u2588\u258e  | 207/285 [00:00<00:00, 291.67batches/s]"
       ]
      },
      {
       "output_type": "stream",
       "stream": "stderr",
       "text": [
        "\r",
        "Epoch 24/30:  84%|\u2588\u2588\u2588\u2588\u2588\u2588\u2588\u2588\u258e | 238/285 [00:00<00:00, 296.91batches/s]"
       ]
      },
      {
       "output_type": "stream",
       "stream": "stderr",
       "text": [
        "\r",
        "Epoch 24/30:  94%|\u2588\u2588\u2588\u2588\u2588\u2588\u2588\u2588\u2588\u258d| 268/285 [00:00<00:00, 297.47batches/s]"
       ]
      },
      {
       "output_type": "stream",
       "stream": "stderr",
       "text": [
        "\r",
        "Epoch 24/30: 100%|\u2588\u2588\u2588\u2588\u2588\u2588\u2588\u2588\u2588\u2588| 285/285 [00:00<00:00, 290.05batches/s]"
       ]
      },
      {
       "output_type": "stream",
       "stream": "stderr",
       "text": [
        "\n",
        "\r",
        "Epoch 25/30:   0%|          | 0/285 [00:00<?, ?batches/s]"
       ]
      },
      {
       "output_type": "stream",
       "stream": "stderr",
       "text": [
        "\r",
        "Epoch 25/30:   8%|\u258a         | 24/285 [00:00<00:01, 235.09batches/s]"
       ]
      },
      {
       "output_type": "stream",
       "stream": "stderr",
       "text": [
        "\r",
        "Epoch 25/30:  19%|\u2588\u258a        | 53/285 [00:00<00:00, 248.76batches/s]"
       ]
      },
      {
       "output_type": "stream",
       "stream": "stderr",
       "text": [
        "\r",
        "Epoch 25/30:  29%|\u2588\u2588\u2589       | 84/285 [00:00<00:00, 263.07batches/s]"
       ]
      },
      {
       "output_type": "stream",
       "stream": "stderr",
       "text": [
        "\r",
        "Epoch 25/30:  40%|\u2588\u2588\u2588\u2588      | 115/285 [00:00<00:00, 274.31batches/s]"
       ]
      },
      {
       "output_type": "stream",
       "stream": "stderr",
       "text": [
        "\r",
        "Epoch 25/30:  52%|\u2588\u2588\u2588\u2588\u2588\u258f    | 147/285 [00:00<00:00, 285.65batches/s]"
       ]
      },
      {
       "output_type": "stream",
       "stream": "stderr",
       "text": [
        "\r",
        "Epoch 25/30:  61%|\u2588\u2588\u2588\u2588\u2588\u2588\u258f   | 175/285 [00:00<00:00, 282.12batches/s]"
       ]
      },
      {
       "output_type": "stream",
       "stream": "stderr",
       "text": [
        "\r",
        "Epoch 25/30:  73%|\u2588\u2588\u2588\u2588\u2588\u2588\u2588\u258e  | 207/285 [00:00<00:00, 290.63batches/s]"
       ]
      },
      {
       "output_type": "stream",
       "stream": "stderr",
       "text": [
        "\r",
        "Epoch 25/30:  84%|\u2588\u2588\u2588\u2588\u2588\u2588\u2588\u2588\u258e | 238/285 [00:00<00:00, 294.27batches/s]"
       ]
      },
      {
       "output_type": "stream",
       "stream": "stderr",
       "text": [
        "\r",
        "Epoch 25/30:  95%|\u2588\u2588\u2588\u2588\u2588\u2588\u2588\u2588\u2588\u258d| 270/285 [00:00<00:00, 301.36batches/s]"
       ]
      },
      {
       "output_type": "stream",
       "stream": "stderr",
       "text": [
        "\r",
        "Epoch 25/30: 100%|\u2588\u2588\u2588\u2588\u2588\u2588\u2588\u2588\u2588\u2588| 285/285 [00:00<00:00, 292.62batches/s]"
       ]
      },
      {
       "output_type": "stream",
       "stream": "stderr",
       "text": [
        "\n",
        "\r",
        "Epoch 26/30:   0%|          | 0/285 [00:00<?, ?batches/s]"
       ]
      },
      {
       "output_type": "stream",
       "stream": "stderr",
       "text": [
        "\r",
        "Epoch 26/30:   9%|\u2589         | 26/285 [00:00<00:01, 254.30batches/s]"
       ]
      },
      {
       "output_type": "stream",
       "stream": "stderr",
       "text": [
        "\r",
        "Epoch 26/30:  19%|\u2588\u2589        | 55/285 [00:00<00:00, 262.86batches/s]"
       ]
      },
      {
       "output_type": "stream",
       "stream": "stderr",
       "text": [
        "\r",
        "Epoch 26/30:  26%|\u2588\u2588\u258b       | 75/285 [00:00<00:00, 238.75batches/s]"
       ]
      },
      {
       "output_type": "stream",
       "stream": "stderr",
       "text": [
        "\r",
        "Epoch 26/30:  32%|\u2588\u2588\u2588\u258f      | 92/285 [00:00<00:00, 212.78batches/s]"
       ]
      },
      {
       "output_type": "stream",
       "stream": "stderr",
       "text": [
        "\r",
        "Epoch 26/30:  40%|\u2588\u2588\u2588\u2588      | 114/285 [00:00<00:00, 213.59batches/s]"
       ]
      },
      {
       "output_type": "stream",
       "stream": "stderr",
       "text": [
        "\r",
        "Epoch 26/30:  51%|\u2588\u2588\u2588\u2588\u2588     | 144/285 [00:00<00:00, 232.75batches/s]"
       ]
      },
      {
       "output_type": "stream",
       "stream": "stderr",
       "text": [
        "\r",
        "Epoch 26/30:  60%|\u2588\u2588\u2588\u2588\u2588\u2588    | 172/285 [00:00<00:00, 241.10batches/s]"
       ]
      },
      {
       "output_type": "stream",
       "stream": "stderr",
       "text": [
        "\r",
        "Epoch 26/30:  69%|\u2588\u2588\u2588\u2588\u2588\u2588\u2589   | 198/285 [00:00<00:00, 244.85batches/s]"
       ]
      },
      {
       "output_type": "stream",
       "stream": "stderr",
       "text": [
        "\r",
        "Epoch 26/30:  79%|\u2588\u2588\u2588\u2588\u2588\u2588\u2588\u258a  | 224/285 [00:00<00:00, 248.53batches/s]"
       ]
      },
      {
       "output_type": "stream",
       "stream": "stderr",
       "text": [
        "\r",
        "Epoch 26/30:  87%|\u2588\u2588\u2588\u2588\u2588\u2588\u2588\u2588\u258b | 249/285 [00:01<00:00, 248.45batches/s]"
       ]
      },
      {
       "output_type": "stream",
       "stream": "stderr",
       "text": [
        "\r",
        "Epoch 26/30:  96%|\u2588\u2588\u2588\u2588\u2588\u2588\u2588\u2588\u2588\u258c| 274/285 [00:01<00:00, 247.49batches/s]"
       ]
      },
      {
       "output_type": "stream",
       "stream": "stderr",
       "text": [
        "\r",
        "Epoch 26/30: 100%|\u2588\u2588\u2588\u2588\u2588\u2588\u2588\u2588\u2588\u2588| 285/285 [00:01<00:00, 240.65batches/s]"
       ]
      },
      {
       "output_type": "stream",
       "stream": "stderr",
       "text": [
        "\n",
        "\r",
        "Epoch 27/30:   0%|          | 0/285 [00:00<?, ?batches/s]"
       ]
      },
      {
       "output_type": "stream",
       "stream": "stderr",
       "text": [
        "\r",
        "Epoch 27/30:   6%|\u258b         | 18/285 [00:00<00:01, 174.93batches/s]"
       ]
      },
      {
       "output_type": "stream",
       "stream": "stderr",
       "text": [
        "\r",
        "Epoch 27/30:  15%|\u2588\u258d        | 42/285 [00:00<00:01, 189.23batches/s]"
       ]
      },
      {
       "output_type": "stream",
       "stream": "stderr",
       "text": [
        "\r",
        "Epoch 27/30:  24%|\u2588\u2588\u258e       | 67/285 [00:00<00:01, 203.61batches/s]"
       ]
      },
      {
       "output_type": "stream",
       "stream": "stderr",
       "text": [
        "\r",
        "Epoch 27/30:  32%|\u2588\u2588\u2588\u258f      | 92/285 [00:00<00:00, 215.44batches/s]"
       ]
      },
      {
       "output_type": "stream",
       "stream": "stderr",
       "text": [
        "\r",
        "Epoch 27/30:  42%|\u2588\u2588\u2588\u2588\u258f     | 119/285 [00:00<00:00, 228.06batches/s]"
       ]
      },
      {
       "output_type": "stream",
       "stream": "stderr",
       "text": [
        "\r",
        "Epoch 27/30:  51%|\u2588\u2588\u2588\u2588\u2588     | 145/285 [00:00<00:00, 235.49batches/s]"
       ]
      },
      {
       "output_type": "stream",
       "stream": "stderr",
       "text": [
        "\r",
        "Epoch 27/30:  59%|\u2588\u2588\u2588\u2588\u2588\u258a    | 167/285 [00:00<00:00, 228.63batches/s]"
       ]
      },
      {
       "output_type": "stream",
       "stream": "stderr",
       "text": [
        "\r",
        "Epoch 27/30:  68%|\u2588\u2588\u2588\u2588\u2588\u2588\u258a   | 193/285 [00:00<00:00, 235.67batches/s]"
       ]
      },
      {
       "output_type": "stream",
       "stream": "stderr",
       "text": [
        "\r",
        "Epoch 27/30:  77%|\u2588\u2588\u2588\u2588\u2588\u2588\u2588\u258b  | 220/285 [00:00<00:00, 243.56batches/s]"
       ]
      },
      {
       "output_type": "stream",
       "stream": "stderr",
       "text": [
        "\r",
        "Epoch 27/30:  86%|\u2588\u2588\u2588\u2588\u2588\u2588\u2588\u2588\u258c | 245/285 [00:01<00:00, 243.56batches/s]"
       ]
      },
      {
       "output_type": "stream",
       "stream": "stderr",
       "text": [
        "\r",
        "Epoch 27/30:  95%|\u2588\u2588\u2588\u2588\u2588\u2588\u2588\u2588\u2588\u258c| 271/285 [00:01<00:00, 247.41batches/s]"
       ]
      },
      {
       "output_type": "stream",
       "stream": "stderr",
       "text": [
        "\r",
        "Epoch 27/30: 100%|\u2588\u2588\u2588\u2588\u2588\u2588\u2588\u2588\u2588\u2588| 285/285 [00:01<00:00, 241.04batches/s]"
       ]
      },
      {
       "output_type": "stream",
       "stream": "stderr",
       "text": [
        "\n",
        "\r",
        "Epoch 28/30:   0%|          | 0/285 [00:00<?, ?batches/s]"
       ]
      },
      {
       "output_type": "stream",
       "stream": "stderr",
       "text": [
        "\r",
        "Epoch 28/30:   6%|\u258b         | 18/285 [00:00<00:01, 177.78batches/s]"
       ]
      },
      {
       "output_type": "stream",
       "stream": "stderr",
       "text": [
        "\r",
        "Epoch 28/30:  16%|\u2588\u258c        | 45/285 [00:00<00:01, 197.86batches/s]"
       ]
      },
      {
       "output_type": "stream",
       "stream": "stderr",
       "text": [
        "\r",
        "Epoch 28/30:  26%|\u2588\u2588\u258c       | 73/285 [00:00<00:00, 216.92batches/s]"
       ]
      },
      {
       "output_type": "stream",
       "stream": "stderr",
       "text": [
        "\r",
        "Epoch 28/30:  35%|\u2588\u2588\u2588\u258c      | 101/285 [00:00<00:00, 231.26batches/s]"
       ]
      },
      {
       "output_type": "stream",
       "stream": "stderr",
       "text": [
        "\r",
        "Epoch 28/30:  45%|\u2588\u2588\u2588\u2588\u258c     | 129/285 [00:00<00:00, 243.35batches/s]"
       ]
      },
      {
       "output_type": "stream",
       "stream": "stderr",
       "text": [
        "\r",
        "Epoch 28/30:  56%|\u2588\u2588\u2588\u2588\u2588\u258c    | 159/285 [00:00<00:00, 257.18batches/s]"
       ]
      },
      {
       "output_type": "stream",
       "stream": "stderr",
       "text": [
        "\r",
        "Epoch 28/30:  65%|\u2588\u2588\u2588\u2588\u2588\u2588\u258d   | 184/285 [00:00<00:00, 253.49batches/s]"
       ]
      },
      {
       "output_type": "stream",
       "stream": "stderr",
       "text": [
        "\r",
        "Epoch 28/30:  74%|\u2588\u2588\u2588\u2588\u2588\u2588\u2588\u258d  | 212/285 [00:00<00:00, 260.27batches/s]"
       ]
      },
      {
       "output_type": "stream",
       "stream": "stderr",
       "text": [
        "\r",
        "Epoch 28/30:  85%|\u2588\u2588\u2588\u2588\u2588\u2588\u2588\u2588\u258d | 241/285 [00:00<00:00, 267.50batches/s]"
       ]
      },
      {
       "output_type": "stream",
       "stream": "stderr",
       "text": [
        "\r",
        "Epoch 28/30:  95%|\u2588\u2588\u2588\u2588\u2588\u2588\u2588\u2588\u2588\u258c| 271/285 [00:01<00:00, 275.23batches/s]"
       ]
      },
      {
       "output_type": "stream",
       "stream": "stderr",
       "text": [
        "\r",
        "Epoch 28/30: 100%|\u2588\u2588\u2588\u2588\u2588\u2588\u2588\u2588\u2588\u2588| 285/285 [00:01<00:00, 266.72batches/s]"
       ]
      },
      {
       "output_type": "stream",
       "stream": "stderr",
       "text": [
        "\n",
        "\r",
        "Epoch 29/30:   0%|          | 0/285 [00:00<?, ?batches/s]"
       ]
      },
      {
       "output_type": "stream",
       "stream": "stderr",
       "text": [
        "\r",
        "Epoch 29/30:   8%|\u258a         | 24/285 [00:00<00:01, 239.95batches/s]"
       ]
      },
      {
       "output_type": "stream",
       "stream": "stderr",
       "text": [
        "\r",
        "Epoch 29/30:  19%|\u2588\u2589        | 55/285 [00:00<00:00, 255.77batches/s]"
       ]
      },
      {
       "output_type": "stream",
       "stream": "stderr",
       "text": [
        "\r",
        "Epoch 29/30:  29%|\u2588\u2588\u2589       | 82/285 [00:00<00:00, 259.51batches/s]"
       ]
      },
      {
       "output_type": "stream",
       "stream": "stderr",
       "text": [
        "\r",
        "Epoch 29/30:  39%|\u2588\u2588\u2588\u2589      | 111/285 [00:00<00:00, 266.83batches/s]"
       ]
      },
      {
       "output_type": "stream",
       "stream": "stderr",
       "text": [
        "\r",
        "Epoch 29/30:  49%|\u2588\u2588\u2588\u2588\u2589     | 140/285 [00:00<00:00, 271.78batches/s]"
       ]
      },
      {
       "output_type": "stream",
       "stream": "stderr",
       "text": [
        "\r",
        "Epoch 29/30:  59%|\u2588\u2588\u2588\u2588\u2588\u2589    | 168/285 [00:00<00:00, 274.00batches/s]"
       ]
      },
      {
       "output_type": "stream",
       "stream": "stderr",
       "text": [
        "\r",
        "Epoch 29/30:  69%|\u2588\u2588\u2588\u2588\u2588\u2588\u2589   | 197/285 [00:00<00:00, 277.21batches/s]"
       ]
      },
      {
       "output_type": "stream",
       "stream": "stderr",
       "text": [
        "\r",
        "Epoch 29/30:  80%|\u2588\u2588\u2588\u2588\u2588\u2588\u2588\u2589  | 227/285 [00:00<00:00, 283.26batches/s]"
       ]
      },
      {
       "output_type": "stream",
       "stream": "stderr",
       "text": [
        "\r",
        "Epoch 29/30:  90%|\u2588\u2588\u2588\u2588\u2588\u2588\u2588\u2588\u2589 | 256/285 [00:00<00:00, 285.18batches/s]"
       ]
      },
      {
       "output_type": "stream",
       "stream": "stderr",
       "text": [
        "\r",
        "Epoch 29/30: 100%|\u2588\u2588\u2588\u2588\u2588\u2588\u2588\u2588\u2588\u2589| 284/285 [00:01<00:00, 282.99batches/s]"
       ]
      },
      {
       "output_type": "stream",
       "stream": "stderr",
       "text": [
        "\r",
        "Epoch 29/30: 100%|\u2588\u2588\u2588\u2588\u2588\u2588\u2588\u2588\u2588\u2588| 285/285 [00:01<00:00, 280.26batches/s]"
       ]
      },
      {
       "output_type": "stream",
       "stream": "stderr",
       "text": [
        "\n",
        "\r",
        "Epoch 30/30:   0%|          | 0/285 [00:00<?, ?batches/s]"
       ]
      },
      {
       "output_type": "stream",
       "stream": "stderr",
       "text": [
        "\r",
        "Epoch 30/30:   6%|\u258b         | 18/285 [00:00<00:01, 178.03batches/s]"
       ]
      },
      {
       "output_type": "stream",
       "stream": "stderr",
       "text": [
        "\r",
        "Epoch 30/30:  16%|\u2588\u258b        | 47/285 [00:00<00:01, 201.13batches/s]"
       ]
      },
      {
       "output_type": "stream",
       "stream": "stderr",
       "text": [
        "\r",
        "Epoch 30/30:  28%|\u2588\u2588\u258a       | 79/285 [00:00<00:00, 225.44batches/s]"
       ]
      },
      {
       "output_type": "stream",
       "stream": "stderr",
       "text": [
        "\r",
        "Epoch 30/30:  39%|\u2588\u2588\u2588\u2589      | 112/285 [00:00<00:00, 247.90batches/s]"
       ]
      },
      {
       "output_type": "stream",
       "stream": "stderr",
       "text": [
        "\r",
        "Epoch 30/30:  50%|\u2588\u2588\u2588\u2588\u2588     | 143/285 [00:00<00:00, 263.47batches/s]"
       ]
      },
      {
       "output_type": "stream",
       "stream": "stderr",
       "text": [
        "\r",
        "Epoch 30/30:  61%|\u2588\u2588\u2588\u2588\u2588\u2588\u258f   | 175/285 [00:00<00:00, 277.01batches/s]"
       ]
      },
      {
       "output_type": "stream",
       "stream": "stderr",
       "text": [
        "\r",
        "Epoch 30/30:  73%|\u2588\u2588\u2588\u2588\u2588\u2588\u2588\u258e  | 207/285 [00:00<00:00, 287.70batches/s]"
       ]
      },
      {
       "output_type": "stream",
       "stream": "stderr",
       "text": [
        "\r",
        "Epoch 30/30:  84%|\u2588\u2588\u2588\u2588\u2588\u2588\u2588\u2588\u258e | 238/285 [00:00<00:00, 292.59batches/s]"
       ]
      },
      {
       "output_type": "stream",
       "stream": "stderr",
       "text": [
        "\r",
        "Epoch 30/30:  94%|\u2588\u2588\u2588\u2588\u2588\u2588\u2588\u2588\u2588\u258d| 268/285 [00:00<00:00, 293.31batches/s]"
       ]
      },
      {
       "output_type": "stream",
       "stream": "stderr",
       "text": [
        "\r",
        "Epoch 30/30: 100%|\u2588\u2588\u2588\u2588\u2588\u2588\u2588\u2588\u2588\u2588| 285/285 [00:00<00:00, 291.16batches/s]"
       ]
      },
      {
       "output_type": "stream",
       "stream": "stdout",
       "text": [
        "Nice Job! Test Accuracy is 0.8040000200271606\n"
       ]
      },
      {
       "output_type": "stream",
       "stream": "stderr",
       "text": [
        "\n"
       ]
      }
     ],
     "prompt_number": 19
    },
    {
     "cell_type": "markdown",
     "metadata": {},
     "source": [
      "# Multiple layers\n",
      "Good job!  You built a one layer TensorFlow network!  However, you want to build more than one layer.  This is deep learning after all!  In the next section, you will start to satisfy your need for more layers."
     ]
    }
   ],
   "metadata": {}
  }
 ]
}